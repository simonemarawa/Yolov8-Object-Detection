{
  "nbformat": 4,
  "nbformat_minor": 0,
  "metadata": {
    "colab": {
      "provenance": []
    },
    "kernelspec": {
      "name": "python3",
      "display_name": "Python 3"
    },
    "language_info": {
      "name": "python"
    },
    "gpuClass": "standard",
    "widgets": {
      "application/vnd.jupyter.widget-state+json": {
        "1908080916d8418da2acfb47e3c8ab65": {
          "model_module": "@jupyter-widgets/controls",
          "model_name": "HBoxModel",
          "model_module_version": "1.5.0",
          "state": {
            "_dom_classes": [],
            "_model_module": "@jupyter-widgets/controls",
            "_model_module_version": "1.5.0",
            "_model_name": "HBoxModel",
            "_view_count": null,
            "_view_module": "@jupyter-widgets/controls",
            "_view_module_version": "1.5.0",
            "_view_name": "HBoxView",
            "box_style": "",
            "children": [
              "IPY_MODEL_98fd6a2d942f42bea2d47e41563a068b",
              "IPY_MODEL_3a7e7f1d6b034eb29aea53773ee36722",
              "IPY_MODEL_afb28be75b1e468f98d2cfe59a89ec56"
            ],
            "layout": "IPY_MODEL_fc30e1ad064c465d8f598f9067a24a77"
          }
        },
        "98fd6a2d942f42bea2d47e41563a068b": {
          "model_module": "@jupyter-widgets/controls",
          "model_name": "HTMLModel",
          "model_module_version": "1.5.0",
          "state": {
            "_dom_classes": [],
            "_model_module": "@jupyter-widgets/controls",
            "_model_module_version": "1.5.0",
            "_model_name": "HTMLModel",
            "_view_count": null,
            "_view_module": "@jupyter-widgets/controls",
            "_view_module_version": "1.5.0",
            "_view_name": "HTMLView",
            "description": "",
            "description_tooltip": null,
            "layout": "IPY_MODEL_d533684418f7460589db6f9184ab9a1a",
            "placeholder": "​",
            "style": "IPY_MODEL_671b9e76bc91472f9b114fb22c311020",
            "value": "100%"
          }
        },
        "3a7e7f1d6b034eb29aea53773ee36722": {
          "model_module": "@jupyter-widgets/controls",
          "model_name": "FloatProgressModel",
          "model_module_version": "1.5.0",
          "state": {
            "_dom_classes": [],
            "_model_module": "@jupyter-widgets/controls",
            "_model_module_version": "1.5.0",
            "_model_name": "FloatProgressModel",
            "_view_count": null,
            "_view_module": "@jupyter-widgets/controls",
            "_view_module_version": "1.5.0",
            "_view_name": "ProgressView",
            "bar_style": "success",
            "description": "",
            "description_tooltip": null,
            "layout": "IPY_MODEL_06e61ffc2d304f83b77c4837395f5044",
            "max": 1962,
            "min": 0,
            "orientation": "horizontal",
            "style": "IPY_MODEL_31f19353ad5247ba8c1c42df2b720e55",
            "value": 1962
          }
        },
        "afb28be75b1e468f98d2cfe59a89ec56": {
          "model_module": "@jupyter-widgets/controls",
          "model_name": "HTMLModel",
          "model_module_version": "1.5.0",
          "state": {
            "_dom_classes": [],
            "_model_module": "@jupyter-widgets/controls",
            "_model_module_version": "1.5.0",
            "_model_name": "HTMLModel",
            "_view_count": null,
            "_view_module": "@jupyter-widgets/controls",
            "_view_module_version": "1.5.0",
            "_view_name": "HTMLView",
            "description": "",
            "description_tooltip": null,
            "layout": "IPY_MODEL_b8c8a2da462944e995f6816cef87f581",
            "placeholder": "​",
            "style": "IPY_MODEL_22577db0c1b44b118ee0af7d76c4aabe",
            "value": " 1962/1962 [17:25&lt;00:00,  2.04it/s]"
          }
        },
        "fc30e1ad064c465d8f598f9067a24a77": {
          "model_module": "@jupyter-widgets/base",
          "model_name": "LayoutModel",
          "model_module_version": "1.2.0",
          "state": {
            "_model_module": "@jupyter-widgets/base",
            "_model_module_version": "1.2.0",
            "_model_name": "LayoutModel",
            "_view_count": null,
            "_view_module": "@jupyter-widgets/base",
            "_view_module_version": "1.2.0",
            "_view_name": "LayoutView",
            "align_content": null,
            "align_items": null,
            "align_self": null,
            "border": null,
            "bottom": null,
            "display": null,
            "flex": null,
            "flex_flow": null,
            "grid_area": null,
            "grid_auto_columns": null,
            "grid_auto_flow": null,
            "grid_auto_rows": null,
            "grid_column": null,
            "grid_gap": null,
            "grid_row": null,
            "grid_template_areas": null,
            "grid_template_columns": null,
            "grid_template_rows": null,
            "height": null,
            "justify_content": null,
            "justify_items": null,
            "left": null,
            "margin": null,
            "max_height": null,
            "max_width": null,
            "min_height": null,
            "min_width": null,
            "object_fit": null,
            "object_position": null,
            "order": null,
            "overflow": null,
            "overflow_x": null,
            "overflow_y": null,
            "padding": null,
            "right": null,
            "top": null,
            "visibility": null,
            "width": null
          }
        },
        "d533684418f7460589db6f9184ab9a1a": {
          "model_module": "@jupyter-widgets/base",
          "model_name": "LayoutModel",
          "model_module_version": "1.2.0",
          "state": {
            "_model_module": "@jupyter-widgets/base",
            "_model_module_version": "1.2.0",
            "_model_name": "LayoutModel",
            "_view_count": null,
            "_view_module": "@jupyter-widgets/base",
            "_view_module_version": "1.2.0",
            "_view_name": "LayoutView",
            "align_content": null,
            "align_items": null,
            "align_self": null,
            "border": null,
            "bottom": null,
            "display": null,
            "flex": null,
            "flex_flow": null,
            "grid_area": null,
            "grid_auto_columns": null,
            "grid_auto_flow": null,
            "grid_auto_rows": null,
            "grid_column": null,
            "grid_gap": null,
            "grid_row": null,
            "grid_template_areas": null,
            "grid_template_columns": null,
            "grid_template_rows": null,
            "height": null,
            "justify_content": null,
            "justify_items": null,
            "left": null,
            "margin": null,
            "max_height": null,
            "max_width": null,
            "min_height": null,
            "min_width": null,
            "object_fit": null,
            "object_position": null,
            "order": null,
            "overflow": null,
            "overflow_x": null,
            "overflow_y": null,
            "padding": null,
            "right": null,
            "top": null,
            "visibility": null,
            "width": null
          }
        },
        "671b9e76bc91472f9b114fb22c311020": {
          "model_module": "@jupyter-widgets/controls",
          "model_name": "DescriptionStyleModel",
          "model_module_version": "1.5.0",
          "state": {
            "_model_module": "@jupyter-widgets/controls",
            "_model_module_version": "1.5.0",
            "_model_name": "DescriptionStyleModel",
            "_view_count": null,
            "_view_module": "@jupyter-widgets/base",
            "_view_module_version": "1.2.0",
            "_view_name": "StyleView",
            "description_width": ""
          }
        },
        "06e61ffc2d304f83b77c4837395f5044": {
          "model_module": "@jupyter-widgets/base",
          "model_name": "LayoutModel",
          "model_module_version": "1.2.0",
          "state": {
            "_model_module": "@jupyter-widgets/base",
            "_model_module_version": "1.2.0",
            "_model_name": "LayoutModel",
            "_view_count": null,
            "_view_module": "@jupyter-widgets/base",
            "_view_module_version": "1.2.0",
            "_view_name": "LayoutView",
            "align_content": null,
            "align_items": null,
            "align_self": null,
            "border": null,
            "bottom": null,
            "display": null,
            "flex": null,
            "flex_flow": null,
            "grid_area": null,
            "grid_auto_columns": null,
            "grid_auto_flow": null,
            "grid_auto_rows": null,
            "grid_column": null,
            "grid_gap": null,
            "grid_row": null,
            "grid_template_areas": null,
            "grid_template_columns": null,
            "grid_template_rows": null,
            "height": null,
            "justify_content": null,
            "justify_items": null,
            "left": null,
            "margin": null,
            "max_height": null,
            "max_width": null,
            "min_height": null,
            "min_width": null,
            "object_fit": null,
            "object_position": null,
            "order": null,
            "overflow": null,
            "overflow_x": null,
            "overflow_y": null,
            "padding": null,
            "right": null,
            "top": null,
            "visibility": null,
            "width": null
          }
        },
        "31f19353ad5247ba8c1c42df2b720e55": {
          "model_module": "@jupyter-widgets/controls",
          "model_name": "ProgressStyleModel",
          "model_module_version": "1.5.0",
          "state": {
            "_model_module": "@jupyter-widgets/controls",
            "_model_module_version": "1.5.0",
            "_model_name": "ProgressStyleModel",
            "_view_count": null,
            "_view_module": "@jupyter-widgets/base",
            "_view_module_version": "1.2.0",
            "_view_name": "StyleView",
            "bar_color": null,
            "description_width": ""
          }
        },
        "b8c8a2da462944e995f6816cef87f581": {
          "model_module": "@jupyter-widgets/base",
          "model_name": "LayoutModel",
          "model_module_version": "1.2.0",
          "state": {
            "_model_module": "@jupyter-widgets/base",
            "_model_module_version": "1.2.0",
            "_model_name": "LayoutModel",
            "_view_count": null,
            "_view_module": "@jupyter-widgets/base",
            "_view_module_version": "1.2.0",
            "_view_name": "LayoutView",
            "align_content": null,
            "align_items": null,
            "align_self": null,
            "border": null,
            "bottom": null,
            "display": null,
            "flex": null,
            "flex_flow": null,
            "grid_area": null,
            "grid_auto_columns": null,
            "grid_auto_flow": null,
            "grid_auto_rows": null,
            "grid_column": null,
            "grid_gap": null,
            "grid_row": null,
            "grid_template_areas": null,
            "grid_template_columns": null,
            "grid_template_rows": null,
            "height": null,
            "justify_content": null,
            "justify_items": null,
            "left": null,
            "margin": null,
            "max_height": null,
            "max_width": null,
            "min_height": null,
            "min_width": null,
            "object_fit": null,
            "object_position": null,
            "order": null,
            "overflow": null,
            "overflow_x": null,
            "overflow_y": null,
            "padding": null,
            "right": null,
            "top": null,
            "visibility": null,
            "width": null
          }
        },
        "22577db0c1b44b118ee0af7d76c4aabe": {
          "model_module": "@jupyter-widgets/controls",
          "model_name": "DescriptionStyleModel",
          "model_module_version": "1.5.0",
          "state": {
            "_model_module": "@jupyter-widgets/controls",
            "_model_module_version": "1.5.0",
            "_model_name": "DescriptionStyleModel",
            "_view_count": null,
            "_view_module": "@jupyter-widgets/base",
            "_view_module_version": "1.2.0",
            "_view_name": "StyleView",
            "description_width": ""
          }
        },
        "d7242cc9254240d39825cf20f0429745": {
          "model_module": "@jupyter-widgets/controls",
          "model_name": "HBoxModel",
          "model_module_version": "1.5.0",
          "state": {
            "_dom_classes": [],
            "_model_module": "@jupyter-widgets/controls",
            "_model_module_version": "1.5.0",
            "_model_name": "HBoxModel",
            "_view_count": null,
            "_view_module": "@jupyter-widgets/controls",
            "_view_module_version": "1.5.0",
            "_view_name": "HBoxView",
            "box_style": "",
            "children": [
              "IPY_MODEL_e9a89a69575545b1bee9461391fa14fd",
              "IPY_MODEL_af62433b4f2c44cda5c1344a2649f663",
              "IPY_MODEL_2797c44c7494430eaf8f88954a0c1bfe"
            ],
            "layout": "IPY_MODEL_1118c649efa94d5182280fd87b36d85b"
          }
        },
        "e9a89a69575545b1bee9461391fa14fd": {
          "model_module": "@jupyter-widgets/controls",
          "model_name": "HTMLModel",
          "model_module_version": "1.5.0",
          "state": {
            "_dom_classes": [],
            "_model_module": "@jupyter-widgets/controls",
            "_model_module_version": "1.5.0",
            "_model_name": "HTMLModel",
            "_view_count": null,
            "_view_module": "@jupyter-widgets/controls",
            "_view_module_version": "1.5.0",
            "_view_name": "HTMLView",
            "description": "",
            "description_tooltip": null,
            "layout": "IPY_MODEL_8e9793efe64b42f8a7be1071b6bced15",
            "placeholder": "​",
            "style": "IPY_MODEL_466038aba8444f2988e84a93de76fb61",
            "value": "100%"
          }
        },
        "af62433b4f2c44cda5c1344a2649f663": {
          "model_module": "@jupyter-widgets/controls",
          "model_name": "FloatProgressModel",
          "model_module_version": "1.5.0",
          "state": {
            "_dom_classes": [],
            "_model_module": "@jupyter-widgets/controls",
            "_model_module_version": "1.5.0",
            "_model_name": "FloatProgressModel",
            "_view_count": null,
            "_view_module": "@jupyter-widgets/controls",
            "_view_module_version": "1.5.0",
            "_view_name": "ProgressView",
            "bar_style": "success",
            "description": "",
            "description_tooltip": null,
            "layout": "IPY_MODEL_d719ec5574e2400cbfb1bac5b866b708",
            "max": 490,
            "min": 0,
            "orientation": "horizontal",
            "style": "IPY_MODEL_137c0b2476cc40d7a130f8dffec34388",
            "value": 490
          }
        },
        "2797c44c7494430eaf8f88954a0c1bfe": {
          "model_module": "@jupyter-widgets/controls",
          "model_name": "HTMLModel",
          "model_module_version": "1.5.0",
          "state": {
            "_dom_classes": [],
            "_model_module": "@jupyter-widgets/controls",
            "_model_module_version": "1.5.0",
            "_model_name": "HTMLModel",
            "_view_count": null,
            "_view_module": "@jupyter-widgets/controls",
            "_view_module_version": "1.5.0",
            "_view_name": "HTMLView",
            "description": "",
            "description_tooltip": null,
            "layout": "IPY_MODEL_d3c2281f2e5a48479cefb16bf7f08d32",
            "placeholder": "​",
            "style": "IPY_MODEL_817829eb830f435eafa848cef33e31af",
            "value": " 490/490 [04:09&lt;00:00,  2.01it/s]"
          }
        },
        "1118c649efa94d5182280fd87b36d85b": {
          "model_module": "@jupyter-widgets/base",
          "model_name": "LayoutModel",
          "model_module_version": "1.2.0",
          "state": {
            "_model_module": "@jupyter-widgets/base",
            "_model_module_version": "1.2.0",
            "_model_name": "LayoutModel",
            "_view_count": null,
            "_view_module": "@jupyter-widgets/base",
            "_view_module_version": "1.2.0",
            "_view_name": "LayoutView",
            "align_content": null,
            "align_items": null,
            "align_self": null,
            "border": null,
            "bottom": null,
            "display": null,
            "flex": null,
            "flex_flow": null,
            "grid_area": null,
            "grid_auto_columns": null,
            "grid_auto_flow": null,
            "grid_auto_rows": null,
            "grid_column": null,
            "grid_gap": null,
            "grid_row": null,
            "grid_template_areas": null,
            "grid_template_columns": null,
            "grid_template_rows": null,
            "height": null,
            "justify_content": null,
            "justify_items": null,
            "left": null,
            "margin": null,
            "max_height": null,
            "max_width": null,
            "min_height": null,
            "min_width": null,
            "object_fit": null,
            "object_position": null,
            "order": null,
            "overflow": null,
            "overflow_x": null,
            "overflow_y": null,
            "padding": null,
            "right": null,
            "top": null,
            "visibility": null,
            "width": null
          }
        },
        "8e9793efe64b42f8a7be1071b6bced15": {
          "model_module": "@jupyter-widgets/base",
          "model_name": "LayoutModel",
          "model_module_version": "1.2.0",
          "state": {
            "_model_module": "@jupyter-widgets/base",
            "_model_module_version": "1.2.0",
            "_model_name": "LayoutModel",
            "_view_count": null,
            "_view_module": "@jupyter-widgets/base",
            "_view_module_version": "1.2.0",
            "_view_name": "LayoutView",
            "align_content": null,
            "align_items": null,
            "align_self": null,
            "border": null,
            "bottom": null,
            "display": null,
            "flex": null,
            "flex_flow": null,
            "grid_area": null,
            "grid_auto_columns": null,
            "grid_auto_flow": null,
            "grid_auto_rows": null,
            "grid_column": null,
            "grid_gap": null,
            "grid_row": null,
            "grid_template_areas": null,
            "grid_template_columns": null,
            "grid_template_rows": null,
            "height": null,
            "justify_content": null,
            "justify_items": null,
            "left": null,
            "margin": null,
            "max_height": null,
            "max_width": null,
            "min_height": null,
            "min_width": null,
            "object_fit": null,
            "object_position": null,
            "order": null,
            "overflow": null,
            "overflow_x": null,
            "overflow_y": null,
            "padding": null,
            "right": null,
            "top": null,
            "visibility": null,
            "width": null
          }
        },
        "466038aba8444f2988e84a93de76fb61": {
          "model_module": "@jupyter-widgets/controls",
          "model_name": "DescriptionStyleModel",
          "model_module_version": "1.5.0",
          "state": {
            "_model_module": "@jupyter-widgets/controls",
            "_model_module_version": "1.5.0",
            "_model_name": "DescriptionStyleModel",
            "_view_count": null,
            "_view_module": "@jupyter-widgets/base",
            "_view_module_version": "1.2.0",
            "_view_name": "StyleView",
            "description_width": ""
          }
        },
        "d719ec5574e2400cbfb1bac5b866b708": {
          "model_module": "@jupyter-widgets/base",
          "model_name": "LayoutModel",
          "model_module_version": "1.2.0",
          "state": {
            "_model_module": "@jupyter-widgets/base",
            "_model_module_version": "1.2.0",
            "_model_name": "LayoutModel",
            "_view_count": null,
            "_view_module": "@jupyter-widgets/base",
            "_view_module_version": "1.2.0",
            "_view_name": "LayoutView",
            "align_content": null,
            "align_items": null,
            "align_self": null,
            "border": null,
            "bottom": null,
            "display": null,
            "flex": null,
            "flex_flow": null,
            "grid_area": null,
            "grid_auto_columns": null,
            "grid_auto_flow": null,
            "grid_auto_rows": null,
            "grid_column": null,
            "grid_gap": null,
            "grid_row": null,
            "grid_template_areas": null,
            "grid_template_columns": null,
            "grid_template_rows": null,
            "height": null,
            "justify_content": null,
            "justify_items": null,
            "left": null,
            "margin": null,
            "max_height": null,
            "max_width": null,
            "min_height": null,
            "min_width": null,
            "object_fit": null,
            "object_position": null,
            "order": null,
            "overflow": null,
            "overflow_x": null,
            "overflow_y": null,
            "padding": null,
            "right": null,
            "top": null,
            "visibility": null,
            "width": null
          }
        },
        "137c0b2476cc40d7a130f8dffec34388": {
          "model_module": "@jupyter-widgets/controls",
          "model_name": "ProgressStyleModel",
          "model_module_version": "1.5.0",
          "state": {
            "_model_module": "@jupyter-widgets/controls",
            "_model_module_version": "1.5.0",
            "_model_name": "ProgressStyleModel",
            "_view_count": null,
            "_view_module": "@jupyter-widgets/base",
            "_view_module_version": "1.2.0",
            "_view_name": "StyleView",
            "bar_color": null,
            "description_width": ""
          }
        },
        "d3c2281f2e5a48479cefb16bf7f08d32": {
          "model_module": "@jupyter-widgets/base",
          "model_name": "LayoutModel",
          "model_module_version": "1.2.0",
          "state": {
            "_model_module": "@jupyter-widgets/base",
            "_model_module_version": "1.2.0",
            "_model_name": "LayoutModel",
            "_view_count": null,
            "_view_module": "@jupyter-widgets/base",
            "_view_module_version": "1.2.0",
            "_view_name": "LayoutView",
            "align_content": null,
            "align_items": null,
            "align_self": null,
            "border": null,
            "bottom": null,
            "display": null,
            "flex": null,
            "flex_flow": null,
            "grid_area": null,
            "grid_auto_columns": null,
            "grid_auto_flow": null,
            "grid_auto_rows": null,
            "grid_column": null,
            "grid_gap": null,
            "grid_row": null,
            "grid_template_areas": null,
            "grid_template_columns": null,
            "grid_template_rows": null,
            "height": null,
            "justify_content": null,
            "justify_items": null,
            "left": null,
            "margin": null,
            "max_height": null,
            "max_width": null,
            "min_height": null,
            "min_width": null,
            "object_fit": null,
            "object_position": null,
            "order": null,
            "overflow": null,
            "overflow_x": null,
            "overflow_y": null,
            "padding": null,
            "right": null,
            "top": null,
            "visibility": null,
            "width": null
          }
        },
        "817829eb830f435eafa848cef33e31af": {
          "model_module": "@jupyter-widgets/controls",
          "model_name": "DescriptionStyleModel",
          "model_module_version": "1.5.0",
          "state": {
            "_model_module": "@jupyter-widgets/controls",
            "_model_module_version": "1.5.0",
            "_model_name": "DescriptionStyleModel",
            "_view_count": null,
            "_view_module": "@jupyter-widgets/base",
            "_view_module_version": "1.2.0",
            "_view_name": "StyleView",
            "description_width": ""
          }
        },
        "241c17f8324c4b8d967b1ba2e885776f": {
          "model_module": "@jupyter-widgets/controls",
          "model_name": "HBoxModel",
          "model_module_version": "1.5.0",
          "state": {
            "_dom_classes": [],
            "_model_module": "@jupyter-widgets/controls",
            "_model_module_version": "1.5.0",
            "_model_name": "HBoxModel",
            "_view_count": null,
            "_view_module": "@jupyter-widgets/controls",
            "_view_module_version": "1.5.0",
            "_view_name": "HBoxView",
            "box_style": "",
            "children": [
              "IPY_MODEL_6967a839416844e7b2fcb4a42f211fec",
              "IPY_MODEL_96f156d3aa0a4a34a5ddb6f694cc770c",
              "IPY_MODEL_fc1d7ac2634848b9994c6d6e1d7d9b66"
            ],
            "layout": "IPY_MODEL_8d57571210cf4f74b2311f98a211bd78"
          }
        },
        "6967a839416844e7b2fcb4a42f211fec": {
          "model_module": "@jupyter-widgets/controls",
          "model_name": "HTMLModel",
          "model_module_version": "1.5.0",
          "state": {
            "_dom_classes": [],
            "_model_module": "@jupyter-widgets/controls",
            "_model_module_version": "1.5.0",
            "_model_name": "HTMLModel",
            "_view_count": null,
            "_view_module": "@jupyter-widgets/controls",
            "_view_module_version": "1.5.0",
            "_view_name": "HTMLView",
            "description": "",
            "description_tooltip": null,
            "layout": "IPY_MODEL_da31c8dc9f3f4a66a4f1007452deb1ef",
            "placeholder": "​",
            "style": "IPY_MODEL_a355f22714d34877902dd883d530f958",
            "value": "100%"
          }
        },
        "96f156d3aa0a4a34a5ddb6f694cc770c": {
          "model_module": "@jupyter-widgets/controls",
          "model_name": "FloatProgressModel",
          "model_module_version": "1.5.0",
          "state": {
            "_dom_classes": [],
            "_model_module": "@jupyter-widgets/controls",
            "_model_module_version": "1.5.0",
            "_model_name": "FloatProgressModel",
            "_view_count": null,
            "_view_module": "@jupyter-widgets/controls",
            "_view_module_version": "1.5.0",
            "_view_name": "ProgressView",
            "bar_style": "success",
            "description": "",
            "description_tooltip": null,
            "layout": "IPY_MODEL_61524b267e9045749faf16d6236584dd",
            "max": 502,
            "min": 0,
            "orientation": "horizontal",
            "style": "IPY_MODEL_53488f18a1884465921bfc68b07cff5c",
            "value": 502
          }
        },
        "fc1d7ac2634848b9994c6d6e1d7d9b66": {
          "model_module": "@jupyter-widgets/controls",
          "model_name": "HTMLModel",
          "model_module_version": "1.5.0",
          "state": {
            "_dom_classes": [],
            "_model_module": "@jupyter-widgets/controls",
            "_model_module_version": "1.5.0",
            "_model_name": "HTMLModel",
            "_view_count": null,
            "_view_module": "@jupyter-widgets/controls",
            "_view_module_version": "1.5.0",
            "_view_name": "HTMLView",
            "description": "",
            "description_tooltip": null,
            "layout": "IPY_MODEL_2273e33f7c8e461298a270afa3dd40dd",
            "placeholder": "​",
            "style": "IPY_MODEL_80dadbf805ed471d98d00b90378bd69d",
            "value": " 502/502 [04:22&lt;00:00,  2.11it/s]"
          }
        },
        "8d57571210cf4f74b2311f98a211bd78": {
          "model_module": "@jupyter-widgets/base",
          "model_name": "LayoutModel",
          "model_module_version": "1.2.0",
          "state": {
            "_model_module": "@jupyter-widgets/base",
            "_model_module_version": "1.2.0",
            "_model_name": "LayoutModel",
            "_view_count": null,
            "_view_module": "@jupyter-widgets/base",
            "_view_module_version": "1.2.0",
            "_view_name": "LayoutView",
            "align_content": null,
            "align_items": null,
            "align_self": null,
            "border": null,
            "bottom": null,
            "display": null,
            "flex": null,
            "flex_flow": null,
            "grid_area": null,
            "grid_auto_columns": null,
            "grid_auto_flow": null,
            "grid_auto_rows": null,
            "grid_column": null,
            "grid_gap": null,
            "grid_row": null,
            "grid_template_areas": null,
            "grid_template_columns": null,
            "grid_template_rows": null,
            "height": null,
            "justify_content": null,
            "justify_items": null,
            "left": null,
            "margin": null,
            "max_height": null,
            "max_width": null,
            "min_height": null,
            "min_width": null,
            "object_fit": null,
            "object_position": null,
            "order": null,
            "overflow": null,
            "overflow_x": null,
            "overflow_y": null,
            "padding": null,
            "right": null,
            "top": null,
            "visibility": null,
            "width": null
          }
        },
        "da31c8dc9f3f4a66a4f1007452deb1ef": {
          "model_module": "@jupyter-widgets/base",
          "model_name": "LayoutModel",
          "model_module_version": "1.2.0",
          "state": {
            "_model_module": "@jupyter-widgets/base",
            "_model_module_version": "1.2.0",
            "_model_name": "LayoutModel",
            "_view_count": null,
            "_view_module": "@jupyter-widgets/base",
            "_view_module_version": "1.2.0",
            "_view_name": "LayoutView",
            "align_content": null,
            "align_items": null,
            "align_self": null,
            "border": null,
            "bottom": null,
            "display": null,
            "flex": null,
            "flex_flow": null,
            "grid_area": null,
            "grid_auto_columns": null,
            "grid_auto_flow": null,
            "grid_auto_rows": null,
            "grid_column": null,
            "grid_gap": null,
            "grid_row": null,
            "grid_template_areas": null,
            "grid_template_columns": null,
            "grid_template_rows": null,
            "height": null,
            "justify_content": null,
            "justify_items": null,
            "left": null,
            "margin": null,
            "max_height": null,
            "max_width": null,
            "min_height": null,
            "min_width": null,
            "object_fit": null,
            "object_position": null,
            "order": null,
            "overflow": null,
            "overflow_x": null,
            "overflow_y": null,
            "padding": null,
            "right": null,
            "top": null,
            "visibility": null,
            "width": null
          }
        },
        "a355f22714d34877902dd883d530f958": {
          "model_module": "@jupyter-widgets/controls",
          "model_name": "DescriptionStyleModel",
          "model_module_version": "1.5.0",
          "state": {
            "_model_module": "@jupyter-widgets/controls",
            "_model_module_version": "1.5.0",
            "_model_name": "DescriptionStyleModel",
            "_view_count": null,
            "_view_module": "@jupyter-widgets/base",
            "_view_module_version": "1.2.0",
            "_view_name": "StyleView",
            "description_width": ""
          }
        },
        "61524b267e9045749faf16d6236584dd": {
          "model_module": "@jupyter-widgets/base",
          "model_name": "LayoutModel",
          "model_module_version": "1.2.0",
          "state": {
            "_model_module": "@jupyter-widgets/base",
            "_model_module_version": "1.2.0",
            "_model_name": "LayoutModel",
            "_view_count": null,
            "_view_module": "@jupyter-widgets/base",
            "_view_module_version": "1.2.0",
            "_view_name": "LayoutView",
            "align_content": null,
            "align_items": null,
            "align_self": null,
            "border": null,
            "bottom": null,
            "display": null,
            "flex": null,
            "flex_flow": null,
            "grid_area": null,
            "grid_auto_columns": null,
            "grid_auto_flow": null,
            "grid_auto_rows": null,
            "grid_column": null,
            "grid_gap": null,
            "grid_row": null,
            "grid_template_areas": null,
            "grid_template_columns": null,
            "grid_template_rows": null,
            "height": null,
            "justify_content": null,
            "justify_items": null,
            "left": null,
            "margin": null,
            "max_height": null,
            "max_width": null,
            "min_height": null,
            "min_width": null,
            "object_fit": null,
            "object_position": null,
            "order": null,
            "overflow": null,
            "overflow_x": null,
            "overflow_y": null,
            "padding": null,
            "right": null,
            "top": null,
            "visibility": null,
            "width": null
          }
        },
        "53488f18a1884465921bfc68b07cff5c": {
          "model_module": "@jupyter-widgets/controls",
          "model_name": "ProgressStyleModel",
          "model_module_version": "1.5.0",
          "state": {
            "_model_module": "@jupyter-widgets/controls",
            "_model_module_version": "1.5.0",
            "_model_name": "ProgressStyleModel",
            "_view_count": null,
            "_view_module": "@jupyter-widgets/base",
            "_view_module_version": "1.2.0",
            "_view_name": "StyleView",
            "bar_color": null,
            "description_width": ""
          }
        },
        "2273e33f7c8e461298a270afa3dd40dd": {
          "model_module": "@jupyter-widgets/base",
          "model_name": "LayoutModel",
          "model_module_version": "1.2.0",
          "state": {
            "_model_module": "@jupyter-widgets/base",
            "_model_module_version": "1.2.0",
            "_model_name": "LayoutModel",
            "_view_count": null,
            "_view_module": "@jupyter-widgets/base",
            "_view_module_version": "1.2.0",
            "_view_name": "LayoutView",
            "align_content": null,
            "align_items": null,
            "align_self": null,
            "border": null,
            "bottom": null,
            "display": null,
            "flex": null,
            "flex_flow": null,
            "grid_area": null,
            "grid_auto_columns": null,
            "grid_auto_flow": null,
            "grid_auto_rows": null,
            "grid_column": null,
            "grid_gap": null,
            "grid_row": null,
            "grid_template_areas": null,
            "grid_template_columns": null,
            "grid_template_rows": null,
            "height": null,
            "justify_content": null,
            "justify_items": null,
            "left": null,
            "margin": null,
            "max_height": null,
            "max_width": null,
            "min_height": null,
            "min_width": null,
            "object_fit": null,
            "object_position": null,
            "order": null,
            "overflow": null,
            "overflow_x": null,
            "overflow_y": null,
            "padding": null,
            "right": null,
            "top": null,
            "visibility": null,
            "width": null
          }
        },
        "80dadbf805ed471d98d00b90378bd69d": {
          "model_module": "@jupyter-widgets/controls",
          "model_name": "DescriptionStyleModel",
          "model_module_version": "1.5.0",
          "state": {
            "_model_module": "@jupyter-widgets/controls",
            "_model_module_version": "1.5.0",
            "_model_name": "DescriptionStyleModel",
            "_view_count": null,
            "_view_module": "@jupyter-widgets/base",
            "_view_module_version": "1.2.0",
            "_view_name": "StyleView",
            "description_width": ""
          }
        },
        "0d360bf423524bbbb7caccbd936ce85f": {
          "model_module": "@jupyter-widgets/controls",
          "model_name": "HBoxModel",
          "model_module_version": "1.5.0",
          "state": {
            "_dom_classes": [],
            "_model_module": "@jupyter-widgets/controls",
            "_model_module_version": "1.5.0",
            "_model_name": "HBoxModel",
            "_view_count": null,
            "_view_module": "@jupyter-widgets/controls",
            "_view_module_version": "1.5.0",
            "_view_name": "HBoxView",
            "box_style": "",
            "children": [
              "IPY_MODEL_2adeccc4603c4f90a9b50b4cc12e54e8",
              "IPY_MODEL_ed47e892c651401c9040bf6051c48f43",
              "IPY_MODEL_59ab5d9526204904aa1c3a62f8e16879"
            ],
            "layout": "IPY_MODEL_c9330d4fbcf249149654a52e7aaf34cb"
          }
        },
        "2adeccc4603c4f90a9b50b4cc12e54e8": {
          "model_module": "@jupyter-widgets/controls",
          "model_name": "HTMLModel",
          "model_module_version": "1.5.0",
          "state": {
            "_dom_classes": [],
            "_model_module": "@jupyter-widgets/controls",
            "_model_module_version": "1.5.0",
            "_model_name": "HTMLModel",
            "_view_count": null,
            "_view_module": "@jupyter-widgets/controls",
            "_view_module_version": "1.5.0",
            "_view_name": "HTMLView",
            "description": "",
            "description_tooltip": null,
            "layout": "IPY_MODEL_6f8f41304b344076b208a0e093fa1d86",
            "placeholder": "​",
            "style": "IPY_MODEL_9b16df7610354215baa34f07e5b5f0ab",
            "value": "100%"
          }
        },
        "ed47e892c651401c9040bf6051c48f43": {
          "model_module": "@jupyter-widgets/controls",
          "model_name": "FloatProgressModel",
          "model_module_version": "1.5.0",
          "state": {
            "_dom_classes": [],
            "_model_module": "@jupyter-widgets/controls",
            "_model_module_version": "1.5.0",
            "_model_name": "FloatProgressModel",
            "_view_count": null,
            "_view_module": "@jupyter-widgets/controls",
            "_view_module_version": "1.5.0",
            "_view_name": "ProgressView",
            "bar_style": "success",
            "description": "",
            "description_tooltip": null,
            "layout": "IPY_MODEL_2b6bac6b5d7141008dd56634e06c89f1",
            "max": 20,
            "min": 0,
            "orientation": "horizontal",
            "style": "IPY_MODEL_8148c9c6c2534390993d6d72d6d03640",
            "value": 20
          }
        },
        "59ab5d9526204904aa1c3a62f8e16879": {
          "model_module": "@jupyter-widgets/controls",
          "model_name": "HTMLModel",
          "model_module_version": "1.5.0",
          "state": {
            "_dom_classes": [],
            "_model_module": "@jupyter-widgets/controls",
            "_model_module_version": "1.5.0",
            "_model_name": "HTMLModel",
            "_view_count": null,
            "_view_module": "@jupyter-widgets/controls",
            "_view_module_version": "1.5.0",
            "_view_name": "HTMLView",
            "description": "",
            "description_tooltip": null,
            "layout": "IPY_MODEL_ce0a7b771ecd4ee89751da9ab269db34",
            "placeholder": "​",
            "style": "IPY_MODEL_f6a47a097fdb4da0b3f76ba8aa560707",
            "value": " 20/20 [00:09&lt;00:00,  1.95it/s]"
          }
        },
        "c9330d4fbcf249149654a52e7aaf34cb": {
          "model_module": "@jupyter-widgets/base",
          "model_name": "LayoutModel",
          "model_module_version": "1.2.0",
          "state": {
            "_model_module": "@jupyter-widgets/base",
            "_model_module_version": "1.2.0",
            "_model_name": "LayoutModel",
            "_view_count": null,
            "_view_module": "@jupyter-widgets/base",
            "_view_module_version": "1.2.0",
            "_view_name": "LayoutView",
            "align_content": null,
            "align_items": null,
            "align_self": null,
            "border": null,
            "bottom": null,
            "display": null,
            "flex": null,
            "flex_flow": null,
            "grid_area": null,
            "grid_auto_columns": null,
            "grid_auto_flow": null,
            "grid_auto_rows": null,
            "grid_column": null,
            "grid_gap": null,
            "grid_row": null,
            "grid_template_areas": null,
            "grid_template_columns": null,
            "grid_template_rows": null,
            "height": null,
            "justify_content": null,
            "justify_items": null,
            "left": null,
            "margin": null,
            "max_height": null,
            "max_width": null,
            "min_height": null,
            "min_width": null,
            "object_fit": null,
            "object_position": null,
            "order": null,
            "overflow": null,
            "overflow_x": null,
            "overflow_y": null,
            "padding": null,
            "right": null,
            "top": null,
            "visibility": null,
            "width": null
          }
        },
        "6f8f41304b344076b208a0e093fa1d86": {
          "model_module": "@jupyter-widgets/base",
          "model_name": "LayoutModel",
          "model_module_version": "1.2.0",
          "state": {
            "_model_module": "@jupyter-widgets/base",
            "_model_module_version": "1.2.0",
            "_model_name": "LayoutModel",
            "_view_count": null,
            "_view_module": "@jupyter-widgets/base",
            "_view_module_version": "1.2.0",
            "_view_name": "LayoutView",
            "align_content": null,
            "align_items": null,
            "align_self": null,
            "border": null,
            "bottom": null,
            "display": null,
            "flex": null,
            "flex_flow": null,
            "grid_area": null,
            "grid_auto_columns": null,
            "grid_auto_flow": null,
            "grid_auto_rows": null,
            "grid_column": null,
            "grid_gap": null,
            "grid_row": null,
            "grid_template_areas": null,
            "grid_template_columns": null,
            "grid_template_rows": null,
            "height": null,
            "justify_content": null,
            "justify_items": null,
            "left": null,
            "margin": null,
            "max_height": null,
            "max_width": null,
            "min_height": null,
            "min_width": null,
            "object_fit": null,
            "object_position": null,
            "order": null,
            "overflow": null,
            "overflow_x": null,
            "overflow_y": null,
            "padding": null,
            "right": null,
            "top": null,
            "visibility": null,
            "width": null
          }
        },
        "9b16df7610354215baa34f07e5b5f0ab": {
          "model_module": "@jupyter-widgets/controls",
          "model_name": "DescriptionStyleModel",
          "model_module_version": "1.5.0",
          "state": {
            "_model_module": "@jupyter-widgets/controls",
            "_model_module_version": "1.5.0",
            "_model_name": "DescriptionStyleModel",
            "_view_count": null,
            "_view_module": "@jupyter-widgets/base",
            "_view_module_version": "1.2.0",
            "_view_name": "StyleView",
            "description_width": ""
          }
        },
        "2b6bac6b5d7141008dd56634e06c89f1": {
          "model_module": "@jupyter-widgets/base",
          "model_name": "LayoutModel",
          "model_module_version": "1.2.0",
          "state": {
            "_model_module": "@jupyter-widgets/base",
            "_model_module_version": "1.2.0",
            "_model_name": "LayoutModel",
            "_view_count": null,
            "_view_module": "@jupyter-widgets/base",
            "_view_module_version": "1.2.0",
            "_view_name": "LayoutView",
            "align_content": null,
            "align_items": null,
            "align_self": null,
            "border": null,
            "bottom": null,
            "display": null,
            "flex": null,
            "flex_flow": null,
            "grid_area": null,
            "grid_auto_columns": null,
            "grid_auto_flow": null,
            "grid_auto_rows": null,
            "grid_column": null,
            "grid_gap": null,
            "grid_row": null,
            "grid_template_areas": null,
            "grid_template_columns": null,
            "grid_template_rows": null,
            "height": null,
            "justify_content": null,
            "justify_items": null,
            "left": null,
            "margin": null,
            "max_height": null,
            "max_width": null,
            "min_height": null,
            "min_width": null,
            "object_fit": null,
            "object_position": null,
            "order": null,
            "overflow": null,
            "overflow_x": null,
            "overflow_y": null,
            "padding": null,
            "right": null,
            "top": null,
            "visibility": null,
            "width": null
          }
        },
        "8148c9c6c2534390993d6d72d6d03640": {
          "model_module": "@jupyter-widgets/controls",
          "model_name": "ProgressStyleModel",
          "model_module_version": "1.5.0",
          "state": {
            "_model_module": "@jupyter-widgets/controls",
            "_model_module_version": "1.5.0",
            "_model_name": "ProgressStyleModel",
            "_view_count": null,
            "_view_module": "@jupyter-widgets/base",
            "_view_module_version": "1.2.0",
            "_view_name": "StyleView",
            "bar_color": null,
            "description_width": ""
          }
        },
        "ce0a7b771ecd4ee89751da9ab269db34": {
          "model_module": "@jupyter-widgets/base",
          "model_name": "LayoutModel",
          "model_module_version": "1.2.0",
          "state": {
            "_model_module": "@jupyter-widgets/base",
            "_model_module_version": "1.2.0",
            "_model_name": "LayoutModel",
            "_view_count": null,
            "_view_module": "@jupyter-widgets/base",
            "_view_module_version": "1.2.0",
            "_view_name": "LayoutView",
            "align_content": null,
            "align_items": null,
            "align_self": null,
            "border": null,
            "bottom": null,
            "display": null,
            "flex": null,
            "flex_flow": null,
            "grid_area": null,
            "grid_auto_columns": null,
            "grid_auto_flow": null,
            "grid_auto_rows": null,
            "grid_column": null,
            "grid_gap": null,
            "grid_row": null,
            "grid_template_areas": null,
            "grid_template_columns": null,
            "grid_template_rows": null,
            "height": null,
            "justify_content": null,
            "justify_items": null,
            "left": null,
            "margin": null,
            "max_height": null,
            "max_width": null,
            "min_height": null,
            "min_width": null,
            "object_fit": null,
            "object_position": null,
            "order": null,
            "overflow": null,
            "overflow_x": null,
            "overflow_y": null,
            "padding": null,
            "right": null,
            "top": null,
            "visibility": null,
            "width": null
          }
        },
        "f6a47a097fdb4da0b3f76ba8aa560707": {
          "model_module": "@jupyter-widgets/controls",
          "model_name": "DescriptionStyleModel",
          "model_module_version": "1.5.0",
          "state": {
            "_model_module": "@jupyter-widgets/controls",
            "_model_module_version": "1.5.0",
            "_model_name": "DescriptionStyleModel",
            "_view_count": null,
            "_view_module": "@jupyter-widgets/base",
            "_view_module_version": "1.2.0",
            "_view_name": "StyleView",
            "description_width": ""
          }
        }
      }
    }
  },
  "cells": [
    {
      "cell_type": "markdown",
      "source": [
        "# Object Detection on Waste Recycling Plant Dataset\n",
        "\n",
        "In this notebook you will:\n",
        "- Train \n",
        "- Validate\n",
        "- Test\n",
        " \n",
        "a yolov8 custom model"
      ],
      "metadata": {
        "id": "jZVW2fRDNrda"
      }
    },
    {
      "cell_type": "markdown",
      "source": [
        "Source of dataset: https://www.kaggle.com/datasets/parohod/warp-waste-recycling-plant-dataset?select=.idea "
      ],
      "metadata": {
        "id": "3fpfpZJKn-Ja"
      }
    },
    {
      "cell_type": "markdown",
      "source": [
        "## Before you start ( i know its a lot of folders 😓)\n",
        "\n",
        "Create an <mark>'exam'</mark> folder in your Google Drive\n",
        "\n",
        "In the exam folder create a <mark>'yolov8'</mark> folder\n",
        "\n",
        "In the yolov8 folder create a <mark>'data'</mark> folder\n",
        "\n",
        "Upload your test data and your train data folders into the 'data' folder. (Note: images and labels should be in seperate files)\n",
        "\n",
        "\n",
        "FOR REFERENCE:\n",
        "![Screenshot 2023-04-13 at 8.50.58 PM.png](data:image/png;base64,iVBORw0KGgoAAAANSUhEUgAAAkoAAAIOCAYAAABH6iLjAAAMP2lDQ1BJQ0MgUHJvZmlsZQAASImVVwdYU8kWnluSkEBoAQSkhN4EkRpASggt9N5EJSQBQokxEFTs6KKCaxcL2NBVEQUrzYIidhbF3hcLKsq6WLArb1JA133le/N9c+e//5z5z5lzZ+69A4DacY5IlIeqA5AvLBTHBvvTk1NS6aSnAAMoIAMLADjcAhEzOjocwDLU/r28uw4QaXvFXqr1z/7/WjR4/AIuAEg0xBm8Am4+xAcBwKu4InEhAEQpbzalUCTFsAItMQwQ4oVSnCXHVVKcIcd7ZTbxsSyI2wFQUuFwxFkAqF6CPL2ImwU1VPshdhTyBEIA1OgQ++TnT+JBnA6xNbQRQSzVZ2T8oJP1N82MYU0OJ2sYy+ciK0oBggJRHmfa/5mO/13y8yRDPixhVckWh8RK5wzzdjN3UpgUq0DcJ8yIjIJYE+IPAp7MHmKUki0JSZDbowbcAhbMGdCB2JHHCQiD2ADiIGFeZLiCz8gUBLEhhisEnSooZMdDrAvxQn5BYJzCZrN4UqzCF9qQKWYxFfxZjljmV+rrviQ3ganQf53NZyv0MdXi7PgkiCkQmxcJEiMhVoXYoSA3LkxhM7Y4mxU5ZCOWxErjN4c4li8M9pfrY0WZ4qBYhX1ZfsHQfLHN2QJ2pALvL8yOD5HnB2vncmTxw7lgl/hCZsKQDr8gOXxoLjx+QKB87tgzvjAhTqHzQVToHysfi1NEedEKe9yUnxcs5U0hdikoilOMxRML4YKU6+OZosLoeHmceHEOJzRaHg++DIQDFggAdCCBNQNMAjlA0NnX2Afv5D1BgAPEIAvwgb2CGRqRJOsRwmscKAZ/QsQHBcPj/GW9fFAE+a/DrPxqDzJlvUWyEbngCcT5IAzkwXuJbJRw2FsieAwZwT+8c2DlwnjzYJX2/3t+iP3OMCETrmAkQx7pakOWxEBiADGEGES0wfVxH9wLD4dXP1idcAbuMTSP7/aEJ4QuwkPCNUI34dZEQYn4pygjQDfUD1LkIuPHXOCWUNMV98e9oTpUxnVwfWCPu0A/TNwXenaFLEsRtzQr9J+0/zaDH56Gwo7sSEbJI8h+ZOufR6raqroOq0hz/WN+5LFmDOebNdzzs3/WD9nnwTbsZ0tsIXYAO4OdwM5hR7BGQMdasSasAzsqxcOr67FsdQ15i5XFkwt1BP/wN/RkpZkscKx17HX8Iu8r5E+VvqMBa5JomliQlV1IZ8IvAp/OFnIdRtGdHJ2cAZB+X+Svrzcxsu8GotPxnZv3BwDerYODg4e/c6GtAOxzh9u/+TtnzYCfDmUAzjZzJeIiOYdLLwT4llCDO00PGAEzYA3n4wTcgBfwA4EgFESBeJACJsDos+E6F4MpYAaYC0pBOVgGVoP1YBPYCnaCPWA/aARHwAlwGlwAl8A1cAeunh7wAvSDd+AzgiAkhIrQED3EGLFA7BAnhIH4IIFIOBKLpCDpSBYiRCTIDGQeUo6sQNYjW5AaZB/SjJxAziFdyC3kAdKLvEY+oRiqgmqhhqglOhploEw0DI1Hx6NZ6GS0GJ2PLkHXotXobrQBPYFeQK+h3egLdAADmDKmg5lg9hgDY2FRWCqWiYmxWVgZVoFVY3VYC3zOV7BurA/7iBNxGk7H7eEKDsETcC4+GZ+FL8bX4zvxBrwdv4I/wPvxbwQqwYBgR/AksAnJhCzCFEIpoYKwnXCIcArupR7COyKRqEO0IrrDvZhCzCFOJy4mbiDWE48Tu4iPiAMkEkmPZEfyJkWROKRCUilpHWk3qZV0mdRD+qCkrGSs5KQUpJSqJFQqUapQ2qV0TOmy0lOlz2R1sgXZkxxF5pGnkZeSt5FbyBfJPeTPFA2KFcWbEk/JocylrKXUUU5R7lLeKCsrmyp7KMcoC5TnKK9V3qt8VvmB8kcVTRVbFZZKmopEZYnKDpXjKrdU3lCpVEuqHzWVWkhdQq2hnqTep35Qpak6qLJVeaqzVStVG1Qvq75UI6tZqDHVJqgVq1WoHVC7qNanTla3VGepc9RnqVeqN6vfUB/QoGmM0YjSyNdYrLFL45zGM02SpqVmoCZPc77mVs2Tmo9oGM2MxqJxafNo22inaD1aRC0rLbZWjla51h6tTq1+bU1tF+1E7analdpHtbt1MB1LHbZOns5Snf0613U+jTAcwRzBH7FoRN2IyyPe647U9dPl65bp1ute0/2kR9cL1MvVW67XqHdPH9e31Y/Rn6K/Uf+Uft9IrZFeI7kjy0buH3nbADWwNYg1mG6w1aDDYMDQyDDYUGS4zvCkYZ+RjpGfUY7RKqNjRr3GNGMfY4HxKuNW4+d0bTqTnkdfS2+n95sYmISYSEy2mHSafDa1Mk0wLTGtN71nRjFjmGWarTJrM+s3NzaPMJ9hXmt+24JswbDItlhjccbivaWVZZLlAstGy2dWulZsq2KrWqu71lRrX+vJ1tXWV22INgybXJsNNpdsUVtX22zbStuLdqidm53AboNd1yjCKI9RwlHVo27Yq9gz7Yvsa+0fOOg4hDuUODQ6vBxtPjp19PLRZ0Z/c3R1zHPc5nhnjOaY0DElY1rGvHaydeI6VTpddaY6BznPdm5yfuVi58J32ehy05XmGuG6wLXN9aubu5vYrc6t193cPd29yv0GQ4sRzVjMOOtB8PD3mO1xxOOjp5tnoed+z7+87L1yvXZ5PRtrNZY/dtvYR96m3hzvLd7dPnSfdJ/NPt2+Jr4c32rfh35mfjy/7X5PmTbMHOZu5kt/R3+x/yH/9yxP1kzW8QAsIDigLKAzUDMwIXB94P0g06CsoNqg/mDX4OnBx0MIIWEhy0NusA3ZXHYNuz/UPXRmaHuYSlhc2Pqwh+G24eLwlgg0IjRiZcTdSItIYWRjFIhiR62MuhdtFT05+nAMMSY6pjLmSeyY2BmxZ+JocRPjdsW9i/ePXxp/J8E6QZLQlqiWmJZYk/g+KSBpRVJ38ujkmckXUvRTBClNqaTUxNTtqQPjAsetHteT5ppWmnZ9vNX4qePPTdCfkDfh6ES1iZyJB9IJ6Unpu9K/cKI41ZyBDHZGVUY/l8Vdw33B8+Ot4vXyvfkr+E8zvTNXZD7L8s5amdWb7Ztdkd0nYAnWC17lhORsynmfG5W7I3cwLymvPl8pPz2/WagpzBW2TzKaNHVSl8hOVCrqnuw5efXkfnGYeHsBUjC+oKlQC/7Id0isJb9IHhT5FFUWfZiSOOXAVI2pwqkd02ynLZr2tDio+Lfp+HTu9LYZJjPmzngwkzlzyyxkVsasttlms+fP7pkTPGfnXMrc3Lm/lziWrCh5Oy9pXst8w/lz5j/6JfiX2lLVUnHpjQVeCzYtxBcKFnYucl60btG3Ml7Z+XLH8oryL4u5i8//OubXtb8OLslc0rnUbenGZcRlwmXXl/su37lCY0XxikcrI1Y2rKKvKlv1dvXE1ecqXCo2raGskazpXhu+tmmd+bpl676sz15/rdK/sr7KoGpR1fsNvA2XN/ptrNtkuKl806fNgs03twRvaai2rK7YStxatPXJtsRtZ35j/FazXX97+favO4Q7unfG7myvca+p2WWwa2ktWiup7d2dtvvSnoA9TXX2dVvqderL94K9kr3P96Xvu74/bH/bAcaBuoMWB6sO0Q6VNSAN0xr6G7Mbu5tSmrqaQ5vbWrxaDh12OLzjiMmRyqPaR5ceoxybf2ywtbh14LjoeN+JrBOP2ia23TmZfPJqe0x756mwU2dPB50+eYZ5pvWs99kj5zzPNZ9nnG+84HahocO149Dvrr8f6nTrbLjofrHpksellq6xXccu+14+cSXgyumr7KsXrkVe67qecP3mjbQb3Td5N5/dyrv16nbR7c935twl3C27p36v4r7B/eo/bP6o73brPvog4EHHw7iHdx5xH714XPD4S8/8J9QnFU+Nn9Y8c3p2pDeo99Lzcc97XohefO4r/VPjz6qX1i8P/uX3V0d/cn/PK/GrwdeL3+i92fHW5W3bQPTA/Xf57z6/L/ug92HnR8bHM5+SPj39POUL6cvarzZfW76Ffbs7mD84KOKIObJfAQxWNDMTgNc7AKCmAECD5zPKOPn5T1YQ+ZlVhsB/wvIzoqy4AVAH/99j+uDfzQ0A9m6Dxy+or5YGQDQVgHgPgDo7D9ehs5rsXCktRHgO2Bz9NSM/A/ybIj9z/hD3zy2QqrqAn9t/AZC0fD3GVIF8AAAAimVYSWZNTQAqAAAACAAEARoABQAAAAEAAAA+ARsABQAAAAEAAABGASgAAwAAAAEAAgAAh2kABAAAAAEAAABOAAAAAAAAAJAAAAABAAAAkAAAAAEAA5KGAAcAAAASAAAAeKACAAQAAAABAAACSqADAAQAAAABAAACDgAAAABBU0NJSQAAAFNjcmVlbnNob3RyJhUzAAAACXBIWXMAABYlAAAWJQFJUiTwAAAB1mlUWHRYTUw6Y29tLmFkb2JlLnhtcAAAAAAAPHg6eG1wbWV0YSB4bWxuczp4PSJhZG9iZTpuczptZXRhLyIgeDp4bXB0az0iWE1QIENvcmUgNi4wLjAiPgogICA8cmRmOlJERiB4bWxuczpyZGY9Imh0dHA6Ly93d3cudzMub3JnLzE5OTkvMDIvMjItcmRmLXN5bnRheC1ucyMiPgogICAgICA8cmRmOkRlc2NyaXB0aW9uIHJkZjphYm91dD0iIgogICAgICAgICAgICB4bWxuczpleGlmPSJodHRwOi8vbnMuYWRvYmUuY29tL2V4aWYvMS4wLyI+CiAgICAgICAgIDxleGlmOlBpeGVsWURpbWVuc2lvbj41MjY8L2V4aWY6UGl4ZWxZRGltZW5zaW9uPgogICAgICAgICA8ZXhpZjpQaXhlbFhEaW1lbnNpb24+NTg2PC9leGlmOlBpeGVsWERpbWVuc2lvbj4KICAgICAgICAgPGV4aWY6VXNlckNvbW1lbnQ+U2NyZWVuc2hvdDwvZXhpZjpVc2VyQ29tbWVudD4KICAgICAgPC9yZGY6RGVzY3JpcHRpb24+CiAgIDwvcmRmOlJERj4KPC94OnhtcG1ldGE+CjlerwEAAAAcaURPVAAAAAIAAAAAAAABBwAAACgAAAEHAAABBwAAVDT5cRgYAABAAElEQVR4AeydB5hTxfeGD/YuVoooiCiiiAUR7CgoImIBe0cRCyr2XrB3rNgVbKBYERE7KE0ULIiI2AVElK7YlT/v+f1nuRuSbDa7yd5svnmedbPJvTNz34nP/fjOmXNrLFzUTE0EREAEREAEREAERGAJAjUklJZgojdEQAREQAREQAREwAlIKOmLIAIiIAIiIAIiIAIpCEgopQCjt0VABERABERABERAQknfAREQAREQAREQARFIQUBCKQUYvS0CIiACIiACIiACEkr6DoiACIiACIiACIhACgISSinA6G0REAEREAEREAERkFDSd0AEREAEREAEREAEUhCQUEoBRm+LgAiIgAiIgAiIgISSvgMiIAIiIAIiIAIikIKAhFIKMHpbBERABERABERABCSU9B0QAREQAREQAREQgRQEJJRSgNHbIiACIiACIiACIiChpO+ACIiACIiACIiACKQgIKGUAozeFgEREAEREAEREAEJJX0HREAEREAEREAERCAFAQmlFGD0tgiIgAiIgAiIgAhIKOk7IAIiIAIiIAIiIAIpCEgopQBT2W//888/NmXKFFt66aUz6vrff/+1tdde21ZdddWMjtdBIiACIiACIiAClU9AQqnymZbq8fvvv7d33nnHJk+ebIifGjVqlPo81R9//fWXNWnSxNq2bWvrr79+qsP0vgiIgAiIgAiIQA4JSCjlEO5XX31lb7zxho0bN87mz59vyyyzTMaj/ffff+4mNW/e3Nq3by+xlDE5HSgCIiACIiAClUdAQqnyWC7R09tvv20vvviiTZ8+3VZYYYUlPi/rjb///ttWWmklQyzts88+Vrdu3bJO0eciIAIiIAIiIAKVSEBCqRJhJnb12muv2euvv24zZswol5sU7YfcpuWWW862224723777b0f3KbytoULF9oaa6xhq6++uou28rhb5R2LsOEff/zhYcYVV1wx62sv77iJxzMHfuCHUF1qqaUSD8n4b/rhupZffnn/SXUinH/99Vf/mGMZW00EREAERKBwCUgo5XDtHn74YXv//fft999/r9BNmpsvgomfbBvu1LbbbmvNmjWzTTbZxBo1apRtV0nPQ7z98ssv9vPPP9vXX3/tLhoiARdsvfXWszXXXNOFWjRHa8GCBX7c3LlzPcl95ZVXtg033NCWXXbZJcaYNWuW/fDDDy5WSIgn0b1evXpLHIdIIcw5Z84c++6777x/BOK6667r8+A34yQ25s/cySljfOa9yiqrGHP88ccfvS/mUKtWLWvYsKFfC/0iODmXcbl+5vjFF18Ya7bOOut4yJTrJyk/eu2J4+tvERABERCBeBKQUMrhuvTt29fee+89++233yoklCprity8ufHvvPPOdtppp1VWt94PAqNPnz72xBNP2J9//lnSNwnshA933HFHu/TSS61BgwYlLD777DO7++67bcCAAYbzhIh55JFHPIm9pINFL3Byrr/+envqqads5syZLla6dOliZ555ZvQw/+zxxx+3xx57zF08BBXihOtGKNavX98OOuggO/LII32s6Mnz5s3z+V9xxRW21lprWY8ePfwYrunDDz8sFTrlmlq2bGkXXHCBtWjRwr799lt76KGH7IUXXnCRFvpF2NLX3nvvbaeffrrVqVNHYinA0W8REAERKBACEko5XKi4CSUuFdGxwQYb2H777ec3+8q4/C+//NIeeOABFzL0hygJ4UHCXbgu/OAq3XrrrT5ucI1Idj///PMNtwZBc8IJJ9jxxx/vooK+ECWffPKJHXPMMYbzhKDh84suushFCMfQEDM33nijvfvuu/53mAN9MgdEE3PgN84aAiiaNxaE0rXXXuuOE58hshC5MKMf/g798DeCE4fum2++sSFDhrjjx3yjY3I8fXEcIjA6pk9U/xEBERABEYg1AQmlHC5PHIUSN3LCQOQ7HXHEERW+esJVuEK4ODhJ9N2tWzfbYostXJgQenz55ZdtwoQJJYnpvXv3ttq1a/vYCBQcJYQPITHCdb169fLkdQ7AQTrvvPOMxHjcMJwp3LDWrVv7+fwHUXb00UfbiBEjPARGOQWS37fccksPfzE2uWI4WITHCJ8hyPgJgo15sF5BKMEJYdSmTRvbaaed/BxCepR6GDx4sI9JaA7hQ58ci1O19dZb+3vUzOK6x4wZ40INLrfccovPW2KpZOn0QgREQARiT0BCKYdLFEehhKggFIarctxxx1X46m+66SYXSVOnTnWnivAaTgthNBq5Qq+++qqLKcJzCAoEw1577eXz4BhCV5w3cuRID1117tzZzj77bM+leu655zzEhUOEqLn88svt4IMPLhE4CBrOO+mkk4xyDAiVww8/3ENsNWvW9JAeThQhUHLG3nrrLU9o33zzzd0BI+GaFhVK8MFJQpDtu+++njdFaJA54B7dfPPNNnr0aBduvIfw2n///V0gkjuFc4VoJBRHSG7SpEk+D3gzT3Kb1ERABERABAqDgIRSDtcpzkKJXXTHHntsha4eYXLWWWfZsGHDXCRR74nwV2JDhDz44IN22223eVjq0EMPte7du7sA4VjEDsLjjDPO8IRqRAk5QjhCiBJcKQQJrhG5PtEkbs4dPny4uzc//fST7w5E3ESPCfOhL0J/hMPIHRo6dKghpmhBKF1zzTXuim288cZ2xx13uFgL54ffCCCcJxK3yUPaddddPYeKRPRoQwDec889HnLDUdptt93sqquucmEVPU6vRUAEREAE4ksgtkKJXUTchLip4UJUpHEzpXGzqsgW8fLOoboLpX79+tl9993nOUSExC655JKUeU8ffPCBdezY0d2WbbbZxnr27OlCKDAlr4f3nn76aU/ExpVCzJD7g+vDLjREB7k+0cZ5OEaEv1hnzllttdX8ENwznB3eJ0yGo4RYIoTGd+HNN98sqU0VhNLVV1/tjg9hSYQb5RSijfHY1da1a1evts5YOFjMPbExNsnlJH3TD+HIu+66y3ffJR6rv0VABERABOJJILZCiTAN27K5geEmZCNwuKkhsrhJEhJhW3c+69pUd6F02WWX2cCBA30LfqtWrTxUxZZ4uEcbQoeEb1wkhC/5STg75ElFG/lICJCPP/7Y15x+CLchakj4JiSH25SuhdIAfG9mz57tob9QS4l8IWpbMQ7ChbylUMQzUSgR3mNXHcIr2pgTBUQRR59++qltttlmnutEflKyRsFRdugRbmvcuLELy2RuV7Jz9Z4IiIAIiEDVE4itUAINu50GDRrkN6RsnCWcBHZadejQwfbYY4+sxFZFlqi6CyVyeBAbCBEaDmCiSAr8ELqIHj5nFxlsWJPEhvC68847PfGa4xG2OFDsUksnknCPJk6c6HlBJFuTS0SuEEI5OJLMgdd8LxBf2QolQm44TgglnseHuCMsmKwRpmOXHkJp0003tXvvvTdpWDDZuXpPBERABESg6gnEWiiBh0TYl156ybd/h8TbTLBxM8a5IG9m9913L7lZZnJuZR2DGIhTHSWuKyRzV0aOEi7KqFGjXPwggBAgmTRcn/79+3t9ocTjCbniPIWQG4nS5Cvh4CCWUzVCgIQCcSJpuJA0cpBwhUjQJoeJXXo0CSXHoP+IgAiIgAiUQSD2Qon5kxOCWBo7dmzax0eEa8XhoFZQu3btfAcWzkJVtOoulE455RTP8yFstdVWW7nLkspRivJHxOAmsUaJjXpMcKOqNo4S4ojEagpZ4g4mNoQfYpRdc4hq/mYuhLsIi+FCsf6EX59//nkPfbFDDwElRymRpv4WAREQARFIJFAQQombLzusyPf46KOPPISWKmeJx4Ww+wiRRN5MeVyoRDgV/bu6CyV2fj377LMe5sK5o1QATk06sUToi89xeBIF7Oeff+5lAQihIXZxqFg/6g5R8winifOiDeew56JEakJcOEaUHaCOE45ZYr0iXCoqfCO8CYVJKEVJ6rUIiIAIiEAyAgUhlMLEJ0+e7MnDFA7kJpoYiuGmSbFBbpY8YiLxRhn6ydfv6i6UuD7qBCFsSMxm1xviNJtG3SKKTiJmCI/tsssunmhN5e7wKBAKUe6www6l1h1BRZVxksWp2XTuuefahRdemHQKYVv/tGnT5CglJaQ3RUAEREAEEgkUlFBi8ogkErwRTQgjXAkcCkIu5LOQuF3VTlKAXN2FEvWNcHOogcSDX3HxqBOULOmacNu4ceN8Kz/PR4vuJuOzV155xd0kBBNb7hE7rCMOEJ+xxqwthShJig4NoUQVbh7ESwiQgo4XX3zxEs5TqCBOCA/XEeeLHXBhB1p5dr0pmTvQ128REAERqP4ECk4osSQ4GOQsEarhJouzxI2XGyb1dxKdpqpaxuoulBCnPF7kmWee8VAZyfP8TWFFQluER3GDED/jx4/30By5R1TX5kGxiBUa4pet+ITEOJYkcfKfCKHyWJITTzzRxQ2J3uQikX9EzhGNWkXsvuPRItRTat68uR111FEu2hDRfD8QU+yao8r3jBkz/PvB41L4DjEG4UAJJcep/4iACIiACCQQKEihxDWQuIuzxA2Yx2UgkrhBx6lVd6EEaxLseXYb+T5h+z01iHg+GmKJmkUkW1O9m5AX2/1ZK8RNo0aNvCYRnCjESPI24omK2GEtET+33367J3MjoqiFRTVwHhlCQ4hxPtvuyVHi7zp16ljbtm3deeI9xBaiGsGEeCJsi1Bi513Tpk1dOEkoOU79RwREQAREIIFAwQolrgNniafGI5SS1eRJuNa8/8kNvDqXBwhAEUkIHUJxJF/j6IXaRRxD2AwBw/udOnVyoYOYoZEMfs455/hr3B/cpgMPPNBFlr+56D+EuqjqPWvWLBc75CThQIUQHK4SCdwIojBOEG0hLIs4QqQhlBBchAd53ArfG15XRChRJ+mYY44J0y31W3WUSuHQHyIgAiJQcAQKWihxUyRPiRtwVe5uS7XqxSKUECEUeKTQI4/s+HbRM84QKIgl1ghniYfwkqB92GGHleQnES7jkSI8c43dbCTg4x4lPjONPgYMGGA8XmTKlCkubAjPkdwdGm4VoguXCAHN9yGIJPKQEFLkUVHQkr7IgyKkx7PjKDuAUOJ5dCSU8zfCh8TwaC4VY9EnlbkRa7iZPJaEMGGqBwwTluSa6RP3ihBgsrII4Tr0WwREQAREIF4EClooxQvlkrMpFqEUrhzHh4KPFJTk8TOIWOoV4fghlhAdUeFBWI6cpQULFrjYRUxQMwnXJ7HRZwifIcx4VMrmm29e6rAwPqKJkB2NsemXkB27IHGn+JwxSP6vX7++h/wQYwggksL5DMeLHZSEAxMb14VIYt6E8BBgwSFLPJYkcip40w/H4oJV9W7MxDnqbxEQAREQgdQEJJRSs6nwJ8UmlKLAEB78pBIFwXGKnlOZrwnH0fLlNOb6eiqTjfoSAREQARHInICEUuasyn1kHIVSSGSujEeYlBuIThABERABERCBAiMgoZTDBYujUGJLP/lA1DJim72aCIiACIiACIhAagISSqnZVPgTEnfZCcYuq1SPXKnwIOXsAEeJLfgkTlNvSE0EREAEREAERCA1AQml1Gwq/EkcHSW24JN8TJVrinOqiYAIiIAIiIAIpCYgoZSaTYU/YQfVo48+6ru1kj3Wo8IDZNEBSc7s0KLoY+vWrbPoQaeIgAiIgAiIQPEQkFDK8Vq/+eabXl+IbfChtk+Oh0zaPTWNEElsh+eZbLhJ5CqpiYAIiIAIiIAIpCYgoZSaTaV8QiFDagtNnTrVZs+eXWW5SiRxU0+I4ouIJQouqomACIiACIiACKQnIKGUnk+lfkoRxOijPSq18zI6o84PxR/VREAEREAEREAEMicgoZQ5Kx0pAiIgAiIgAiJQZAQklIpswXW5IiACIiACIiACmROQUMqclY4UAREQAREQAREoMgISSkW24LpcERABERABERCBzAlIKGXOSkeKgAiIgAiIgAgUGQEJpSJbcF2uCIiACIiACIhA5gQklDJnpSNFQAREQAREQASKjICEUpEtuC5XBERABERABEQgcwISSpmz0pEiIAIiIAIiIAJFRkBCqcgWXJcrAiIgAiIgAiKQOQEJpcxZ6UgREAEREAEREIEiIyChVGQLrssVAREQAREQARHInICEUuasdKQIiIAIiIAIiECREZBQKrIF1+WKgAiIgAiIgAhkTkBCKXNWOlIEREAEREAERKDICEgoFdmC63JFQAREQAREQAQyJyChlDkrHSkCIiACIiACIlBkBCSUimzBdbkiIAIiIAIiIAKZE5BQypyVjhQBERABERABESgyAhJKRbbgulwREAEREAEREIHMCUgoZc5KR4qACIiACIiACBQZAQmlIltwXa4IiIAIiIAIiEDmBCSUMmelI0VABERABERABIqMgIRSkS14db7cuXPn2g8//GBLL720rbjiirbeeuv56+p8zbo2ERABERCB3BKQUMotX/WeRwKvv/663Xnnnbb66qtb/fr17bzzzrPVVlstjzPIfqj58+fbjBkz7JdffrFlllnG1llnHVt33XUl9LJHqjNFQAREoFIISChVCsbMO/ntt99s4cKFGZ+w1FJLuTuS8QlFfODDDz9sJ510kq299tq22Wab2VNPPWVrrbVWrIlMnjzZhg8fblOnTrVZs2bZggULXBytueaaLpa23XZb42fllVeO9XVociIgAiJQXQlIKOVhZf/77z/7+eefbebMmfb999/bv//+azVq1ChzZM4jhLTNNtsYN0619AQee+wxO/30010obbrppta3b9/YCqV//vnHPv74Y+vXr58NGDDAcJQQxdHGd2SHHXawgw8+2Pbaay93mKKf67UIiIAIiEDuCUgo5Z6xfffdd/bSSy+5c0D+TKYNobTSSivZ7rvvbvvss4+HlDI9txiPKyShNGnSJLvooovsvffec4FEiHCVVVbxsBuO4++//27z5s2zP//801ZYYQW74IILrGvXrsW4rLpmERABEahSAhJKOcb/7bffukgaM2aMLbvssuUejZsmzkKbNm2sQ4cOVrNmzXL3USwnFIpQwl184okn7MYbb3QRhBgiZHjUUUdZgwYNXCQNHTrUrrrqKvvpp5+McO32229vp5xyirVt27ZYllPXKQIiIAKxICChlONlwE0aPHiwjR49OiuhFKaHWNptt91s7733VhguQEn4XShCafz48XbLLbfYW2+95flI3bp1c5G0/vrrl1zRH3/8YWPHjrUzzjjDpk2bZmussYY7SmeddVbJMXohAiIgAiKQewISSjlmTB7KM88847lJ5Qm7JU6LvKZVV13VRRKhmPIkhIe+yIsh0Zm8F7bO8zoxLyYcm8lvQoP80BByZV0f1xDmzbipxqZPkpvZ7r/88svbBhtskFFCezZCiV1m06dPN4QJPOrWrZv20sM1cK1cc1kN5jSO5Xr5/cYbb3goDWeJv59++mlr0aLFEl1x7qGHHmoffPCB74Y79thj7aabblriOL0hAiIgAiKQOwISSrlj6z3jCrD7iptiKmGQ6RS4SfMTxEmm54XjOI/dU/Xq1fN8p9NOO61CLtfbb79tr732mu/WYkv+IYccYs2aNfM8mzBm+E2+zQ033GBz5syxv//+2/bcc09PUg6f8/vrr792EfHJJ5+4MEC8sFWe/B1ytXbeeWcPQZLLk6yVRygx92HDhrkgIx8IUcIYjFW7dm3bf//9jYTwaPv111/t6quvttmzZ/uxe+yxh4dDo8eE1wiwkSNH2gsvvOCMScgnz4xt/0OGDDGcIUJqtBEjRljUTQp98Pvkk0/2eeIqHXPMMV7+IPq5XouACIiACOSWgIRSbvnauHHjXCiRa1JRoVQZU8XR+euvv7yr888/37fRI0ayaYQUb731Vhs1apQLAEJIZ555pouIaH+IkPfff9+OPvpod29wbjiuR48eJYcRomR7/4svvmjkdQUnJhzAHJs3b+4Chh1gjRo1Ch+V/M5EKHH9r7zyij366KMuZBBu0YbDw/zIBercubO7bzh5NITNvvvuax9++KEz5HoJoSVrbPu/7bbb7PHHH3enjZpOxx9/vO9cIwx7xRVX2MSJE91RItF/iy22SNaNi08SvhHIxx13nPXs2TPpcXpTBERABEQgNwQklHLDtaTXuAklJoZYQLRRn+eggw5yYVAy4XK8QPxR4PHuu+/2HJqNNtrIk5QRGtGGwOjdu7dv18dZa9++vXXv3t222247PwyH5vbbb/cQFEUXcXQoGInDgwvG1nmEFMfhyHTq1MkQebhY0VaWUEJsEMa6+OKL7bPPPnORQgiS8RBiOFhc048//ujOV8uWLQ3XDXEUWq9evax///725Zdf+nVcdtllSzhPHPvmm2/6OIT1lltuOecCb7hzLffff7899NBDnsxNSYMjjzxyie3/H330keclIRw333xzd5cIxamJgAiIgAjkj4CEUo5Zx1EohUsm3HPiiSeWmZcTjk/2G2cG0YIYwI0h1LTlllv663A8hRRxQ3BQyDs699xz/aaPU0M4C4GD+8Jr6ka1a9fO57Xhhhu6czNhwgQXZDg5FGRk3uwAIxQVdenKEkqMj5Pz7rvv+vwaLNphdsQRR7gQIuRGeItQIi5QEEu4V4TbEIE05nDhhRe6Q9a0aVO/LuaR2B544AE755xzXNjhfrHLLRS/JNT38ssvez+EIQmHwoRwJGFF3DRytAhV4iYhNAkFsjOOMdVEQAREQATyR0BCKces4yyUcG1OOOGECgklyh7cfPPNvqsPscQNH9eDXVqh4d6wWw93COeGbfGEtfgb4XHggQe6y4UIIkSF24SbFG04TZdffrk999xzLqYQObwO4oNj0wklnJ1HHnnE7rjjDndxcKYIG5LYntief/55F26ff/65Cx1EClv1Qzv88MONx6UgahA39913X/jIf+MA3XPPPR5KZBwEDmG3aHVt3DEKYnIcwgjBRE5U48aNPT+LTQDkOfE+zhZhSnK01ERABERABPJLQEIpx7yru1BCwCBQyNXBDSK8dP3111vDhg2dLDd78o4uueQSv+mT+8OW96222sqTwHGkEC+IBQQBLkyrVq2Srsqzzz7rYT6cIQQIfe63336+M44T0gkl8qiuvfZar4aNWDv77LPtsMMOKyW0ooMi1nB9CMdxTQ8++KDVqlXLD0HcMO8vvvjC58xnderUKTmdHKi77rrLXSfOefLJJ10AJe4KhA3XTiiPZHeEJscQGiVMyG8exYKjtfXWW5f0rxciIAIiIAL5IxBroUSiLTkjhHSyKdYYxci/zHEwuMFGXYjoMbl4Xd2FEszY7k6xRIQSN3fCTMGpmTJlioeQEB04Rj0XJSMHx+mbb74xcnzYHUY4CuGDeEn1uBb6QoCQ28MDY0kOJ4coODXphBJb8EkgRyTxPSDElrirLbr+HE8eETlNhBLZlk8yOQ23B1eMZHZyhxB3uE58T2kcSyiRMg4kabPrkTIH0QYnikrikhFmCzvgQggTVrhq/HTp0sV/EF2cF8aJ9qfXIiACIiACuSEQa6GEuCHxFbFBGCTcRMqLgsrH5IngDBCyoZ98tWIQSuzwQiyQS0SeEc4Nzycj74fQGoKGGz83eMJNIYSEM8T2dwQQnyOAqD6eSgjgspAUjthCKFGtnLFCUnc6oUTfuEiIZH4QbolJ59HvBAKJkCJb+RFDhAQ7duzoc0OsIOoQUvTRunVrD6FxPjlYl156qYf5NtlkE0/SxkGLNpLTSfYmjwlmCEwS3Pl+ci1873km4MCBAz1pHHFPrhQiMtXuuGj/ei0CIiACIlB5BGItlLhMnAa2lg8aNMhvqNxEowm86VBwQ+PmSt0gcmQI6QT3Id15lflZMQglnD/CR7gshNAQO4iDJk2aGPk+PKMMAUD4CPFBkjYNZ4ZkatwUhBKFOYOISrUGCB5EGQKFsFSfPn1KHKhUQgkHiXAZ7hVuFcKHftI5i9R0uuaaazwPauONN/YcI8oBBBFHwjc79X744QcX33w/6fudd97x93HZcKDYFcg8w3lcF3WTSCpnVxtOE8ng/CCsQiPkR5+M8dVXX/n3FmeJRPJMv/+hL/0WAREQARHInkDshRKXhuBhpxK5LuxG4u+ybhYcQ8N5wAngWVmJOSJ+QI7/UwxCCdY4Rzge3OARMezYQigQKqN8AGEodsdRlDIkeiOUCNnhQvGDg8I6pWsII5whREmDRe4gYa0geMoSSjg9HEt+FAnYqUJ8jE9YMAgl8q2YJ9v4g+DBCeK6GJ9q3gginCVCbuQvkTyO44WgSmyINpLeCaXBgqR0qo8nazw4lzpLOEwkjpNUTsK3mgiIgAiIQH4IFIRQCijIZeGmwU2IG1a4aYXPw+8gkrhhI5J22WWX8FHefxeDUAIqrhIhtkmTJnkVcpK7cZRwkHAECS+R90Pl7rBuhOyoUE0IDkcJoYMYSNUISSFOrrzyylKCJwivVEKJ/hAs7BzjWAQWCdZ8P1I11o25k8uEo8TONVyfMHfmQuiNMCD9IABxuhBTCHpCvdRGOvXUU0sNQR0pRBqCivPY/YeAJEyZrA1bVD2c8CIV3qk7RX9U+FYTAREQARHID4GCEkogYfcSSbT8CztVgjfhH3YhEQKqSpHEfItFKBE+Y/s9OUTshGM7PA4eid0kUOOCIFaCqIENa4jzRB4Q54eyAanCo/RL/4glRAaPEMH1CSIjnVBCvODi4HjhRhIiS/XYEObGd4xxKH+A4CNHCYEShBLHUCKA99mxRniX0B7z42G35BQRJsO9ijZy7u69917fRUfuEfWlqGUVqn9Hj+U1IpOEb+aByCSMSbhSTQREQAREID8ECk4ogYUwHDdXtmcT0ok2boTkwJAcu9NOO0U/qpLXxSKUyAOiWjXOCjsVg3jBKSI/ifwebvI4S6FxHFvrSWrGocFNYmdaqoRlErAJcRHmQ2RwLOG+0Gc6oYQwIi+I7wwCDpcGtzHVc+NwuggFsoWf3CrcI+pORRt9IabIrSLXiN1xhOzgcOyiB9iy9T+xIaroC4FIGJDcOeYVeCUe/+qrr7qAJJ+JZG/KFkQrhScer79FQAREQAQql0BBCiUStAlFIJbYDRdulCR+E/LgX/PU5MHJqOpWLEIJzjxDjnATQoadhjg3uHuIGtwktuNH88TCOiJ2eM1nuD6Iquhx9M1OMfJzBgwY4OMgvgjDkj8U8tXSCaVQcJKQIO4N3xMcrETHh7FwhBBSn376qQtxnCvETWLjGnGqqBKO4EIs8R3EzSRUh1hK1kgkJwxI/hwCiXmnEoe4TTzAl5AdNagIOypHKRlVvScCIiACuSFQkEIJFDgQ3JBxGfiXPXlJPGYCkcS/vBPr1uQGX9m9FpNQggYOCyUAECYIVURMqlpCHM92+p6L8nwQHCR0I6ZwTHBaSHbGqaJ8AK4N+ULsRuP5bIT2yNeJiuF0QomxCF/hQlG3iHntuuuu/ty4Fi1aeL0i5sJ3ClFHsjZ5V4RuEW8I72SNhHScMh7TwlwRShTBZG6EypI1dr1xzVQsZx477rij15ZiHghABCfXTPiPZHGqeCMcCblRfDIa/kvWv94TAREQARGoPAIFK5RAgFuBs8QNhZsU4TYSXvNZJ6mspSg2oUSCNiJh/Pjxvg64SYTjyOVJ1lg3RAkCgOeaIU5ItqZgJQ+rxWlCNAwfPtxmzpzpeUU8FJedb4nhqrKEEq5Uv379PNTH7kn6xlEitEZhR8JiCB+Sy3GLEC64RYToUjX6ocAkz7jjWsi1IjmbQpipcugYh7Dedddd504Z4Ul2+xG6q1mzpgslxBzOFv0xT9wkwm6hkGeq+eh9ERABERCByiVQ0EIJFNycEEv8Zjt6qptT5WLLvLdiE0qQIUGZgoqIDdwkHmkSqlqnIodbhIhBqCCIcJfC7kVcF5wWRAQJ+oS1SJ5ObDhZCBsSvaldFH0QbTgWkUJOFInYJFYjzJgnDaeG7w/nI9IQfIiydI2cOAQNITKcIFwwEszTiSv6w4GiRtLo0aNdCOIacT7XzDy4ZsQbYTyEI/0jltREQAREQATyS6DghVJ+cZV/tGIUSjgl5BJNmzbNb+4IlkzCRRxPCQFEDIne0YYwQiTxE32uWvQYngVHrSTqI1G8sVevXi6uoseE14yBC4R7FEQZcyTEhStJ3hTiLhN3kt14bPPH/SEhncKQmeYR4ZSxW5BcO0RXaMyD3X8INRw5xJuaCIiACIhA/glIKOWYeTEKJeopsVuL7feHH36410oqL2Z2m1H1mrATIoEdYokJ3uXtM9nxhG9JlMbhYQclTlKqnXDJzq+s98i5QxySJ8U8CFkmhhYrayz1IwIiIAIikDkBCaXMWWV1ZLEJJbaxk49EvhGhIrbZZ5tXQziVhtOTiSOV1QItOolwF2MxBiGvqmpxmUdVXb/GFQEREIE4EpBQyvGqVGehFPJpAkL+Zts7+UnseiMERRguk/BV6EO/RUAEREAERCBOBCSUcrwacRZK5P2QGM2zyrJt5BVxjQgj8mwQSYSQKNXAzi/ya9REQAREQAREoFAJSCjleOV4BAXPFSMHpirDOtHLDE4QdX6ozUM+TLaNOlbsamPrPY8kwT2iAChFI9n9xi4wNREQAREQAREoVAISSjleOXZV8XR4HhYblxAUQokfdmhR2JFt99m2Pn36+DZ6ql2TfMw2fnaNnXzyyda0adNsu9V5IiACIiACIhALAhJKOV4GtnyPHDnSqz0HJyfHQ2bUPa4Pj+Zo06ZNhXZXUf+I55ZRkZrHifB8vYMOOsh3qWU0ER0kAiIgAiIgAjEmIKGUh8Uh7EaIaujQoXkYLf0Q7O6iPg+PemnXrl1sXK70s9anIiACIiACIlA1BCSU8sAdJ4nqz7hLX331ldcGyuV291SXFEQSlZ6pQB2X5+Glmq/eFwEREAEREIGqJiChlOcVoLAgwqkqGuPyENlcFG6siuvRmCIgAiIgAiKQawISSrkmrP5FQAREQAREQAQKloCEUsEunSYuAiIgAiIgAiKQawISSrkmrP5FQAREQAREQAQKloCEUsEunSYuAiIgAiIgAiKQawISSrkmrP5FQAREQAREQAQKloCEUsEunSYuAiIgAiIgAiKQawISSrkmrP5FQAREQAREQAQKloCEUsEunSYuAiIgAiIgAiKQawISSrkmrP5FQAREQAREQAQKloCEUsEunSYuAiIgAiIgAiKQawISSrkmrP5FQAREQAREQAQKloCEUsEunSYuAiIgAiIgAiKQawISSrkmrP5FQAREQAREQAQKloCEUsEunSYuAiIgAiIgAiKQawISSrkmrP5FQAREQAREQAQKloCEUsEunSYuAiIgAiIgAiKQawISSrkmrP5FQAREQAREQAQKloCEUsEunSYuAiIgAiIgAiKQawISSrkmrP5FQAREQAREQAQKloCEUsEunSYuAiIgAiIgAiKQawISSrkmrP6rBYF///3XpkyZYn///bdfT61atWy11VarFtemixABERABEUhNQEIpNRt9IgIlBH799Ve79NJLbe7cuS6Wunbtaq1bty75XC9EQAREQASqJwEJpeq5rjm5qgULFliNGjUy6nvhwoW2/PLL2zLLLJPR8XE/aPbs2bbLLrvYTz/9ZH/88Yfdeeeddswxx8R92pqfCIiACIhABQlIKFUQYHU//c8//7Q5c+a4QJg+fXrGQolQVZ06daxJkyYumAqdEwz22msv5wCTm266yY444ohKvyy44V4hzBClhPf4qS6Cs9KBqUMREAERyDEBCaUcAy707seOHWsvvfSSffrpp+USPOTyNGjQwNq3b2+77rprxgIrrrzyJZR++eUXGzZsmPXr18/FEeIMhmuuuWZc0WheIiACIlCtCUgoVevlrdjFjRkzxgYPHmzffPONLbvssuXu7J9//rF1113X9t57b9t9993LfX6cTsiXUJo1a5Y9+eSTdu2119pyyy1nXbp0sRNOOMHduTjx0FxEQAREoFgISCgVy0pncZ3vvfeeDRo0yIUSN+3yNvKUaGussYbts88+BS2W8iWUCLn179/frrnmGhdKxx13nHXr1s1q165dXvw6XgREQAREoBIISChVAsTq2sXAgQNt6NChnqO09NJLZ3WZQSyttdZats4669hSSy2VVT+E8jbddFNr1qyZu1S53Jr/ww8/+O42BB55VjRCYm3bti13jhJ5XT///LPVrFnTr3/FFVdMev1wIieJZHGE0o033uguHgnjOEr16tWzcEzSDv7/TRLNv//+e/vvv/9coFLGQE0EREAERCB7AhJK2bOr9meSJzNy5EhPLs5WKAVIhOH4CcIpvJ/pb2783PQJ5TVt2tT233//TE/N6Lh58+bZiy++aJ9//rnNnDnTfv/9d1tppZVcbCDOWrZsaYcddpgLGcRIumTuUaNG2ejRo/3Y+fPnOz8EEj8NGza0nXfe2bbZZptS83rggQds4sSJLnC+/vprGz9+vIvKRo0auUAk9Ln55ptbp06dfE7RkxFX77zzjueRMR7uF7yY/6qrrurntWnTxtZbb73oaXotAiIgAiKQAQEJpQwgFesh5MqMGDHC3ZSKCqXKYMiOMEoUbLzxxnbOOecYLlVlNByY5557zp544glDpARBh9jA5cHJIs/q+eefd9GTSighUN544w175plnDLFEGA0HjT74QSTiUO2www7WuXNnD0eG+Xfo0MFefvllW2WVVVxQIXA4/rfffvNrZicc4cvbb7/dxVY4b9KkSS7wEHkTJkwwGNHCmPxGbDEeQq/BogR7NREQAREQgcwJSChlzqrojoybUGIBEAKEsSj2eMABB1R4TRA3Dz30kN11110ukNiGX7du3ZKq2wgVHKYZM2aUvPfXX395aCxaHgBR06dPH7vjjjvs22+/9TAb7heCh/wunB4StQnhIXq23HJLu++++2yjjTZyUXPxxRfbu+++6+E25oRLhMgh/Lf22mv7dW+//fZ2yimnlIQDCRFed911nnBPyQJ2xnEsYotQJWMi1ugPZoceeqhdcMEFLsQqDE4diIAIiECREJBQKpKFzuYy4yiUcHlWWGEF22KLLax79+7ZXFapc5599lkXSZMnT/Z+SZru0aOHbbfddu7o8D4u0QsvvOBiBUGUKJR4jzwktvIjXphf8+bNvc4SITbEy7hx49y1Gj58uIsuRA0uFUIH1wkBxbUhyHC3KGiJwDr44IPt6KOP9hwljkMEIaBoHNO3b1+bOnWqbbDBBrbbbrvZvvvu6yIMcff+++/7Djp+M0dE29NPP+21reLgEJZaCP0hAiIgAjElIKEU04WJw7TiLJRwZE4++eQKYSKMd8kll9jjjz/u4gZBM2DAAA9tRYUE7g7uD6IERwu3hmTr4Cjh5iBurr/+eps2bZoLJkQcDlC08aw4drMhzhA8hBCHDBli0bGi5QHIS2LXW6ryAORpffDBBy7cjjrqKM+bio7Ha9aQcB3hRVylyy67zMVUqqTyxPP1twiIgAgUOwEJpWL/BqS5/uoulN5++20XESRCr7/++nbggQd6aCoqXAIeXBuECUImsTI34umLL74w8oUI1ZETtNlmm7kYCueH37feequPSR4Uyem4VYTXQgtCKVoeIJlQwn16/fXXPayG89S4cWNP2g79hN84Yr179/addOR0HXvssS4wc7lrMIyt3yIgAiJQHQhIKOVoFXEWuGly063I4ycImeBg0LiZ8/y0fLXqLpTYhv/ggw/axx9/7OEqwmCE3JK1dOUBwhqxToTF2G0WGt8BdtQRrsNFeuSRR9yZIjSGUELs4GSFFoQSBSfTOUqMyc48BBPfiWhBUMZjvszlxx9/dFeJcQn3kad05pln2uqrrx6G1G8REAEREIE0BCSU0sCpyEfcqHAYuAkTuiFvhZtbpo2bHK4DeSm4E1tttZXfWJO5HZn2Wd7jqrtQIiQVdrq1atXKBUxUtER5kRCdybPe2BFHPtKHH37o+Uq4T4glRBRrSfiNZG++H9SVylYoRedGXhO77D755BMXTwgoxkREIdAIu3355Zcu1CSUouT0WgREQATKJiChVDajrI/gX/OEVgjtcKON/qs/XadBJOFEbbLJJp5TglDi/Xy26i6UyE8it4hE7B133NG39ady/zIRStRgeuutt/wHsURiN+Io1FDiNWKZdeQ3oqwiQomQ37BFz4WjKChJ4ogzxDUN9wqnibHCD2JdQimf/wdpLBEQgepAQEIpx6vIDfbNN9/0myf/yudmWVbDCcA5Itm3Y8eOSXNPyuqjMj6v7kKJrfLsZiPcRRFIRFOqlk4oIXrmzp1rPXv29AcIsy2f0gAUeESwkERNHhIhOVwf6h3hPFXUUUIcMSYJ3YTSCOUhvhBIjM97OFo4m4zLrjcJpVQrrPdFQAREIDkBCaXkXCr1XcIsr776qrsHhELSOUPcdBFKhNsoMEg15qpq1V0o9erVy5OceegvRSAJwyEmkrV0Qgkxwk42cpwQXeQCtWvXzk488UR3BKP9cRzjUtiSUgTZOko4RySXU8Gb70yTJk18Fx7fmWghTsJw99xzj++2Q5hJKEVXQ69FQAREoGwCEkplM6qUI3CT2AqOYEIspXKW+IwwGzc8KkJXZavuQomyAA8//LDnkbVo0cJ3h1EAMllLJ5RwkChVMHbsWC9Oedppp9npp5/ugimxL5hSlBJxlq1QIuRGmI0SBN99950XrWRnHDvaEhvz5vEolDPAbZJQSiSkv0VABEQgPQEJpfR8KvVTxBKPqSCPBZcpMWcJZ4JChYgkcpOqulV3oYRoZes8idAIpK5du3rNomTcEUO77LKLh9gQs9FnvSFGKB5JUjUhuKuvvtoraCfrh1pMOErsekMovfbaa2l3vTGn448/vqQaN32SGP7KK6942I3kcNwwRNMee+yxxJBsJLj33nu9OCVOk4TSEoj0hgiIgAikJSChlBZP5X8YwnDU8OHxEiTYEmojlLL11lu7SCI3KV14rvJnlbzH6i6U4H/RRRd5+A23Be4IGQRMtCFw77//frv77rvdDUwUSmzHP+SQQ3xnGa9xds4666xS4ob+SOpHmI0ZM8bXm1AYLmN0POb01FNP2VVXXeW5Rjymhefa8ViV0Piu8P0hx4oyFOQiEeY744wzwiH+m5Acj2ahBAL9rrzyyl7pm7mRN6UmAiIgAiJQNgEJpbIZVfoROBAkeIfHWbAripyk/fbbz2/WcRBJXHR1F0pcI89nQ0wgOBASlAA46KCDvDo3QgOXaPTo0davXz/fHcd7CKVoZW6e3caz2nB5eE29q7Zt27rLhADDZWJ7/sCBA+2jjz7yLfz0w2c8aLd+/folwphq4byHOOJ7wWcIIKp8I6qZI4n+lBjo1KmT10kijEulcgQahSdxKqdPn+7Pjhs8eLCPzXkUpuQ7duGFF5YqcgkHNREQAREQgeQEJJSSc8n5u/wLn9IBuAvcMEnMJSE3Tq0YhBKCg4fikshN6BMRxDPTQq4SNYjYpUaIi0RvREmiUCIURjiVx4NQwRvHhzBX06ZNfecbwphdZ4gxzkfwcAw74ciRQuREyxLQF6IHQYTbSI2nDTfc0BP7EWB16tTx8BvPpCN0h7hCVLHTjb4QRMyX3XB8xs47xkVAtWzZ0qgOzndOTQREQAREoGwCEkplM8rZEeSPfPbZZ/5UesJucWvFIJRgTmI0eTw4R4TO2ClGwjSuD6KDEBlb/RFB4XPEBs9XizaE0rBFdY1CVXb6QOjgEOLo8OBafpOfRBI2Qunyyy83wmsIndD47LzzzvPkcEQZAo5xEUnsrGvWrJkfOnHiRLvttttsxIgR7mQh2BBgzBuRhRhC8HE9CDWEEmIKx4q5qImACIiACJRNQEKpbEZFe0SxCCUWmKKTiCW265NHhsBBcJDLQ5I0oojdaiR+k9h95ZVX+rPhol8OzqEuE+4UtYsQJkG0EEJjJxziiBwkxAqvCfN169bNXZ/QFwILF4uCmIgu/qbuErWeCMlFd0PieD322GOe68S8aQgzBB7O2KmnnmoUwmRXHo4YQooH/0b7COPqtwiIgAiIwJIEJJSWZKJ3/p9AMQklLhmhgyghbEUCN/WQCKEhOmiInvCDY5Msl4zPESOE23AMCXnVq1fPi01yTugnOE30wTGJjX5wiBBKCLMQWiNxOzoux9FwjRB75EMhiEj+Zt7hWK4rvGa88DpxXP0tAiIgAiJQmoCEUmke+itCoNiEUrj04CYFYRPeL+9vxAmtIv0ghIKoSiaoonMqz7HR8/RaBERABEQgNQEJpdRsiv6TYhVKRb/wAiACIiACIlBCQEKpBIVeJBKIq1DiWWYkNFNkUU0EREAEREAEcklAQimXdAu8b5KSR44c6VvMKxI+qkwMhLPIwaGu0BFHHFGZXasvERABERABEViCgITSEkj0RiBAsUJqPbGdnR1ccWgkOLPtnce8tGnTJg5T0hxEQAREQASqMQEJpWq8uBW9NHZuUZGa+kJxEUokNrOjq3379v7stYpeo84XAREQAREQgXQEJJTS0dFnXs9n0KBBXrAwbJOvKiwUX2zYsKF16NDBQ29VNQ+NKwIiIAIiUDwEJJSKZ62zulJCXRQ75JEr1Bcqa4t6VoNkcBJOUq1atfyHR4BUtWjLYMo6RAREQAREoBoQkFCqBouYr0tAMFVVoUJqBCGQ1ERABERABEQgnwQklPJJW2OJgAiIgAiIgAgUFAEJpYJaLk1WBERABERABEQgnwQklPJJW2OJgAiIgAiIgAgUFAEJpYJaLk1WBERABERABEQgnwQklPJJW2OJgAiIgAiIgAgUFAEJpYJaLk1WBERABERABEQgnwQklPJJW2OJgAiIgAiIgAgUFAEJpYJaLk1WBERABERABEQgnwQklPJJW2OJgAiIgAiIgAgUFAEJpYJaLk1WBERABERABEQgnwQklPJJW2OJgAiIgAiIgAgUFAEJpYJaLk1WBERABERABEQgnwQklPJJW2OJgAiIgAiIgAgUFAEJpYJaLk1WBERABERABEQgnwQklPJJW2OJgAiIgAiIgAgUFAEJpYJaLk1WBERABERABEQgnwQklPJJW2OJgAiIgAiIgAgUFAEJpYJaLk1WBERABERABEQgnwQklPJJW2OJgAiIgAiIgAgUFAEJpYJaLk1WBERABERABEQgnwQklPJJW2OJgAiIgAiIgAgUFAEJpYJaLk1WBERABERABEQgnwQklPJJW2NVCYH//vvP/vjjD6tRo0bG46+44ooZH6sDRUAEREAEqi8BCaXqu7ZFf2ULFiywX375xaZNm2Zz5syxpZdeOiMm//77r2266aZWt25dW2qppTI6pyoO+uuvv2zu3Ln2559/2vLLL2+rrrqqxV3gMVfWAsa0WrVq2TLLLFMV+DSmCIiACGREQEIpI0w6qNAI/P333/b666/bkCFDbObMmbbsssvawoULM7qMf/75x1q2bGn77LOPNWrUKKNzquKgr776yh599FH77LPPrHHjxrbvvvtaixYtqmIqGY85YcIEe+ihh1wssR433HCD1a5dO+PzdaAIiIAI5JuAhFK+iWu8nBPAaXnttdfslVdesV9//TUrVwixtOWWW7pYQoTEsY0bN84uu+wye/fdd13YnXrqqbb33nvHcaolc3rnnXfs7LPPtlmzZrmr9NZbb9lGG21U8rleiIAIiEDcCEgoxW1FNJ8KE0Aovfrqq/byyy/bb7/9lnHILToweU3kNG222WbWsWNHD8VFP4/Da4TSJZdcYqNHj7ZWrVrZ6aefXhBC6cwzz3SXj/Abwqlhw4ZxwKk5iIAIiEBSAhJKSbHozUIm8Pvvv1ufPn3s448/9vydbPOMuJGvsMIKnkezzjrrZBy6i7IL4T5CYvXr17e1117b84mix2T7esyYMdazZ0/jN/13797dw2+MWVbiOo7Zjz/+aORxrbzyylanTp1yC0ryv3CG4F2zZk2DUap8ozCnoUOH2llnnVWSpzRs2DA5Stl+AXSeCIhAXghIKOUFswbJJwFu/nfeeaeRw4MgKEs0pJsbzhJ9ZNtPEEobb7yxrbbaah7Ka9KkSboh035GYnrv3r1tueWWc6Hz3nvv2YwZM2zddde1Zs2auTuDwDv44IM9b4ncrGgjXwtx8umnn9rPP/9ckgi+5pprGj+E7jbZZBM/JYib6PkkY+NkMS5zgTUOHmKLH65zhx128LHDeR988IENHz7cE8+nTJliI0aM8HHp/4ADDrDVV1/dz+W8HXfcMZym3yIgAiIQCwISSrFYBk2iMgkQbkNMTJ48OWuBU5nzoS+Sy3FgEDAHHnigC51sxkCkbLvttrbSSit5H+x0QzQhVhAtuDuIu0ceecRDhhwXGu4PidTPP/+8ffHFFy5WgojkNzvmmN8hhxxi22yzzRI76Oh78ODB9tRTT3le1Lx580pEKOcj0Bo0aGBt27a1/fff33bddVcfGnfv5ptv9qRznCeEEcfzg3CjX3YYnnbaaZ6/FOar3yIgAiIQBwISSnFYBc2hUgnEUShxgYgldtF16NDBxU42F/3555/b8ccf7yFBakMhNPhNiBARssoqq7hQIncJh4b3aZQReO655zynCSGFA4WDRFkB3LL58+fbTz/95GIOgUPC9U477VRqii+88ILvUmMOa621Vsl4lF2AOWOQPI9oa968ud1zzz22wQYbeK5Y//79berUqS7OcMBwk/jhc85nLgjIQw89tNSY+kMEREAEqpqAhFJVr4DGr3QCcRVKOC5rrLGGtW/f3tq1a5fVdSNqZs+e7W4M7tItt9xihLa22mor69Kli4fOOAbRhNNEQ0iR2E4SdaglddRRR7kwIZGa/tgleNttt7nQQfD06NHDzj33XA+J0Qcht912282+/vprL7VA+PCwww6z7bff3sdiDgMHDnSnCfHG+AjCa6+91oUbbhqijHEuvfRSd7/g8cwzz3iYjtc4WlEHjHHVREAERKCqCUgoVfUKaPxKJxB3oUQe0J577lnh6x47dmxJeYDtttvOKA9A7afE3KK3337bzjvvPM9p4jOESqdOndwVCpNATL344ovuGJFHROjt5JNPtv3228+FzsSJE61bt272zTffuPtz7LHHupCiv9AIoV1xxRV2//33u7O1/vrrez4Ugi3MibmQzB3KA5DcHedaVeHa9FsERKB4CUgoFe/aV9srLxahhKOE6KE8AAUyyfHBxYk2wmAPP/ywCyqSyUnUvvfeez3kFT2O14ilzp072/jx492NIsR30UUXee4RY1F+4LvvvvOde4gmxktswxYlilO/ijAj+VOcH5wtjqUcAEIJ1wkXCeGk8gCJFPW3CIhAnAhIKMVpNWIwF8I25JKQx8JW72y31nMp3Ajpjxsl7kK+WrEIpeAopRNKOEDkCiGW2L5PyA2hEnKXEteEz6hBRekAXCNCezTCc7hg33//vYfjKEfQtWtXF2gkZ4cG++AWEeZbb731Sn2HEh0lhJUKTgZ6+i0CIhBHAhJKcVyVKpwTAolt45988olNmjTJE3NT1cZJN02cDG6gFGwkn4Vk3Xw1CaXFpBFT7ADE5cHhIaTGc+wQr6x1aGEX2qhRo7ysAgnX7IC76667SmojUbPpySef9KRvRBfuFOtLDSZ2u1EagLVOJ64llAJx/RYBESgUAhJKhbJSeZ4nQmnQoEG+pZtE3vKIJVwkknJxHcjH2XDDDfM6ewmlxbgJdSF2EEDUVAolBKK5RYuPNk+oDsdRkfzWW291J4pjcJNwpnjsCK4jLhP9ILoQXySUI5x49As/1FVKbBJKiUT0twiIQNwJSCjFfYWqcH7UIXrppZe8OCFhtHROQZgmLgU3WnZD7bXXXl4fJ3yWr98SSotJI2oovkmByFBCgN1lOEjpGgwpE3D++ed7ZfJwLEKLhw3zsRLntAAAE/RJREFUvQi1mDiWnXIIaj5HMBHCI1RHuYJok1CK0tBrERCBQiAgoVQIq1SFc/zyyy/9pvjhhx+WbC1PNx0cBm6wbIGvVatWukNz9pmE0mK0PDCX0BvihtIExxxzjItYxFI09Lb4jP+9QhhTK4n8ocTq3uFYKnO///779tFHH3mSNnlNhFzhz9qzC488p1CSgPMklAI9/RYBESgUAhJKhbJSVThPEoJxEHimWHQHU3RKCCR+qLXDziueaVZVTUJpMXlcH3a5Pfroox5Cw+mh8jb5SumEEj2EvKXFvZV+xXrTR/g9ZMgQe/DBB428KIQY2/6p5B0VWhJKpRnqLxEQgfgTkFCK/xrFYoZsCydnCbFEvlI0dIP7wHs777yzPzYDJ6IqWzEKpVatWvn2fZy8aGMHGkKpV69enlDP8+AeeOCBciXXUzaAXCXcRUJsRx55pD+jLTpOeH3jjTd6ThTiiQR+qoGz/T98XxKFEjlU+c5hC3PVbxEQARHIhICEUiaUdIwTQCxRfZkqzNwIEUeEWkjc5kZNsUN2Q1V1KxahxDrwqBLCayRPn3TSSe4WJfIfMGCAXXjhhe7+4AhS24hHhVApO7ERYuV4drTxwFoqbCOUEEBU0Z4+fbodfvjhds455yQt+fD444/b1Vdf7Y9CYdfjs88+65W3Q34bwohzeVwKAhsXqmnTponT0N8iIAIiEBsCEkqxWYrCmAiPsEAs8fR5nutF3gsPaWV3G9vE49CKRSjh8PBYEuoowb5NmzaeRI1wJYkaIYSTw3F33HGH8bw1PgsiiFyyevXqueilJARrixjiMSPUvTrjjDP8MSfsYiQpnLAdeUiE1BgL94rzcRBxrtgVxwNzqcNEwUlqKFHtOxqGRdRdfPHFPie+K/RJqJY+CNElJn/H4fukOYiACBQ3AQml4l7/rK6evBfEEo+6wA1AJHFTjEsrFqHEdVIh+4033vDcMR5027ZtWxev7DijphE73XD/CJlecMEFJTvVeBgtjz1p3LixLxvb/anIPWHCBBcs4dlxuEqcTykA3CvGQhQRVmPtQx0lBBTn893gc8QRITrcqxB2YyAeqEsYDwGFkKtfv77Po27dur5brnXr1j4f/UcEREAE4kJAQikuK1Fg8+CGGtwFig3GqRWLUII5ouOJJ54wCkQiaAiT4QCRk8TjSELVbN7HKaJUAOGz+fPnG89mCwndhMZwc3CctthiC+vevbvnnEXXFWeKSt0jRozwcykFwFj0wfn8kCROP82bN/fnxuEURYUS47IxgPAc5+M8MTdqLp144okuxqJj6rUIiIAIVDUBCaWqXgGNX+kEikkozZs3zx9RQsVs6hghShBMl19+uYe0EC7RhkjikSY4Q3PmzHFxw/GEvXCXSPbGCUolfknmxg3CUWQ3JGOGhughV+qwww7zGlqIrmSN57yRYP700097jhvjM0/G7dGjR7JT9J4IiIAIVBkBCaUqQ6+Bc0WgmIQSDHF1CI0hgniNi1O7du2kz3NDlHAMidScQ24S4opQHFv6cYUSdzVG14nzORcXCZGEk4XgwkUikR/Bw/nR2knR88NrNgEwPq4kfRGqI3SY6hl04Tz9FgEREIF8E5BQyjdxjZdzAsUmlAJQBAxCBqGSaeMcWlnCJlV/QTiF0Fuq41K9X9HxU/Wr90VABESgsghIKFUWSfUTGwLFKpRiswCaiAiIgAhUIwISStVoMXUp/yMQZ6FEXSK21fMcPDUREAEREIH4E5BQiv8aaYblJMBuKuoGUReIfJzorqtydlWphzMXyihQToEq5moiIAIiIALxJyChFP810gzLSYBt73379vUK4uzEIn8mDo3kZ3aVdezY0esPxWFOmoMIiIAIiEB6AhJK6fno0wIkwC4qtq737t3bix8ilKraVSLpmXkhlHCUKAapJgIiIAIiEH8CEkrxXyPNMAsCCBMepcGzxNgCH32CfRbdVfgUtsO3bNnS3aSNNtqowv2pAxEQAREQgfwQkFDKD2eNUgUECMGRrzRt2jSv2ZPtFvjKmDqP6iCRm3pDVTmPyrgW9SECIiACxURAQqmYVrtIrzUUR6zK8JsKKRbpl0+XLQIiUPAEJJQKfgl1ASIgAiIgAiIgArkiIKGUK7LqVwREQAREQAREoOAJSCgV/BLqAkRABERABERABHJFQEIpV2TVrwiIgAiIgAiIQMETkFAq+CXUBYiACIiACIiACOSKgIRSrsiqXxEQAREQAREQgYInIKFU8EuoCxABERABERABEcgVAQmlXJFVvyIgAiIgAiIgAgVPQEKp4JdQFyACIiACIiACIpArAhJKuSKrfkVABERABERABAqegIRSwS+hLkAEREAEREAERCBXBCSUckVW/YqACIiACIiACBQ8AQmlgl9CXYAIiIAIiIAIiECuCEgo5Yqs+hUBERABERABESh4AhJKBb+EugAREAEREAEREIFcEZBQyhVZ9SsCIiACIiACIlDwBCSUCn4JdQEiIAIiIAIiIAK5IiChlCuy6lcEREAEREAERKDgCUgoFfwS6gJEQAREQAREQARyRUBCKVdk1a8IiIAIiIAIiEDBE5BQKvgl1AWIgAiIgAiIgAjkioCEUq7Iql8REIGUBH799VebPn26rbfeerbSSiulPE4fiIAIiEBVE5BQquoV0PgikIbAX3/9Zf/991+aI0p/VKNGDVt++eVLvxmzv3766Sd7+umn7ZtvvrEmTZpYhw4drHbt2jGbpaYjAiIgAv8jIKGkb4IIxIzAwoULbcGCBf6DmEAsIYDKapy37LLL2hZbbGGrrLJKWYdX2efDhw+39u3b+xz//fdf69evn+2xxx5VNh8NLAIiIALpCEgopaOjz0SgCgjMnj3bBg8ebG+88YYhfjIRSUwT5wk3CdGBSxNXsTRixAg74ogjXNQhCB955BHbc889q4C0hhQBERCBsglIKJXNSEeIQN4I/PjjjzZkyBDDdcmmIayWWWYZa9u2re211162+uqrZ9NNTs9BCD7zzDP2wQcf2I477uju0tprr53TMdW5CIiACGRLQEIpW3I6TwRyQIAE55deesneeecdd1yyGQJnaYUVVrDWrVu7WKpZs2Y23eTsnBBa/O2339z1Yq5LLbVUzsZTxyIgAiJQEQISShWhp3NFoJIJfPHFFzZgwADjd0XEw99//21rrbWW1atXz10lcoHK2xBcq666qjVv3txq1apla6yxRoXmVN7xk4UdZ82aZfxwbfyElngs1/vDDz94fhduVTbO2u+//+478wh9cu3ZCE7mMW3aNA+Lrrvuukvs8Eucd7ieZL/nz5/v1845XHt5r4nzZs6cafTDNcFltdVWSzaU3hMBEYgQkFCKwNDL6kngl19+8Rv8yiuvHPsLnDBhgj322GM2Y8aMCosSbtIIJn5nmucUBYRQYus+O9MQCkcddZStuOKK0UOyek148aGHHvLrQ3x07NjRBR2dIU7Gjh1ro0eP9tf777+/j/3hhx/apEmTbO7cuTZv3jwXCZy72WabWcuWLQ0RQhs1apR9+umnzg9B9c8//7gYQBRwXIsWLdI6dYgrQoJff/21zZkzx4UF7BCMjNesWTPbbrvtfE4+YIr/fPvtt/bWW2+50Pr5558914zz2d3XtGlTT7hn59/UqVOtcePGHoKsX7/+Er2xdpMnT3YeJPZz7QgeRBL9cS7OIfNL1RifvDDEN0zIC0OEI5JY16233trZFML/H6muUe+LQC4JSCjlkq76jgWB77//3qjbg7sS939BT5w40YUSIbiKOEqVBZ6bMrvuEFyXXXaZbb755lmJruh8ED3kJhFyW3/99e3+++/3GzXHkL90zz332B133OHOx4knnugi4LXXXrOPP/7YlltuOecCmz///NMFR9euXW2fffaxzz77zM8dOnSoiwF2AHIc18B5u+22m5100km2/fbb+9jROfH6yy+/tOeee86ef/55Yx04D5EURCa/t9lmGzvyyCNt3333LeVohb4QZsyjf//+9sQTT/g18Bl9wRAxwrWTQ3b33Xfb559/bnvvvbede+65tvPOO4duSn6PGTPG+vbta1w/blBo9EdjPbh+dhHWrVs3fOy/OWbKlCn25JNP2rPPPmtfffWVr2X0e7X00ks7DwQpDFWmoRRC/SECTkBCSV+Eak+A0Me4ceM8/MFuMG6gcW1xE0qBEzddnJQDDjigwjfT8ePHe+4UO/QoOHnbbbfZtttu60Ph4uA23Xfffe4GIYZowUFh7XC6cFZwn3ALN9lkE9thhx3cdcHJISzFjj+EDSIPkcwPr1u1auWCb6uttvJ++Q/XxncEIThs2DAXNAhqXBrmiPghn4o+GBdxd/zxx9spp5xS0kd4gUi6+eabbdCgQe6+4cDRD6KQeePmIAa5Lj7jd+tFjtDpp5/ugiX0w2++C/SF84QjxnXh8CF0/vjjD58LvLjWo48+2s4555xSoT3E9sMPP+x8GZ95cCzXFOYCv8C4Z8+e7hryuZoIiMBiAhJKi1noVTUlQIFDXAKcDP7lzPZ5/iUdxxZnoYSoQSBsuOGGFUKXqVDCgeGGjhO4++67u2vSoEEDF0fkcZH0ThiPteQ4ftepU8ddI1wbRAEu0QsvvGBPPfWUf05+DuIDV4jdgTQE1O23326PP/64EaZCCO26667uGhHaQ0SNHDnS+6A/hFOjRo28/hNzC44T4uXRRx+1iy66qMS5xCXq1KmTO1+IJEKDzAWXk7Aa5yQTSszjggsu8B2QzBP2Z5xxhu20007uShFeRAS9+uqrLpwQN7hGOEzhuw0fwqWE1xiL7z7uFaFUBNKbb75pAwcOtO+++85FJ/W3GIPdkmoiIAKLCUgoLWahV9WUAPk+1CV6/fXX/V/muEqEPsKNMk6XHWehhCg47rjj8iaUcDpwULh5n3DCCSVhMBwgXJVLL73U3RacJd7j2N69e7szw2veQ8SQ44PAI/8IVwj3hutAVNF4j9AVOUAIF5yZ8847zz/j/DDeLbfc4mIKpwbBhgMTFd3kAeGOIYYIsRHqu/DCC50XQi44XOQKES7je8ncOS7RUTr77LNdJCGYcNsQX7hmXHcQZrhXDz74oIf4EIUIIeZNvhbXhPDDJcNJYu3uvfdeF0lcDw2ByFwOOuggz/3ifcZhLmoiIAKLCUgoLWahV9WUQBBKFHDkX96EVbgx8i95QhJxahJKi0NvuB44P+Qpbbzxxkss04svvug3f5xCxMCWW25pffr0cScpejChrhDCos9DDjnEXSecFRriiNwkRAuhPUKMm266abQLf/3++++7EMLF2WCDDVy8IXhCKJdw4ZVXXulihu8V7hIJ5NGcIDrCKUPEIOq+XRQqRGwFoYRYwQHFCcJ5I9x26KGHuihcYkKL3uAfAN27d/cx1llnHc+NatiwoYf3GP+6665zHriAjJmYg8RcevXq5aKN8CJ5SvyoiYAILCYgobSYhV5VUwKJQokwBDkf7dq1KwllxOXSJZQWCyXygXB3unTpYoiAxPbee+95yCwIF1yjk08+eQlhQsgLQYEDRZ/sskNchDwl3B4cGEQKAieao0OoLuwSI0T1wAMPeBgXhwYR16NHjxKhdO2119oNN9zgjg670UjoRsAlNsYj4Zz5kMxNVfIglPiM3XJ8htuD0Dr11FNd2Cf2w9/skuRc3DC+1y+//LLvquMzxseJo7QD14Wow00lpyvacMgQiYQUEWb8qImACCwmIKG0mIVeVVMCUaEUHCTCOuwSIgQX8j7icPkSSqWF0plnnulCKdEJYa0++ugju/XWWz1xmps/YSOEQMjRCevJWlPA87TTTvMQE8cglNjBltjIeaI8ADvEcFgQSfwgohATrA8ChvBWVCjhVF1//fW+646QHnk+/B3cpug4CBrcTUJ3hAWjQgmxwiNd2PlHbhS5UJQ0wMHivGijb0TO22+/7b9xxkj85vtMw5Ei9IcTRpiZ8gOUN6BPcp4IH2600UYupKL96rUIiEBpAhJKpXnor2pIIJlQ4jK5sXDDQCztsssulVIjqKL4JJSyE0qE5s4//3zbb7/9lhBKrDNiAveHOkwIJVwa6geFRgiKhG2OYys+IgN3h7AZ+U6IEnKD+BvRtOaaa5YSSuQ/Ed7ru2grP8ngBx98sG/5pyxBYitLKJHnRGkBQobMAaFGPlHITQr9MQ8EELvnEIcIQnKWCCszLsKOa7rrrrs8YRsRyHs0HDocNYqJEoJENEYT08MY+i0CImAmoaRvQbUnkEooceHcXHAryBNhZ1WyG1s+AUkoZS6UyE1CVLAVvyJCCTFCIjaJ0OxqI4eNYo4kSPN94PvBe4gMHCDCXImOEoUjEUrkBeH+8NBfktCzcZRwonCGEEokhTOPTDYeIKauuuoqa9OmTancO9wx8pMo4kmfHBfKHSDa+H+AUgeUGCBkmCjI8vn911giEEcCEkpxXBXNqVIJpBNKDISbQF4GW6cRTFV5o5BQyr9QIg+JBGbEDiKCpHASqPk+RPN1qGqNiMG1IYwVDb3hVN14440eMsNR6ty5s4e9kgnvshwlksKpJcV82OlGXwhBwnLpGoIPd4g5JyaQcx7OFDlNhBYpZEkFdNy24FqRu4XTFnK30o2lz0SgmAhIKBXTahfptWYilKg1Q0iGfBEJpSW/KIR58l0egMTrdDlKleEoIYwQDd26dfMq2uTv4ARRWJNrjn4X2KqPGEomlCBGMvdNN93kDhT1kwh5pRNKV1xxxRLJ3IioIUOG2NVXX+25UHwfya1CMPFZWQ2BFJ1z4vH0wQ/iiHAhj8vp16+fO0wkseOqwUJNBERgMYH/AwAA///jR0TQAABAAElEQVTtnQeYU1XXtheKFURABAUVRARFrGBFBEQpCvZeEBt2FCwodvzsgqIg9t577wqCHRUbFlRsYKEJFhTrP/d6/z1mQjLJZJLJmZxnX1dMJtlnl3uf9z0Pa629dp1/y4qpiEAJE/jhhx/s8ccft+eee86WXnrpCjP9/fffrVmzZtajRw/beuutbdlll63we03/8eGHH9qtt95q3333nS222GI13X3a/vi/iVVWWcUOOuggW3311dPWy+aH9957z3r37m1LLbWUtWjRwi677DLr1KmTX/rjjz/a9ddfb1dffbXNnz/fBg8ebAceeKCttNJKizQ9efJkv/bRRx+1Nddc04YOHWo77rijLb744hXqssYvvviiHXvssTZv3jzbfvvt7eijj7YNN9zQfv31V3vkkUfsrLPOsp9++snvA+ptvPHGFdrgjxkzZthFF13k67PaaqvZfvvt520uscQSXveSSy7xdlZccUVbYYUVjHGtvPLKi7TDF08++aQNHz7cpk6daj179rRBgwbZ5ptvbv/884+9++67Pr5PP/3UVl11VZ8/461Kef311+3++++32bNn2zLLLGPnnnuuNWzYcJEmpk+fbnvttZfP7eeff7YjjjjCzjjjDAtzWuQCfSECMSRQR0IphqsesymnE0o8QHmQIZC6du1q9evXLzoZCaWaFUoLFiywp556yoYNG+aiCZFz2mmn2S677FLhXvjrr79sxIgRdvfdd9v3339vTZs2tX333deF0pJLLul1H3vsMbv44ovt888/d0F+5JFHGq9kcT5r1iw75phjDKGHcOP+C0KJhhBvBxxwgE2aNMn+/vtv22KLLez000+3ddddt8KY+GPhwoX29NNP28SJE11QtW3b1urWrWuvvPKKjRo1yl5++WVbbrnlXOD169dvkev5AnE5ZcoUF1UDBw60M8880+rVq5eyrr4UgTgSkFCK46rHbM6phNIff/zhDzseUltttZU1aNAgElQklGpWKCFEsODsuuuuhhji1adPH9t///3dglanTh3j/nnttdfszjvvtG+++caFz/LLL2+77767W7GCUKLetddea1iWsChhBRswYIBtueWW/jei5ssvv3TL5o033uj3259//mndunWrIJT44fbbb7cxY8bYJ598Ys2bN7fOnTvbnnvuaWuvvbYLegTezJkz7Y033nDxhpVujz32sFNOOcX7xVKEVQ6x1KRJE+vYsaPttttutt5667kFFWslgu+jjz6ykSNHukWJfzhgTcMypyICIvAfAQml/1joU4kSSBZKPBxxQ2y77bZuSeJf3FEpEko1K5RYd9x9CBoEE0IJC1CrVq1sgw02cPfnZ5995kKJ+wbXLG5I3nHXYmUKQom2JkyYYCeeeKILKv7GrYtLDXflL7/84pYbrD9cg+UHcYJQwsKE5SiU3377zc4//3wXQXPnzvUxYVHq0qWLiy7chB9//LG9/fbb3heiDEGGNQx3Ji68Z5991l2BX331lSHIcE8yp2B1wu331ltv+fUIr0022cSOP/54n1cYh95FQATMJJR0F5Q8gUShRFwMbgViZHjQEb8RpRIHoYQgQaSyFsTgXH755RVilK677jobO3asxyjx4CYuKl2MEtYQYowQAVhTdtppp7QxSsT54Orq27evC5ONNtrIlx5R8eqrr9oFF1zg4gNrI4IJYYQoQtBgQUKAEDeFtQahQ58PPfRQBTcVYghX3oUXXuh1ETyIFPqgIMIaNWrk1zMW4oK6d+++iEWJugg04rVw6SGocMkxLsZEYQzcv1ivsIqeffbZFWLsED+45ZgX/XA9Vi3mRSGWK8yNdyxJWMkUn+R49B8RKCcgoVSOQh9KlUAQSvwLu3Hjxu5aIYA20RIQlbnHQSh98MEHLlYQSgSIE9cTRAvi4ZZbbqkQzI0bjJig5ILguuKKKzxQv02bNm7JIVA7OZgbcUDMTgjmRigdfvjh7oZKbJNx4a7CKoTICMH0iBHccUOGDPEA6bPKAr+JZ+OFKEoWcYgZxkbgN7E/9I8Ljxdia+edd/ZrLr30Unet0TYxSlh0kgvXMh7GhXuNNiiIHeKp1llnHbcyEViePO9QD/caggs3HdYprqWdIAKJXeJ63HoIJhUREIGKBCSUKvLQXyVIgFiOBx980N0MO+ywg/Xq1Suy/2qOg1DiQY3lhYIYwY0VHvI8vLHoIBD4jJjiFQRC4u1JO9TDYkM7WGvSWUMQL4gf2qQObYY+Q5tYfegbqxH3DGPEkkSMEG1zDb9jJWI8vBBLQVCFdninH/rDisNuOfpH2CD4+I0YpGuuucamTZvmsUUnnHCCIfZSFa5lnrzYDYnbjbgj2gvzqEz0My+u5X3OnDlGMDnM+EcDbYS5pZpHqvHoOxGIGwEJpbiteAzny4OKHUQ8cLAm8GCIaomDUIoq+8RxISoQYlhYUom0xLqJnxFHBHzjDkPMUGgHcZRorenfv7+xhR9r52GHHeaxRdnEytEO93E6QZg4lnSfU40nXV19LwIioBgl3QMxIPD111/7v8JxexAfEuUioRTl1al8bFibnnnmGd/5huUIV1+HDh0qXITIIb8RcUMEkSPIiMOirooIiEA0CciiFM110ajySABXBW6FKORJyjStKAslXFAHH3ywtW7dOtM0Yvk7bi2C0Ml5xG438hMRe9WqbAcdGwhww7G+JJskmSTxWMRUIZJSJbiMJURNWgQiSEBCKYKLoiHFlwABxWTmxiUTpZgRXD5sKyfol51qKosSQJAT3M2uPXasIYRwkRF7RCwQQopklLi+cP8SyM52foK5VURABKJLQEIpumujkcWQALlt7rrrLn+gJgcbFxMHD3fSKWy33XblsTfFHE+U+37//ff9eBLSCBD4HVIEsJ4hcBqLE7mTupXlUIpyzFyUOWtsIlBTBCSUaoq0+hGBLAiQL4ecPmRuTgz+zeLSglch3w/WjxCkXPAOa3EHrCOCia35WAnJgo37bY011nDXJTsvdUxILV5gDT1WBCSUYrXcmmxtIECum4cfftheeOEF3y1VlV1X+Z4fwca4j0gQSTxNqoNV891nqbSHFS684Mg6YlXCpVqdXWulwkfzEIHaQkBCqbaslMYZGwI8VIl3IZ9POH6iGGKJceAWatmypZ+FR04hFREQARGIGwEJpbituOZbqwiQKBCrRDGEUsj9U1kyw1oFU4MVAREQgRwISCjlAE2XiIAIiIAIiIAIxIOAhFI81lmzFAEREAEREAERyIGAhFIO0HSJCIiACIiACIhAPAhIKMVjnTVLERABERABERCBHAhIKOUATZeIgAiIgAiIgAjEg4CEUjzWWbMUAREQAREQARHIgYCEUg7QdIkIiIAIiIAIiEA8CEgoxWOdNUsREAEREAEREIEcCEgo5QBNl4iACIiACIiACMSDgIRSPNZZsxQBERABERABEciBgIRSDtB0iQiIgAiIgAiIQDwISCjFY501SxEQAREQAREQgRwISCjlAE2XiIAIiIAIiIAIxIOAhFI81lmzFAEREAEREAERyIGAhFIO0HSJCIiACIiACIhAPAhIKMVjnTVLERABERABERCBHAhIKOUATZeIgAiIgAiIgAjEg4CEUjzWWbMUAREQAREQARHIgYCEUg7QdIkIiIAIiIAIiEA8CEgoxWOdNUsREAEREAEREIEcCEgo5QBNl4iACORO4I8//rAffvjBG1hiiSWscePGtuSSS+beYIor//nnH5s3b579/PPPVrduXatfv741aNDA6tSpk6J24b9izozl119/tcUWW8yaNGliSy21VNHGU/gZqwcRKB0CEkqls5aaiQjUCgLTp0+3ESNGuIBBJO29997WqlWrvI79l19+sccff9wmTJhgK6ywgm2++ebWs2dPW3zxxfPaT7aNffPNN/bCCy/Y22+/bcsuu6zPee211zaEoooIiEC0CUgoRXt9NLqYE/jzzz8N60i2BYtJvq0z2fadbb3Jkydb165d3aKy6qqr2tixY23TTTfN9vKs6s2cOdOGDx9uV199tYuwAw44wIYOHVo0YYJAuuyyy+yBBx6wRo0a2ejRo124LbPMMlnNR5VEQASKR0BCqXjs1bMIpCTw77//2u+//26//fabTZs2zXDb4K7JVLgON1OHDh0syg/g9957z3r37u1CqUWLFi4gOnXqlGl6Vfp91qxZdsEFF9gNN9xgLVu2tH322ccGDx5cNKH07rvv2pgxY+yRRx6xhg0bukWtR48etvTSS1dpXqosAiJQ8wQklGqeuXoUgUoJEFvzxBNP2HPPPefWpGzjarA8EfeCi2m77bZzF0+lHRXpRwklCaUi3XrqVgRyIiChlBM2XSQChSHw/fff2zPPPOOxNX///XdOnRD3gljiRQBz1IqEkoRS1O5JjUcEKiMgoVQZHf0mAjVM4Ntvv/Ug5BdffDHnWCMsSwQMd+/e3Xr16hU5sSShJKFUw/+zUnciUC0CEkrVwqeLRSC/BD777DO75557bOrUqVnFJaXrnSBwtqCzm4zg4VysUwguttVvsMEG1rRpU1t++eWrNaYw1lyFEgHaP/30k4+D3XKV7WBLjlHad9997cQTTwxDsO+++85jv9gRxxxzKYnjWXHFFSttIpcYJdIJ/Pjjj/bXX395XBPrmK0bttLB6EcREIEqEZBQqhIuVa6NBNgqTjA0Vpaolw8++MBuvfVWzzOUTQB3ZfNBHBEIXpVdc4ntcV29evU8OBxBsddee+UlSDxboURw+ltvvWWffPKJIXxmz57tuYhwJ/JaY401jCDw1VZbLXHY/jlRKK2++uq233772U477eTtff311zZnzhxbuHCh53Bq1qyZtW/f3jbbbLOMQpAxTJo0yT788EMXMYgZxoJwYwcforJNmzaLjCdbocSY2CH3/vvv+z0wf/58F7mhjzXXXNM23nhjyyTMFhmAvhABEciZgIRSzuh0YW0hQA4bEv3xIOPBH+XCAxihhMWjukIpH/NErCC2sFCdffbZRu6f6pZshBKWo5dfftluueUWj9dCMLCjL1hUEIEIpe2339523313W3/99SsMKwilG2+80VZZZRXbaqutPJ/SzTffbFiCSKFAW8yPmK4tt9zSjjjiCH9PJ6i5ju39rA/CJ4yHNrD60E+/fv1s//33t3XXXbd8rAwsG6FEEP9TTz3lFsXXXnvNEPjBakYffG7btq3tvPPOtttuu1nr1q0rzFl/iIAIFIaAhFJhuKrVCBEgwSG5e3gw9unTp/zhE6Ehlg8lakIpDIwHNRYXrDJYYKpTMgklhNmdd97p2/ux/ODyQ+AibhCPWF0WLFjgKRQQwIilUaNGuXsqjCsIJUQN1yL0EDNYfkidgOjAYkYaBgQJv6200kp2zjnn+D0S2gnvCLORI0e6SGJMWHiWW2658nZog7HQz3rrrWdXXnmluz2DsMsklJjPk08+accdd5x3SdoABFvI3h3SRTB33HHHHnusC7vmzZuHIepdBESgQAQklAoEVs1GhwDHZTz88MMulnbZZRfbZpttKvxrPzojNXfpRMmiFNgglLCYHHTQQYYrqzolk1DCAsgakUcKgbLFFlu41Qi3FgIFS9O9995rtIOliXGR3TuIDMYWhBIWKQQNBWGEtadbt25+DRacp59+2q6//noXPPSHdQrLUrLl7JprrrGbbrrJvvjiC3d7YaGiHkKFdrBUPfbYY24JRIwhKE8//fTygPxMQgkhP2zYMPvoo498rMx1hx12sM6dO/vYXnnlFXv00UftnXfecTHGepx00kl21FFHeX39RwREoHAEJJQKx1YtR4QAQomHGHmJCEru27evbb311v4AisgQy4cRZYtSTQglYn4IZsfNx+cdd9zRBQmZuxE6WGiw/hDLdeaZZxouKoKxu3Tp4mIlgEwUSlhmsEadeuqp7hojKJpCW3PnznVLDv1htaHuySefbAceeKDXoc8333zTvyNWCtGFmKJvrFu8EC28SCiJZQuLGGKJeRBTRD+ZhBL35yGHHOLWLq5HeCHGcAvSNoKROR188MEuphn30Ucf7eNQ0kpfKv1HBApGQEKpYGjVcFQIIJQ49+vZZ5/1TMhkRiYhIw8iXBtRKnEXSogVLEUIC9xMG220kQdIp4obGjJkiN13331uYcECg8WFuCFKEEpYgXAVcmTKueee6wImeb1xpbErjh2HWKgGDhzox51gvUK0XHLJJe4KJHUDwo1+yX6eXBj3FVdc4eNAUF144YWegZyxZxJKDz30kHHMCkHzzBs3HC685IJLkmBvhBL3L5YrXJMqIiAChSMgoVQ4tmo5IgSCUMKihDDiX+c8PDlGg8NSUz2EizX0uAulEDeEWCCOCLESSmI8EVak888/34OrEToEc3M8SDi6JQilcIQJrjlcVSFmKLTJO31edNFFLoZw+7G77/jjj/dgcfokBgqXG7FBp5xyireTeH34jAUMNx6CDKsVbrEBAwa4kMkklDi8l/q0wXjYpUfQNgIw8eBc3HzsvEPAIZDY/Rb1s/0CH72LQG0lIKFUW1dO486aQKJQCm4KHsTsgtt2220jJZbiLpQSF5U1gsenn37q4oCAaV4ETGM5QnzwGwIG6wtxaOmEEsKDAOhE0RH6Qjiz24xAbtpDGFG3Y8eObmFiOz7xS7j8uF84o43g68QSgsyJNSLuiQDyXXfd1U444QTPZ5VJKCHQCAC/7bbbvFlEEP1jucLlyatVWU4s7lkVERCBmiUgoVSzvNVbEQikEkoMg4cfOXg46oPt4VFww0ko/e8G+fLLL23ixIl+5t2rr77qOYUQOVhPwu43rENYnbCuICgqE0qVHYqLUCJAnNgkEn3i0sK6gyBixyTZzbH00D8723ilskzxHWNDjDMu3H0czLvyyitndL1hRZoyZYq7+bgHSA/B/RksR1jMEGy4Igk0J6A+uBmL8D8pdSkCsSIgoRSr5Y7nZNMJJWhgtWDnEg9DdkMV++EjoWSeDPKMM87wOB3EAjFluNoQILi0CJTmM0kZiRvCPUbeouoIJcQYrjmEEmkQjjzySI9jI26J3WdYsrg3cNPSNwHW6Qq/IZQQNQSJk3Ygk0UptEX+KNx3HIqMSxERxz2KBQtLGsIJixc77ghwx5KlIgIiUFgCEkqF5avWI0CgMqHE8HCpEERLgHexUwfEXSghSEjq+H//938ugHClEbA8oCzWp127dhWEAYHT7A776quvbMMNN6yWUOIgYkQNwghL0jHHHONWRpJMcmYeAgaBtOeee3pAN1alygrWJUQdY8ZSma1QCm1yT3IvELjNrjsylHMfUxBMJNskqBwRpyICIlBYAhJKheWr1iNAIJNQ4l/pPNT4lzqWpVRulZqaRtyFEq4uAqkRB4gmrDzEF6VKcjl69GhjV1smoURsD7va0sUoIUrYTcbWfoK2CaImJxPuPCw5iGdcYYglLF20g1hJvk+wJCV+x2csS5SqCiWuwZpEP7jlCOIeP368nXXWWS4gsTJh9SLlQbGtoIxVRQRKmYCEUimvrubmBCoTSjxw2DmE240HYq4HpOYLddyFEhYdjudAlPBi11o6q8nFF1/sFiWsPuwOS+V64wiTFi1auBUIK1WqgiDBYvXGG294WoH+/fv7Abpch1uPnEpYdthtRh4jdr4hrKtSKhNKxGMRAE4gOK49+l9nnXUWCTwnaJ2DfYmnYs5Y2ggWT06OWZVxqa4IiEBmAhJKmRmpRi0nkE4o8RDEUoFIwr2SuBW9WFOOu1CaNm2aW38QAliUyFZNIsbkM/oI9MYChEuKOCZilB588MFyoRvSA+CaI8YJq9Lw4cM9y3fy2pK08vDDD/fdc4imwYMHu1WLelh0EFtYr7iPOPAWUXXooYcmN+N/E5BNPicSTWKhxF1HqUwocUjvddddZ9dee63fgyGVQaq0FYjD22+/3YPMSW+BdYsgbxUREIHCEZBQKhxbtRwRAqmEEu62Jk2auEBCKEUlaV/chdKMGTPcYvPSSy+V72Zjmz07yBAOJIREWCCAsPIgdnGdtW/f3u6++24P9MblFYQSx8FwHW4xdrPhgltrrbVceHEPcGQIwoM8RggztuRjpSFzO4XrcAciSBBlXIMo4ygXjlbBskQdrF9k7iaXEy92U44YMcLzO7FbrjKhhDhjnPRBe1iyEGIEg7NjDrHFvHExcpTKpEmTfEy4JE877TTfjBCR/6lpGCJQkgQklEpyWTWpRALJQokHE9YjXG1RsSSF8cZdKLENn2zbJIAkYBohhOjAaoJoIFYIoYCgIjYHEUKdtm3bulWGIOdEocRZb6w1YgaxgfjgxU40/kZsYVEi4BpBQoA0Fh2sUIkFIYM4QwxhZSL4HwHXsmXLcjGFS4ydeKQIIIgbFx1ntWUTzM04hg4d6sHkuIMR8aQEIEidsSAOafv11193Ych3WL4OO+ywxGHqswiIQAEISCgVAKqajBaBRKEUHoi4LRBKyS6dYo88LkKJxI2sBYkUL7/8cuvUqVM5esQSgcocCcJnhAniFrGDCELQYAFkRxyWHGKHgmuNNWXLPBYlMncT7I3ooB+EEXE+CCsCpEOwdbgnGNOgQYOsdevW5WMJH+ifbfuc34ZowbKEoKEdCn3SDiIJ9xxB15tsskm43C1KuO+Io0LkXHrppb67LrjmaIcYJSxEtI87kfbDvGmfwHCsY7xzuC+xTMxLRQREoLAEJJQKy1etR4BAEEpsAce1gUhid1t4SEVgiOVDiINQwjLCGiAsyDQ9cuRId3kFCMGVhRXnjjvuMLJWI0D4HpFA/A/JIUP8EIHQWJ0IuibWCEsTOYhI9kjcD2453GmsPX8jSBBLCCUECHFqbPtHeCRbksKYwjvijXFxHA7CizYYF30i1nDZEXxOn4mFOZN5mzPd6IM5Y81MvAdpB4HH4bqvvPKKzxuxxBjD3HENciYchwAXe+NB4vz0WQRKmYCEUimvrubmBAgMJtAXl02/fv3KH9JRxBMHoURMEZadIFQ4QBYXWnLBqoL7DaFLfeoQv4MVkGsQD2zfR0wgoLAwhQBoLDRcSxuIGK5BcPA3sUi0ybW40BBKCJZw/EnyOBL/xsJDG7ywduEKRMTRBi4+PiMAGU9iYc5hrMyb8VOXz4klzAkRyDi5d+mH+k2bNvV35piKV2I7+iwCIpA/AhJK+WOpliJKgHgWtn7jLkEohYdpFIcbB6GUC3eEQ3A/5XJ98jUIKV6IqOoUBBBiJ1kYVafNxGsZI+KM9pm/igiIQM0TkFCqeebqsYYJEPNBwj6sEVgQolwklKK8OhqbCIhAHAlIKMVx1WM2Z0QS/yLHfRH1EmWhxJl4JFxMFewcda4anwiIgAjkSkBCKVdyuk4ECkCAhIVsaSeGJkquFmJnCKImdw+B0yoiIAIiEBcCEkpxWWnNs1YQIE8P545x5lih4l5yAUGsDDu6ODiY7fYqIiACIhAXAhJKcVlpzbNWEGA3FVvDyf8TpZ1NWJS6lWUw51gOCaVacStpkCIgAnkiIKGUJ5BqRgTyRYAEiuTbGTdunDeZvIU8X/1k007YGUYiR0RS1IPhs5mT6oiACIhAVQhIKFWFluqKQA0QQJyQN2ju3LmepZmt8cUQS4yD/ELEJDVu3NgTNtbA9NWFCIiACESKgIRSpJZDgxGBigTIIE0enWIIJdxtuP9IjKgiAiIgAnElIKEU15XXvEVABERABERABDISkFDKiEgVREAEREAEREAE4kpAQimuK695i4AIiIAIiIAIZCQgoZQRkSqIgAiIgAiIgAjElYCEUlxXXvMWAREQAREQARHISEBCKSMiVRABERABERABEYgrAQmluK685i0CIiACIiACIpCRgIRSRkSqIAIiIAIiIAIiEFcCEkpxXXnNWwREQAREQAREICMBCaWMiFRBBERABERABEQgrgQklOK68pq3CIiACIiACIhARgISShkRqYIIiIAIiIAIiEBcCUgoxXXlNW8REAEREAEREIGMBCSUMiJSBREQAREQAREQgbgSkFCK68pr3iIgAiIgAiIgAhkJSChlRKQKIiACIiACIiACcSUgoRTXlde8RUAEREAEREAEMhKQUMqISBVEQAREQAREQATiSkBCKa4rr3mLgAiIgAiIgAhkJCChlBGRKoiACIiACIiACMSVgIRSXFde8xYBERABERABEchIQEIpIyJVEAERqCqBhQsX2g8//GArrLCC1atXr6qXq74IiIAIRIaAhFJklkIDKRSBf//91/744w+rU6dO1l0sueSSWddVxYoE5s6day+//LK9+eab1rp1a+vbt68Lpoq19JcIiIAI1A4CEkq1Y500yhwI/Pnnn/bXX3/ZjBkzbM6cObb44otn1crff/9tbdq0ifzDnXFiueGduSHu6tatm9UcC1lp/Pjxdtxxx7lFiTW45557rGvXrlnzL+TY1LYIiIAIVJWAhFJVial+rSEwbtw4e+KJJ2zmzJlVEhCIq80339y23357W3XVVSM73y+++MLuvvtu+/TTT13Y9e7d2zbccMOijxfuCKV58+bZP//8Y1deeaVtu+22tvTSSxd9bBqACIiACFSVgIRSVYmpfuQJ4GbDqvHUU08ZbiBKVdxuuOqov/HGG9t2221nrVq18jai9p+3337bzj77bHvjjTd8rEcccYT16dOn6MNEmD755JO+Bu3atbODDjrImjZtWvRxaQAiIAIikAsBCaVcqOmaSBNAKCGSHn/8cfv9999zcvngzsKVtf7663uMTRTF0ltvvWWnnnqqvfrqq7bZZpvZoEGD3ApW7MXBivTLL7+4SK1fv767MKsiVIs9fvUvAiIgAokEJJQSaehzSRD47bff7LbbbvNgYmJ4FltssZzmRXwND3oCknHBIQByLeuss441b97cGjZsaEsssUSuzVS4btKkSXbGGWfY66+/7halY445xkVdhUqV/IEYZGcarsZmzZrZUkstlbL2r7/+arNnz3bh2KBBg4LuYmPtZs2a5X01atQo7ZhSDlRfioAIiEABCEgoFQCqmiwuAR7sV1xxhX3++ecuAqpjzUAcIZh45dIObjwKlincT1tvvbWtscYaOQNCRNx7770ec/XVV1/Zc889Z19//bULOeKqOnTo4MHdxAS1bNnS6xHDhIWNGCEEUceOHe3DDz/0F0JpmWWWsX79+vkYwxy//fZb++CDD4x3AuGDeEEorbTSSta+fXt/pYo74pqJEyfajz/+aMx/9913tyZNmvicEWXTpk3zcSNgGQuB89OnT7f33nvP48lw3WHNQ1Ty20YbbWQtWrTImZkuFAEREIHqEJBQqg49XRtJAgsWLLAxY8bY1KlTqy2U8jVBhNZPP/1k+++/v+222245N0tc0iabbGLLLrusW6aweLHTDQHCvHE1Ik5uvPFGd8NRj4Dvvffe28XKmmuu6VanBx980KZMmeLWNgTV0KFDbd9993UxiJC577777K677vJAcSxgQUAhHOlziy22sAMOOMB69uy5iIUMkTRkyBD77LPP3Ar34osv2gYbbOBzZowPPfSQDRw40K/bZ599rFOnTvbCCy/YY4895vWZD/1h8VpttdWMOryiHFif84LqQhEQgcgTkFCK/BJpgFUlEEWhxBwQSwQ3k1coCIeqzg1xg9DCCoQ4wlXFO+IC1xmiBjFzwQUXWLdu3bzeAw88YIcccohbaIKFDIsN9fl7lVVWsaOPPtp23nlnF5cEiCN2SDlAPyHtAP0Q/8Xr559/9iD3ESNGWOfOnSu4N4mZGjZsmFuOaJ9YsfXWW8+nyngRROyKo93lllvO5s+f77/xmXkg9OgDtynMEHv9+/f3eKyq8lJ9ERABEaguAQml6hLU9ZEjEFWhhIWkcePGvjMNS0wuBfFAXigsLu+8846NHj3a3n33XVt33XVtv/328234CBrcY4gc6iUKJfpkHIgjXFprrbWWfyaGCjcXgun555938YI1p1evXrbNNttY27Zt3bqECw/rzzfffOOijPgthFBifFM2Qmnw4MEulBgPVjCsSjvttJMxDtZvfNmuRcaNiEI0bbXVVr7Db+211+YSFREQARGoMQISSjWGWh3VFIEoCyUClNnCjwDJtWBxQQAlBnPjjkPkYK0Kv4f2E4USFh7igk444QTPuYRowopDvBCxRXvssYd9/PHH7vI68MADfScd7WGpQoBR/6yzzrKxY8ca8UrEET3yyCMeD8WYKFURSuyOo09SCASrU7Ao3XHHHXbzzTf7eBB1xx57bCR29QWuehcBEYgHAQmleKxzrGYZdaFEbqZcLUqJC0l6gNNPP92FyaabbuqihraTS6JQwo11+eWXW/fu3V1sJdYlsPvRRx/1IGx26JFHCktSckEYXXLJJR6DhPBDNJGeAFcaJRuhFFxvxEyR4oDM3cnlo48+slNOOcUmTJhgWJIGDBhghx56aHI1/S0CIiACBSUgoVRQvLWvcSwG33//vVslEoN4c5kJ1osQP4MrqKZKXIQSZ6mRHgBhglAiPQDZxJNLEEqIGna9EUydKgEkLi52DLJuBGwHdxoWHiw/uMj4jnPcCBZHwHDo7UUXXWQ9evQoz7ydrVDi/kIwIoZWX3315GG7YDvqqKN8xx47Bffaay87/vjjF6mnL0RABESgkAQklApJtxa2jVDCBcOOJbadE0yLa6aqhes4Nb5VWVZr4lgklP4XG4RYyZdFKRehxM4xdrNlWg/EMi44tu0jntixRyA27jV+e//99z39Aq636gglXIXskOMeSS70e9hhh/kxNAgp0gycfPLJydX0twiIgAgUlICEUkHx1t7GiX/BxcJWccQTO6CwLGQqPEipj7gKWa1rOgBXFqWKq5RoUSKIG6G08sorV6z0//9CDE2ePNnzHHEMCYHiWH5Yf6xJIXknf7PWWJ6qI5SwgCGUUuWWShRKCCmEEmkMVERABESgJglIKNUk7VrWFwkA2cr9ySef+AMyBOtWNg3EFK9wTloql0pl1+fjNwmlihSrIpQefvhhFz5Yk5Zffnm3ChJ7hHUQdx3CiOSTJLtkRxoB3RJKFXnrLxEQgdIiIKFUWuuZ99mQnZnt37haQrBuZZ3gciMZIS6VYiUIlFCquELZCCXE7XfffWd77rmnffHFF24VxCLIQbtdunRx0YRQxqJE0ssrr7zSA7/JuC2hVJG3/hIBESgtAhJKpbWeBZkNu4+wLOGSSXVkBZ3yoMXlhkjiOIxiHjkhoVTxNshGKBHIjUtu5MiRnqeJXWjsMCPYOtmSiKWRzOdk915xxRUllCri1l8iIAIlRkBCqcQWtBDTQQThikEshZiVxIcnAglLA+62HXbYwRMYFmIc2bYZR6HE9vxBgwZ5jqZkTtkIJXa0nXfeeZ7kEcsSySuJHeJ4k+RCEPmoUaPsmWee8WNRLr74Yt/1FnbJVWXXm2KUkunqbxEQgagRkFCK2opEdDxBLBHDgmiiENCLJQIrE24aRBLZnItd4iKUcIGddtpp9tprr3nySNxkqc6Ry1YoIXjuueceP5iWTNjkOuJ4ksQyb948u+aaa+zOO+/0WCXimC688ELP3h2sjRJKicT0WQREoLYTkFCq7StYw+MnZgmxxG44rBAE+XJ8BjFJxQjcTjX9uAglguzJsI0wYTcbaQc4GgTLDqIl5MHKRigheO+9914XPbNnz/b8SL1797YBZUkeEUNYDefOnevHm+ByI30EfbD+55xzjvfNkSkUCaVUd6W+EwERqK0EJJRq68oVcdzEqJA6gDxLHTp0cJGUKg9OsYYYF6FEbiPyDI0bN84D7cmmzcG2BFgTK8aWewLwsxFKJJnEUojQIiaNRKHkSOLsNYQwfxPQz/lypBAgwzfiiXdcdHvvvbfviGPN8yWUSHJ5+OGHex4lpQco1v+a1K8IiICEku6BnAgQp0Jiynbt2vkrp0YKdFFchBL4sObgLkM0Udh1iIDBHbbLLrv49n2EEmepcSAvlqe77747bR6lq666yoO62f4fAvQRURRcrQgjUgIgnEgTgBWJfshvRDJNCkKJbNtYHbn2iSeeKD/HDZFFrBvntpFrC0sk2bbT5VEaOHCg77rkdyWcdLz6jwiIQA0TkFCqYeCl0h0P0VASA7vDd8V8j5NQmjlzpp/dRswQIom1QJwQmL3jjju6qLn//vuNA245bqRVWaZ0DptNl3CSdX3hhRfsuuuu86NKaI8X3yOQ9tlnHw8Ynzhxop155pnulkMsc6RJaJOYqWHDhtnUqVN9LAR9Y3mkIJRIN8EBvrgGGWO6zNzUPeSQQzwNQZs2bfwIk5NOOqmYt5b6FgERiCEBCaUYLnqpTzlOQgkBgzUJ6x6H2mLpwXKEqwphw25EeBB3xGesOGzpxzqUrhCvRJtz5sxxqxGxaFyD0CJeCSsS3xGzlKrNhQsX+jltjIXxcVwKoojC3wgg2kaABQtVqmNyqEs9xs/vxEPRv4oIiIAI1CQBCaWapK2+aoRAnIRSIlCECdakxMSgiA0ESa4FNx6vxDZzbUvXiYAIiEBtJCChVBtXTWOulEBchVKlUPSjCIiACIhATgQklHLCpouiTCDKQomdZH369DG23quIgAiIgAhEn4CEUvTXSCOsIgFOnR89erTn+sEdVR3XUxW7rrQ6Y2nWrJnnHOrevXuldfWjCIiACIhANAhIKEVjHTSKPBLAokT26ClTpvhOMAKOo1AIkiYnEWfhtW/fPgpD0hhEQAREQAQyEJBQygBIP9c+AgQfszWdE+7nz5/vO6aiMAt2g4Us5mG7fBTGpTGIgAiIgAikJyChlJ6NfqnFBHBzkdjwqaee8m3sYXt6saaENaljx46eYFEiqViroH5FQAREoOoEJJSqzkxX1BICHOBK/qDp06d7XqBiuuA4XoT4pKZNm5bnFKolGDVMERABEYg1AQmlWC9/PCZPbiECvIsllMhlVL9+/XjA1ixFQAREoMQISCiV2IJqOiIgAiIgAiIgAvkjIKGUP5ZqSQREQAREQAREoMQISCiV2IJqOiIgAiIgAiIgAvkjIKGUP5ZqSQREQAREQAREoMQISCiV2IJqOiIgAiIgAiIgAvkjIKGUP5ZqSQREQAREQAREoMQISCiV2IJqOiIgAiIgAiIgAvkjIKGUP5ZqSQREQAREQAREoMQISCiV2IJqOiIgAiIgAiIgAvkjIKGUP5ZqSQREQAREQAREoMQISCiV2IJqOiIgAiIgAiIgAvkjIKGUP5ZqSQREQAREQAREoMQISCiV2IJqOiIgAiIgAiIgAvkjIKGUP5ZqSQREQAREQAREoMQISCiV2IJqOiIgAiIgAiIgAvkjIKGUP5ZqSQREQAREQAREoMQISCiV2IJqOiIgAiIgAiIgAvkjIKGUP5ZqSQREQAREQAREoMQISCiV2IJqOiIgAiIgAiIgAvkjIKGUP5ZqSQREQAREQAREoMQISCiV2IJqOiIgAiIgAiIgAvkjIKGUP5ZqSQREIEsCv/32m82dO9eaNGliSy21VJZXqZoIiIAI1DwBCaWaZ64eRSBrAn/99Zf9+++/Wden4hJLLFGl+jVd+ccff7Rnn33Wpk6dauutt55tueWW1rhx45oehvoTAREQgawISChlhUmVRKDmCCCMEEi8Pv/8c/vjjz+sTp06GQfAdXXr1rW111470mLplVdesX79+tkyyyzj87r55ptt6623zjg/VRABERCBYhCQUCoGdfUpApUQ+OWXX+zJJ5+05557zv7++++sRBLN/fPPP+7G6t27t/Xq1SuyLq0XX3zR9thjDxdK8+fPtzvuuMP69OlTCRH9JAIiIALFIyChVDz26lkEFiEwc+ZMe/755w0x8fvvvy/ye6YvsDwtu+yyhljCSlOvXr1Ml9T47z/88IPdcsst9t5779kmm2xiu+66qzVv3rzGx6EORUAERCAbAhJK2VBSHRGoIQLffvutPfbYYzZhwgRbcsklc+oVK9Tyyy9v22yzjfXo0SNyYgnL15w5c4xYpRVXXNEaNGhgiy++eE5z1UUiIAIiUGgCEkqFJqz2RaAKBIhJuu++++zDDz+slnggrmnllVe2du3a+c4yxFNVC4IGixQxTyussILVr1/fFltssao2k9f6P/30k+GuQwgisEIhPisxjou/Z82aZX/++ac1bNgwJ7EIw9mzZ3sX9MX8q1oYB1ZCWBKwXp0dfgsWLPC50ybzz8VaCDtcu7CCC9ZHFREQgcoJSChVzke/lgABtqLzYFh66aUjP5sPPvjAbr31VsM9VV1RQjA4QiEXkQQoHu7LLbecbbTRRtasWTPbYYcd8sIQa9Kjjz7qa4IAYdcbliXKwoUL7eOPP3a3HJ+7du3qouCzzz6zL774wsUP1yPcmjZtamussYaLQR76FATmV199Zd999519//33Hggf6q677rrWtm1bD3j3yin+Q8qCTz/91GbMmOF90QalUaNGLji5fq211soomli/yZMn+zhoC5bMsUWLFta6dWtr1aqVu1gRUS1btvTdfyuttNIiI+I6rn///fd9/kG4MSdSK6y++urGvCoTPIgj7qtp06a5aENscm+FNpgPr9rwv49FAOkLEagBAhJKNQBZXRSXwDfffOPxPquttlq1/kVfE7PgQY9Q4kFfXaGUj/FivUBs8Tr33HOtTZs21W4WAYE44sG86qqr2tVXX22bbrqpt4tQueqqq+zyyy9368lJJ53klo+HHnrI3nzzTV+/wIUYro033tiOOOII23777X2H4GWXXWZPPfWUW01Ik4BARmzgxqTOkUce6aIkVQoFRMiDDz7oweXvvvuup2WgL9qAA6/OnTvbQQcd5MHyqcQJdRBqWAWvvPJKnwPXU2CIVYrYMXb9nXfeeS5gGNcJJ5xgXbp08XqJ/5kyZYrdfvvt9sADD7jICW3RDwIYEXvsscda9+7dXVAmXstnrGqI0ptuusk++eQTH0PgBxdcnly77777uigNgjO5Hf0tAnEmIKEU59WPydynT5/uFgq2zvfs2TPSs46aUAqwgkjAqoQlpzqFIG6CzXFDYWFB3HTq1MmbJG7p+uuvd/EUUiQgDhA61Ochz1gQHfyOO2qdddbxhz0B8FiDqMdacx1iIAg93hEFp5xyirVv3758CrSHleqss87ynYa//vqr78hDTIX+gnWO37BiHXbYYda/f//yNsIHXKdXXHGF3XPPPeXjCO1Qh3YQeLzzPZ+7detmgwYNss033zw04+9ff/21XXzxxXbbbbe5RSvMix+ZF65B5o8b7tBDD3URSJ1QmNOdd97pAhd+vOgTccScw5zgAi+E8F577eXcQht6FwERMJNQ0l1Q8gRwgzzyyCMulthhxYMpqiXKQgnrz4EHHujunurwy1Yo8QBHEOCywtqCuMLV9PPPP9vdd9/togYrEAIgCBpceYgGLD9Yb3DZsfa8EAMIixEjRtjee+9dbrGjn2uvvdYFGq42+ttiiy3c1YigwvX10ksvGVatL7/80qdO3BaWP9xlwcqD8CDVwdChQ91ahsWHXX077bSTW7EQWeSQQkRh6UGspBNKxBEh6Bg37eJmO+aYY5wDsUlYmm4qsxKxQxLLFt9hdcI1GMbz9NNP24ABA1z00Qb/SIAhc4Ih19I+Y8HNiVhFsCmnVXXubl1bigQklEpxVTWnCgQQSuwkIy8RFgzcHltttVX5A6VC5SL/EWWhtMoqq7jbCbFSnZKtUMJiggXk8MMPd/FDgkrEDuKJB/tZZRaghx9+2D/zHa68Cy+80K1GwYWEaHjnnXe8DQQBAmHIkCE+j2AZQ5Tg/sI1RTwbrqzjjz/e28NCg5Ci0DYCjXaIK8J1hugOO/beeOMNdxkiQBAum222meE6JP4nWHHoC5GDIMHig1DCypVsUWJuuAERaWQvHzx4sO9gZI5BFOKKvOGGG7we/e23334uphBVCEJcdogtLE4E9uPOXH/99f2+hxcsuN8QU/PmzXO2w4YN8zaqs766VgRKjYCEUqmtqOazCAGE0uOPP+7HZvDgIzCZByOuDh7EUSoSSv+53hAVO++8sx111FHuXktep/vvv9/jmRAeWFWwlJCfKYikUJ+4p//7v//zWB3EAdYkXGcIGApi5brrrnNxgRDDorLBBhuEy8vfsQbhJhw3bpzHViHgsLCFewiXIf1gveE+I9YKERSEVGgIATh27FgjIznutW233bZcKGFlwv1IzBACD5Gz22672TnnnJNS2COmEHaMgVxUzB8hiwjj8wUXXOCWNQLIsXaFoPnEsZx99tm+eQBxRV+77LJL+FnvIiACZQQklHQblDyBIJSwKPEA40GGG2m77bbzYGC+i0qRUPpPKLFbC4sMFg+sJMnl9ddft1GjRtkzzzzj64lFBWtRcD2F+gguLE/Dhw/34GosioivIIawriCmEClYrRLTACAesDIhdth1h8BBoHH/0F8QKfR1/vnn+wsxgjAhoBuhk1zoB7F12mmnuRULl1iwKDEW3Hy474i36tixo4+V2LBUBesccyEOj2vJ6I5gxO2HRYnfsJwxp+OOO85FGZbBxEJcFYywnCG2lPwzkY4+i4CEku6BGBBIFEphCzRWBB5mxGwQR0KcSxSKhFJFoYTLCatNqq3zWFwuvfRStxQRm4PbCEthsgUHNx0JPInxwcVEHQQEO8aSC+IMgYLwQDywlZ53xA3vuNfYEcd4EoUS8UdYb8aMGeNuLpJ9XnLJJeXWpsR+EDGIdtxrHAycKJT4DUsQ7bBbs0OHDu5yIx8WAj+xcM9+WRYzhQhkpx33NHFKISgc1xxCjrQAiEfa4DfaRAwhoHDJkfpARQREID0BWZTSs9EvJUIglVBialgK2MHEuWgE7yY/YIsxfQml7IUSaQZwhbH9fc0113QrzI477rjIOiIg2BGHaAhC6eijj7YNN9ywfIkRKORvwtKDO+vtt992cUQ8EIKEewOxwTuiieSRiUKJdA7sULupLMAai83uu+/u40klwCsTSoghds0hlnCfUbhPsfYkW8oYB65CxD/jQhDiQkR40S/C7tlnn/Xgddx5zJ06XIf7mZQM3Pdw4B8NCKbkPsoB6YMIxJiAhFKMFz8uU08nlJg/D47ghiPAu9hFQqnmhRIuKxI6IqQI6EZ44I5FhCBA2ADAbjruFaw8iCLca4lCie/ZTYfAIV9X4m/J91QmoYRl6t577/VYJQQP8UfZCBhin7BiYSUNllPmRgwXQd8vv/yyW8gYD8KLF78zL4LXGXOyWy557PpbBOJIQEIpjqseszlXJpRAwYMLNwQn2BN8m81DqVAIJZRqXigRh0QAM6kE+MzWf9JIEMOGiypYbhBIiCGCsJPFEBYbdsWRPBPhXR2LEokqsUyx4w23MDFVBGhzn1ZWED1Yh7AWYQkLhe95YaEiQ/dbb73lLkSsZrRJXd4JnCfInRgnFREQgf8ISCj9x0KfSpRAJqHEv6jZKUXsCmJJQmnRGwGxUNPpAYgXqixGKR+uN6wqCAeybdNfq7KjRcjeTeJFrEmJBaGBGCLnEukBEq1G8CFhI0KKuJ9uZWkDCDQPO+IS20GUkEKAGCUsWMkxSrgSsSoRK4VbGDchsUVYjCorjAELFPdvunuYNnDl4Y7ECka6A2KciLHCakYQ+YCy4HkVERCB/whIKP3HQp9KlEBlQgmRRLwJR2qwTZvPxSyyKNWsRQmBQI6t008/3fMKYVFEnHE0SnIhGSVCKZVFiboXXXSR76zDOkmwNwIkeTt+aJOdeqmEEpYfhBtuQIQSR8YccsghdvDBB4dLs3on4Jw+iEvCjcicOLcvuSDUEEZYy4hpIsj9zDPPrGCRSr5Gf4tA3AhIKMVtxWM433RCCZHEwaCIJHYpFVsksTQSSjUrlHC1kWOLrfqIJixFYfdc4v9UsNZgSSIbNy463FvkOkLQhIBt0gEgpBAdiBPa2X///ct/D+0hXvht/PjxRmbxHj16lKcHoA6/H3DAAR5QjmUI6xS5jnC/JRcsYq+++qrXJZAdlyCWMHb5Eeg+adIkF0ijR49Om3Eb195HH33kYxk4cKALJRJYqoiACPyPgISS7oSSJ5BKKLG7CFcDR2MgkhBMUSgSSjUrlLgPsODss88+HtyMa2qPPfYwBEMQzggX4nnIocR2fpJbkh+JeuR5CkIJVxYxSsQYsYMM0YXbjDgj8hjRFyKKHXjskEN8IXQQQiGPUrgHaePGG2/03E24PHHBIcyIfyLXEyIfVyHuRwLIEUuMmf7IOfVlWdoAEl7yYh5Yyki0SZJNxk5cEnFV5IbCgkR6AYQiKRROPfXUMAy9i4AIlBGQUNJtUPIEkoUS7g12BZGBOSqWpLAIEko1K5TgjlWHjNSIi3BvkHOI7fMICtYECw2iBpFCjBHCh9giYokSE5bi7sLKhOigHiIHkUL6ArKCk/uJLfthRx3xQqmEEvmbEDCcL0c8EX2QfBLBhDsPkcNOPZJuYuFC6HPUCe4/BBqijFgnXIq0hbDi8GBEG3mU6J/AbgQWCSf5nTmz+w0Lk4oIiMB/BCSU/mOhTyVKIFEo8cDhIUE8EtuosSpFqcRFKPHAZy0QEriIOJCVggDgKBAsM/kO5sZqQ5vJCSdDcDXB2FhWcHchmHhREEtYjbDEBEsOQdrsjmMbP+IpFKxP5GEiSzfXI1hoH+sR7eIWY960ifUK118qoUR7CBksS0888YRfF9oKfdEW7SDaOFcOkZSYPBKBRJwUx6okjiXMK4yHuTAWLEm4ChPnE/rSuwjEmYCEUpxXPyZzD0KJf+0jjBBJbP2OYhxGXIQSVhYEA9YPDmsNwdNBKJF0EVGDa4tAZmKCkgtuJ/IGIQbIzE2cUaqEk4gbLEJsfUfIUAfRlJhwEiGDdQZX1cSJE8uPLaFPRBL3CwHRZL4mCBtxwr1Eu8lZwxE/tMXYyGGEJQpRQiHdANvwcaGRfRtXHoKd8WDBSi6Mlx1yxEdxXAnCiLYQTbjYsBLhPiamifs59BPawRoFJ8Qn8UrhqBbqIZgQW1iQcOtxpAtuRRUREIGKBCSUKvLQXyVIYObMmf6A4/gJHko89HjQRbHEQSghXDgMloc11gxEUEiQiPUFgYRg4jMuJSw5WAGTCyKABz+7tRAz1E21swsRhHhh1xrigLXH8hL6DO0iaOh31qxZ/sJ9hhhiuz9jQJgwNu6nIFgQeqnGxtjpj/rffvtt+VyYKxYb3GJYi3B74fbD5YXrK1XBPUdqAuZJ37jwiDtidx3iCHFTmWWUecEp8GJ+CC1SYjAn3uGRKpVBqvHoOxGIGwEJpbiteAzny4OKk995WGJN4KEX1RIHoRRV9onjQlAhMBBgyVaaxHrJnxGBWDARHkG0IUoQa4lChMBrLFcEdx966KHu9kKwZCphXFjjci3Mi/EwNxUREIHMBCSUMjNSjVpOAOsF/yLHMpDsJona1CSUorYi2Y8HQYT4ueOOO9zaQxJLzhJMLAgUXMC4CbHsIFqGDBniFqXEevosAiIQHQISStFZC42kQARwO+AqyeZf7AUaQtbNRlkoceYZD38OUFVZlAD3GTFOBEXjYhtQlsixc+fOflYcFiBcXyR4JACc3W+40vid2KeuXbsu2qC+EQERiAQBCaVILIMGIQL/I0DwL0kNiW9B3EWlYAlBIPXv398DsKMyriiNg/gmgr2JPeIzsUQIJHbHEU+EBenjjz92KxLfEytFYDjB3QRVq4iACESTgIRSNNdFo4opATIk33777TZ9+vRICSViY8g7RSA8AcAqqQnAiU0DuNaIjcMdR2A33yN8w5Z+YpgI4GZzQVQ3FqSeob4VgfgRkFCK35prxhEmwE4r4lywKlUnYDefU8SaxMOeLf19+/ZNe35ZPvuszW3BCosS2/kRvuRDwkLIDjVilrDMkUcKwZlqx1xtnrvGLgKlSEBCqRRXVXOq1QTYn2hdIQAAFNlJREFUNcW5YS+99JLPoyq7rvI9cSwhPMy7lR2zQaJGguGLOZ58z6+Q7bEDjhexSQRtY01ipxkvWZEKSV5ti0B+CUgo5ZenWhOBahPAIkG+HLaOz5gxwx+yxRAnYQs52bPZMZgq6WO1J6sGREAERCDiBCSUIr5AGl68CZD7CeFULKFE7p/kxIzxXhHNXgREIG4EJJTituKarwiIgAiIgAiIQNYEJJSyRqWKIiACIiACIiACcSMgoRS3Fdd8RUAEREAEREAEsiYgoZQ1KlUUAREQAREQARGIGwEJpbituOYrAiIgAiIgAiKQNQEJpaxRqaIIiIAIiIAIiEDcCEgoxW3FNV8REAEREAEREIGsCUgoZY1KFUVABERABERABOJGQEIpbiuu+YqACIiACIiACGRNQEIpa1SqKAIiIAIiIAIiEDcCEkpxW3HNVwREQAREQAREIGsCEkpZo1JFERABERABERCBuBGQUIrbimu+IiACIiACIiACWROQUMoalSqKgAiIgAiIgAjEjYCEUtxWXPMVAREQAREQARHImoCEUtaoVFEEREAEREAERCBuBCSU4rbimq8IiIAIiIAIiEDWBCSUskaliiIgAiIgAiIgAnEjIKEUtxXXfEVABERABERABLImIKGUNSpVFAEREAEREAERiBsBCaW4rbjmKwJFJvDXX3/Z3LlzfRR169a15ZZbzpZYYom8juqff/6xX3/91V/0scwyy1i9evXy2kdVGmPOjOf333+3xRZbzJZffnmfc506darSjOqKgAgUgYCEUhGgq0sRiDOB77//3m644QZbfPHFrWHDhta3b19r0aJFXpEsWLDAxo8fb5MmTfI+NtxwQ+vcubP3mdeOsmzsu+++s9dee82mTJnioq1fv37WunVrQ8SpiIAIRJuAhFK010ejizmBv//+2/79998qUYj6w/edd96xrl272tJLL22rrLKKjR071jbZZJMqzTFT5ZkzZ9o555xjV199ta2++urWv39/O+mkk/Juuco0jvD75MmT7bLLLrMHHnjAGjVqZFdccYX17NnTRVOoo3cREIFoEpBQiua6aFQxJ4BAwn30+eef2x9//GHZuGgQVIikdu3aFc1yks2yvffee9a7d29baqml3JKEgOjUqVM2l2ZdZ9asWXbBBRe45aply5a2zz772ODBg4smlN59910bM2aMPfLII27hGjFihPXo0cPFYtaTUkUREIGiEJBQKgp2dSoC6QkQy/LMM8/Y888/b8S2ZFsQVlhpevXqZdtuu60tueSS2V5ao/UklBqahFKN3nLqTASqRUBCqVr4dLEI5JcAlpBx48Z5fA2CiZKNNYl6WJSoS3B0nz59rHv37pF07UgoSShxv6qIQG0hIKFUW1ZK44wFgW+//dYeffRRmzBhgrumcpk0VqgVVljBrUrdunWzZZddNpdmCnaNhJKEUsFuLjUsAgUgIKFUAKhqUgRyJTBt2jS7//777YMPPqhWnNHChQs9ULp9+/bWtGlTI+apqgVXHiKrbdu2HoBcv379rK1blfWVq1CaN2+e/fLLL8Y4GjRo4Nvs0/WTHKO077772oknnlhefc6cOfbnn3/6Nn1SB+RSfvzxR9/yz3jYvVdZySVG6bfffrOffvrJ1w4rIS8VERCBmicgoVTzzNVjDRMgdw0uKYKHo14QSLfeeqv98MMPlQqBbOaBZQkxkItIon2EEg9ndqSttNJK7s4jBqq6JVuhhCuRYPZvvvnGZs+ebWyxRyyxa6xx48bWqlUrF3ErrrjiIkNKFErU22+//TygGyFKe7TFfcG17Lwj4JsgeHIcVVYQLp988omPizWaP3++j6dZs2bWvHlzW2ONNWzllVdepIlshRLrxZw//fRTI40Cgo51ZL5NmjTxlAJrrrmmC7xFOtEXIiACBSEgoVQQrGo0SgR4MGJh4WGY78SG+Z7nhx9+6EKJB3mmh3a++07VHmKFhzev888/3x/UqepV5btshBIi5v3337drrrnGnn32WRdIrB2ClzEhHrB07bHHHrbrrru6aEocQxBKN954o6222moe4I6Yueqqq1yAIJppCzHITsFtttnGjjvuOFt//fXT3iPEjLFr7brrrrM333zTg+VDG/Dh/mI8AwYM8N18/BZKNkKJ9l999VW76aab3PWK9YxcU6EP7od11lnHRd/222/v4jW0r3cREIHCEZBQKhxbtRwRAtOnT/eHLrvA2JId5RI1oRRYISi22morI1FiKgtOqJfNeyahhOh47LHHbPjw4W5ZwzWGYAjCkbHwQiwhqHbaaSfPUZRo7QpC6ZZbbnGrGPURWIitID74O7TDO4KK3EvEdaUqV155pYsY4sjoK7RDXax2jJuy0UYbGXURZkEsZRJKpIAgiP/II4/0tmg7tB+EUkgZgVVr6NChdsghh7ilyTvVf0RABApGQEKpYGjVcFQI4CLBEkBWZKwPXbp0icrQFhlHVIUSogIhMaDMWkICx+qUTEIJlxN5lnCzEaez8cYbuxgiuzauwFdeecUefPBBd4EhGkJCycMOO6x8WMlCifEjqvbee28XfGQCp/3nnnvOEFMIH8QKLrqBAwe6C628sbIPt99+u11//fX28ccfe3zUZpttZvSHmw33G+5SUjrgIiQmbK+99rITTjihPPN2JqGE9ezMM8+0t99+27tda6213NW5xRZbuGDC0vT444/7nBFkjJcEmoglFREQgcISkFAqLF+1HgECCCV2kr3wwgu26qqr2g477GA8gMK/9iMwxPIhRFkoIS4OPvjgggol3E2IIEQArihyQiFcsGYFKwvfv/XWW55QEmGBeCLTN0ImlCCUEDDBIjVo0CDbeeed3WVFW4gnXJwPP/ywW6RwzxILdPLJJ3s8E21haUJg8x0CD5cd98+wYcPKz2ujzs8//+xWJFyF/E1M11133eUuQe6zTELpiSee8Hli8UIIjR492tM7EChOYc5YRo8++miPX+KsPOZz9tlnRzZflg9c/xGBEiAgoVQCi6gpVE4AocS/xol14UGHFQAXEkHKUTvuI8pCiaDngw46qKBCCQvS66+/7rE6WIAQtLxS7fhCKCCqcMHh7kIMB/dcEErE++AqZK0vvPDClIHWiCV2xX311Ve+ywz3F64tdvwF0cLZdLjcEG7EMqU6coW4pUsvvdQThSJwyDiOqxehlkkoPfTQQ37MCgHbCLann37aOnTosMiNzZEsiEOCvEkqiuWKA3ZVREAECkdAQqlwbNVyRAgEoYSbBaHEg7VV2U6o7bbbzjp27Bipf5HHXShhjcGqhEjCEoNwCJY/XGMIKWJ1EE5YU+677z7DukIQNu7VsNU/CCUEDkHWCAqsQqkKfdIWogurDe453Ga49BgH7lp2utEPKQZOOeWUVM24C45Ab45OYWfeMccc4+IHIZNJKBGfdPjhh7tIYn5ci5gnYB3rVyjcywg7OIQde4mxWaGe3kVABPJHQEIpfyzVUkQJJAql8FDhAcg2a2JhOGcsKrvh4i6UEm8hBO3XX39tM2bMcJFCLBAxSQgm1uvll192dxjWFYQSLrR0QonYo2OPPTblOtMPrq9zzz3XPvvsMxco1CUmiv64PxAm9LvbbrvZLrvs4mIuCDjGjCWLOi+99JLdc889nutpzz339PPlSP6ZSSiRtgBrFHOg4ALE3Uh8FrFhCEZin6obSO+N6z8iIAJVIiChVCVcqlwbCaQSSsyDBxtiieM+CM5NfPAVa54SSv8jj/WGAGZcUi+++KJv6Ucc4SoN7tIQs4ToXXfddSsVSpUdiosFB4GDpWjq1Kke70QsEEfA4G7DxUUMEv1zzwRrV+I9QrwT9w87K3kxNnbPnXfeeR6vlEkoIdZwqWHZIp0Fgea44BBnJLNErHXu3Nk233xzt3QhnIKbMXEc+iwCIpB/AhJK+WeqFiNGIJ1QYpg8iHDN4IbjQVTsIqFkbq1hmz7WFYKYcZciChAqWFp4YRnE+oM1CUFRXaH02muvuVsNoYRoPuKII4xcRSR+3HHHHX1MCDTGkUmgIJoQSolxUZmEUrjvuFfJ9US8FZm/6QvXYHgRM8V4EHLkVFIRAREoPAEJpcIzVg9FJlCZUOKhxoucN1iW2D1VTMtS3IUSwujJJ5/0rfLEKrEWffv2tf33398zZyNW+I5A6xEjRtgdd9zhFhjcZJW53jJZlIhfY3s+4mvrrbd2IYLri1QF/I1FCXFGziYCurEspSvcTwgcrD64BLMJ5g5tcS3iHQ7cC5MnT/YdfiGAG2sV8+doGoLZe/bsGS7VuwiIQIEISCgVCKyajQ6ByoQSo8QiQcAtFgQsSxJKi64dD/Ca2PWGqwsX2MSJE10ssAON+KLWrVsvsi5jxoyxm8p2tX355ZceT5ROKLUqC9xnV1tlMUr33nuvjRw50ogVwmLDzrb11lvPLUnsXOMeQrycdtpp3k5lQinQQywFYZOtRSlcyzvWI/qkL4LTYcIYuV9DwDesinm/Jo5Xn0WgVAlIKJXqympe5QQqE0o8dNihxBZ0YlGKHSwbd4sSFh2OASFwmxe5kRAuqQoWJYQS67vBBhuktChxhAkCj/xJxP+kKri1cLVNmDDB20KYsbuNnFvEI/E3OZRIJolwO/XUU8uDxlO1l+q7yoQSwerESJHMMlitODMuxGKF9pjnkCFD/PgUxsJuPPJNtWnTJlTRuwiIQAEISCgVAKqajBaBdEIpBMpGRSRBLe5CiQNh2cpPMDfuLmKVBpRlAydOKbGQyfriiy92gbFgwQKPUSLwu169el4tpAe4+eabXQiT6ZrAamKZkgtt0QfxTtwTuLRCVm2sOliuEGzcR1iZyIbNGFOVL774wgUXO9WIecOiRKlMKHHNtdde66IPyya5qohBCjv4EvshF9Sdd97paQzYsYmVjJ1xKiIgAoUjIKFUOLZqOSIEUgkldhmRFHDLLbeMhCUpoIq7UCKPEdacN954w11Mm266qec1Yp2wsCCKsKZwlhrpAXBNsZbE7LAtH+sgrqgglEJmbr4LsU648RAwuK9wtXE8CTmYaBtBhZWGeDUK1iasXIMHD/bzAumLIG0ECgkhuYdwS+IeY+zkYqI9dlMi5GiPwO7KhBJWTcaJOGOHG+PDcoQoQzgxVsbGfcy8x48f732RfgDXG65FFREQgcIRkFAqHFu1HBECyUKJBxs7qNj+TTAseW6iUuIulNgWj2jAioPbCwGCGwqhhCuMrfOc9UZ+JQriiXrt2rUzkksiGhKFUjgUl7qIKna08WrevLnvKmO3G8keg/WGRI8EjpOzKLEwHiw59ItY4vf+/fu7qOF+4nuOyCHomv7J/k5wOPdYNsHcpEKgbyxpWLU4AgVBxgvxRxwWx7aQKgGBh/gijgoBpyICIlBYAhJKheWr1iNAIFEo4cLhIbPNNtu41YB/sUepxEUosXOMtSB+iKM+yBMUCmJhQJkrjGzYiAYKYoQXIoQgadYQAYJrjFgmsmiTMJKdavweLEq43kJKAbbbUx+hEUpoj3d2PGLNWnvttcPP5e+IMcQSVivuJ/qgHcZECe1ggcLtNnz4cOtWlkeJ7ymVWZT4nXEhlsgezthpm7YS501bzBsmxE3hAkREqoiACBSWgIRSYfmq9QgQCEKJ0905+oJdTOxwS3V+WLGHGwehhGhAlBC4jKhAgCTG2SAQOKYDyxIHy+LSwv2EaECgELyMoMGygxBiXcmFxREgBFtjZcI9R3zT2LFj3S2HKwtRTKzRO++842IjiBsC+HfffXc78MAD3dKU7h5gXIiZ2267zc9zI2s342FcCBjmggWJQ3OZD7+FwpxHjRrlR65gIWLOiHUYhMJ8OG8O9xr9MG9EUeiDd860QySRsqDYGw/CuPUuAqVOQEKp1FdY87OZM2faAw884Iet4mpDJDVo0CCSZOIglHCnEfeDUEEAYVUiL1JywbKEyOWFSw53KS4tBA+uMwQK1hcsSrSD5QjxQLuIDq5DMGF5wpXF9dwLWJZ4Zxxcw2+8Z+OCRbgQ9E0bCCXaoV36RQBxXxFnxHeJhb4YC/NAVDFn4psSxVSoz7jJIcW8mB8uQ+qSlynMMQSth2v0LgIiUDgCEkqFY6uWI0KA3DwE/rKLioSBPGyiWuIglHJhT8AzAiN5y3wubXEN1iHEFAKrOiVYfPI1ruSxME76YJypRFVyff0tAiKQfwISSvlnqhYjRoBAW/41j+UAS0SUi4RSlFdHYxMBEYgjAQmlOK56zOaMq4R/jeMaiXqJslBq0aKF5/hh+7qKCIiACMSFgIRSXFZa86wVBKZMmeJBzJwxFiVXC/FA7Cw74IADPHC6VsDUIEVABEQgDwQklPIAUU2IQL4IYFEiYSHHWkRJKBErw04rzsIjqFhFBERABOJCQEIpLiutedYKAux2IqkgYilx63gxB481icBntr7369dP29KLuRjqWwREoMYJSCjVOHJ1KAKVEyCHEKfZk4Gare68ilWwJLHbrEuXLn4ECMHwUbJ0FYuL+hUBEYgPAQml+Ky1ZlpLCJCVmZQGJBzkHWtOMcQSliS2pRPETd6fqO8YrCXLq2GKgAjUMgISSrVswTTceBEIh74WUyiFc9DiRV6zFQEREIH/EZBQ0p0gAiIgAiIgAiIgAmkISCilAaOvRUAEREAEREAEREBCSfeACIiACIiACIiACKQhIKGUBoy+FgEREAEREAEREAEJJd0DIiACIiACIiACIpCGgIRSGjD6WgREQAREQAREQAQklHQPiIAIiIAIiIAIiEAaAhJKacDoaxEQAREQAREQARGQUNI9IAIiIAIiIAIiIAJpCEgopQGjr0VABERABERABERAQkn3gAiIgAiIgAiIgAikISChlAaMvhYBERABERABERABCSXdAyIgAiIgAiIgAiKQhoCEUhow+loEREAEREAEREAEJJR0D4iACIiACIiACIhAGgISSmnA6GsREAEREAEREAERkFDSPSACIiACIiACIiACaQhIKKUBo69FQAREQAREQAREQEJJ94AIiIAIiIAIiIAIpCEgoZQGjL4WAREQAREQAREQAQkl3QMiIAIiIAIiIAIikIaAhFIaMPpaBERABERABERABCSUdA+IgAiIgAiIgAiIQBoC/w/olh2z9AJ3bwAAAABJRU5ErkJggg==)"
      ],
      "metadata": {
        "id": "Eyz8uF_2M_36"
      }
    },
    {
      "cell_type": "markdown",
      "source": [
        "# Train Model"
      ],
      "metadata": {
        "id": "If6KzrLeqWh_"
      }
    },
    {
      "cell_type": "markdown",
      "source": [
        "#### Check acces to GPU\n",
        "\n",
        "Let's make sure that we have access to GPU."
      ],
      "metadata": {
        "id": "s16Tu43qTKTe"
      }
    },
    {
      "cell_type": "code",
      "source": [
        "!nvidia-smi"
      ],
      "metadata": {
        "colab": {
          "base_uri": "https://localhost:8080/"
        },
        "id": "ur7uLhPfTP3T",
        "outputId": "317092fa-55c5-48af-c4e5-c03611dee863"
      },
      "execution_count": null,
      "outputs": [
        {
          "output_type": "stream",
          "name": "stdout",
          "text": [
            "Sun Apr 16 22:44:05 2023       \n",
            "+-----------------------------------------------------------------------------+\n",
            "| NVIDIA-SMI 525.85.12    Driver Version: 525.85.12    CUDA Version: 12.0     |\n",
            "|-------------------------------+----------------------+----------------------+\n",
            "| GPU  Name        Persistence-M| Bus-Id        Disp.A | Volatile Uncorr. ECC |\n",
            "| Fan  Temp  Perf  Pwr:Usage/Cap|         Memory-Usage | GPU-Util  Compute M. |\n",
            "|                               |                      |               MIG M. |\n",
            "|===============================+======================+======================|\n",
            "|   0  Tesla T4            Off  | 00000000:00:04.0 Off |                    0 |\n",
            "| N/A   52C    P8    11W /  70W |      0MiB / 15360MiB |      0%      Default |\n",
            "|                               |                      |                  N/A |\n",
            "+-------------------------------+----------------------+----------------------+\n",
            "                                                                               \n",
            "+-----------------------------------------------------------------------------+\n",
            "| Processes:                                                                  |\n",
            "|  GPU   GI   CI        PID   Type   Process name                  GPU Memory |\n",
            "|        ID   ID                                                   Usage      |\n",
            "|=============================================================================|\n",
            "|  No running processes found                                                 |\n",
            "+-----------------------------------------------------------------------------+\n"
          ]
        }
      ]
    },
    {
      "cell_type": "markdown",
      "source": [
        "#### Installation"
      ],
      "metadata": {
        "id": "5nM3huhiQzX3"
      }
    },
    {
      "cell_type": "code",
      "source": [
        "!pip install ultralytics"
      ],
      "metadata": {
        "colab": {
          "base_uri": "https://localhost:8080/"
        },
        "id": "7tA-hHTIQzZ0",
        "outputId": "0c51379d-d907-47c3-b697-e60337f809bd"
      },
      "execution_count": null,
      "outputs": [
        {
          "output_type": "stream",
          "name": "stdout",
          "text": [
            "Looking in indexes: https://pypi.org/simple, https://us-python.pkg.dev/colab-wheels/public/simple/\n",
            "Collecting ultralytics\n",
            "  Downloading ultralytics-8.0.80-py3-none-any.whl (515 kB)\n",
            "\u001b[2K     \u001b[90m━━━━━━━━━━━━━━━━━━━━━━━━━━━━━━━━━━━━━━\u001b[0m \u001b[32m515.6/515.6 kB\u001b[0m \u001b[31m10.3 MB/s\u001b[0m eta \u001b[36m0:00:00\u001b[0m\n",
            "\u001b[?25hRequirement already satisfied: psutil in /usr/local/lib/python3.9/dist-packages (from ultralytics) (5.9.4)\n",
            "Requirement already satisfied: tqdm>=4.64.0 in /usr/local/lib/python3.9/dist-packages (from ultralytics) (4.65.0)\n",
            "Requirement already satisfied: pandas>=1.1.4 in /usr/local/lib/python3.9/dist-packages (from ultralytics) (1.5.3)\n",
            "Collecting thop>=0.1.1\n",
            "  Downloading thop-0.1.1.post2209072238-py3-none-any.whl (15 kB)\n",
            "Requirement already satisfied: scipy>=1.4.1 in /usr/local/lib/python3.9/dist-packages (from ultralytics) (1.10.1)\n",
            "Collecting sentry-sdk\n",
            "  Downloading sentry_sdk-1.19.1-py2.py3-none-any.whl (199 kB)\n",
            "\u001b[2K     \u001b[90m━━━━━━━━━━━━━━━━━━━━━━━━━━━━━━━━━━━━━━━\u001b[0m \u001b[32m199.2/199.2 kB\u001b[0m \u001b[31m9.9 MB/s\u001b[0m eta \u001b[36m0:00:00\u001b[0m\n",
            "\u001b[?25hRequirement already satisfied: torchvision>=0.8.1 in /usr/local/lib/python3.9/dist-packages (from ultralytics) (0.15.1+cu118)\n",
            "Requirement already satisfied: matplotlib>=3.2.2 in /usr/local/lib/python3.9/dist-packages (from ultralytics) (3.7.1)\n",
            "Requirement already satisfied: opencv-python>=4.6.0 in /usr/local/lib/python3.9/dist-packages (from ultralytics) (4.7.0.72)\n",
            "Requirement already satisfied: torch>=1.7.0 in /usr/local/lib/python3.9/dist-packages (from ultralytics) (2.0.0+cu118)\n",
            "Requirement already satisfied: Pillow>=7.1.2 in /usr/local/lib/python3.9/dist-packages (from ultralytics) (8.4.0)\n",
            "Requirement already satisfied: seaborn>=0.11.0 in /usr/local/lib/python3.9/dist-packages (from ultralytics) (0.12.2)\n",
            "Requirement already satisfied: requests>=2.23.0 in /usr/local/lib/python3.9/dist-packages (from ultralytics) (2.27.1)\n",
            "Requirement already satisfied: numpy>=1.21.6 in /usr/local/lib/python3.9/dist-packages (from ultralytics) (1.22.4)\n",
            "Requirement already satisfied: PyYAML>=5.3.1 in /usr/local/lib/python3.9/dist-packages (from ultralytics) (6.0)\n",
            "Requirement already satisfied: python-dateutil>=2.7 in /usr/local/lib/python3.9/dist-packages (from matplotlib>=3.2.2->ultralytics) (2.8.2)\n",
            "Requirement already satisfied: pyparsing>=2.3.1 in /usr/local/lib/python3.9/dist-packages (from matplotlib>=3.2.2->ultralytics) (3.0.9)\n",
            "Requirement already satisfied: importlib-resources>=3.2.0 in /usr/local/lib/python3.9/dist-packages (from matplotlib>=3.2.2->ultralytics) (5.12.0)\n",
            "Requirement already satisfied: cycler>=0.10 in /usr/local/lib/python3.9/dist-packages (from matplotlib>=3.2.2->ultralytics) (0.11.0)\n",
            "Requirement already satisfied: packaging>=20.0 in /usr/local/lib/python3.9/dist-packages (from matplotlib>=3.2.2->ultralytics) (23.0)\n",
            "Requirement already satisfied: kiwisolver>=1.0.1 in /usr/local/lib/python3.9/dist-packages (from matplotlib>=3.2.2->ultralytics) (1.4.4)\n",
            "Requirement already satisfied: contourpy>=1.0.1 in /usr/local/lib/python3.9/dist-packages (from matplotlib>=3.2.2->ultralytics) (1.0.7)\n",
            "Requirement already satisfied: fonttools>=4.22.0 in /usr/local/lib/python3.9/dist-packages (from matplotlib>=3.2.2->ultralytics) (4.39.3)\n",
            "Requirement already satisfied: pytz>=2020.1 in /usr/local/lib/python3.9/dist-packages (from pandas>=1.1.4->ultralytics) (2022.7.1)\n",
            "Requirement already satisfied: certifi>=2017.4.17 in /usr/local/lib/python3.9/dist-packages (from requests>=2.23.0->ultralytics) (2022.12.7)\n",
            "Requirement already satisfied: charset-normalizer~=2.0.0 in /usr/local/lib/python3.9/dist-packages (from requests>=2.23.0->ultralytics) (2.0.12)\n",
            "Requirement already satisfied: urllib3<1.27,>=1.21.1 in /usr/local/lib/python3.9/dist-packages (from requests>=2.23.0->ultralytics) (1.26.15)\n",
            "Requirement already satisfied: idna<4,>=2.5 in /usr/local/lib/python3.9/dist-packages (from requests>=2.23.0->ultralytics) (3.4)\n",
            "Requirement already satisfied: filelock in /usr/local/lib/python3.9/dist-packages (from torch>=1.7.0->ultralytics) (3.11.0)\n",
            "Requirement already satisfied: typing-extensions in /usr/local/lib/python3.9/dist-packages (from torch>=1.7.0->ultralytics) (4.5.0)\n",
            "Requirement already satisfied: jinja2 in /usr/local/lib/python3.9/dist-packages (from torch>=1.7.0->ultralytics) (3.1.2)\n",
            "Requirement already satisfied: triton==2.0.0 in /usr/local/lib/python3.9/dist-packages (from torch>=1.7.0->ultralytics) (2.0.0)\n",
            "Requirement already satisfied: sympy in /usr/local/lib/python3.9/dist-packages (from torch>=1.7.0->ultralytics) (1.11.1)\n",
            "Requirement already satisfied: networkx in /usr/local/lib/python3.9/dist-packages (from torch>=1.7.0->ultralytics) (3.1)\n",
            "Requirement already satisfied: lit in /usr/local/lib/python3.9/dist-packages (from triton==2.0.0->torch>=1.7.0->ultralytics) (16.0.1)\n",
            "Requirement already satisfied: cmake in /usr/local/lib/python3.9/dist-packages (from triton==2.0.0->torch>=1.7.0->ultralytics) (3.25.2)\n",
            "Requirement already satisfied: zipp>=3.1.0 in /usr/local/lib/python3.9/dist-packages (from importlib-resources>=3.2.0->matplotlib>=3.2.2->ultralytics) (3.15.0)\n",
            "Requirement already satisfied: six>=1.5 in /usr/local/lib/python3.9/dist-packages (from python-dateutil>=2.7->matplotlib>=3.2.2->ultralytics) (1.16.0)\n",
            "Requirement already satisfied: MarkupSafe>=2.0 in /usr/local/lib/python3.9/dist-packages (from jinja2->torch>=1.7.0->ultralytics) (2.1.2)\n",
            "Requirement already satisfied: mpmath>=0.19 in /usr/local/lib/python3.9/dist-packages (from sympy->torch>=1.7.0->ultralytics) (1.3.0)\n",
            "Installing collected packages: sentry-sdk, thop, ultralytics\n",
            "Successfully installed sentry-sdk-1.19.1 thop-0.1.1.post2209072238 ultralytics-8.0.80\n"
          ]
        }
      ]
    },
    {
      "cell_type": "markdown",
      "source": [
        "Import libraries for training and splitting data"
      ],
      "metadata": {
        "id": "6DQ9F2jLUqtm"
      }
    },
    {
      "cell_type": "code",
      "source": [
        "import os\n",
        "import shutil\n",
        "import random\n",
        "\n",
        "from tqdm.notebook import tqdm"
      ],
      "metadata": {
        "id": "8E2JvBuCUrTH"
      },
      "execution_count": null,
      "outputs": []
    },
    {
      "cell_type": "markdown",
      "source": [
        "Connect to google drive "
      ],
      "metadata": {
        "id": "XSm36I68Qzce"
      }
    },
    {
      "cell_type": "code",
      "source": [
        "from google.colab import drive\n",
        "drive.mount('/content/drive')"
      ],
      "metadata": {
        "colab": {
          "base_uri": "https://localhost:8080/"
        },
        "id": "WHVLQcF6Qzen",
        "outputId": "851f58c0-c50e-4a24-a2c9-00c1bd8c2edc"
      },
      "execution_count": null,
      "outputs": [
        {
          "output_type": "stream",
          "name": "stdout",
          "text": [
            "Mounted at /content/drive\n"
          ]
        }
      ]
    },
    {
      "cell_type": "markdown",
      "source": [
        "Split data into train and validation set"
      ],
      "metadata": {
        "id": "9DXT09fCQzgu"
      }
    },
    {
      "cell_type": "code",
      "source": [
        "#create file paths for the training and validation sets\n",
        "train_path_img = \"./yolo_data/images/train/\"\n",
        "train_path_label = \"./yolo_data/labels/train/\"\n",
        "val_path_img = \"./yolo_data/images/val/\"\n",
        "val_path_label = \"./yolo_data/labels/val/\""
      ],
      "metadata": {
        "id": "ITOXTdTnQzoq"
      },
      "execution_count": null,
      "outputs": []
    },
    {
      "cell_type": "code",
      "source": [
        "# Define a function for splitting training data to train and validation\n",
        "def train_test_split(path,neg_path=None, split = 0.2):\n",
        "    print(\"------ PROCESS STARTED -------\")\n",
        "\n",
        "\n",
        "    files = list(set([name[:-4] for name in os.listdir(path)])) ## removing duplicate names i.e. counting only number of images\n",
        "    \n",
        "\n",
        "    print (f\"--- This folder has a total number of {len(files)} images---\")\n",
        "    random.seed(42)\n",
        "    random.shuffle(files)\n",
        "\n",
        "    # split the data \n",
        "    test_size = int(len(files) * split)\n",
        "    train_size = len(files) - test_size\n",
        "\n",
        "    ## creating required directories for the images and their labels\n",
        "\n",
        "    os.makedirs(train_path_img, exist_ok = True)\n",
        "    os.makedirs(train_path_label, exist_ok = True)\n",
        "    os.makedirs(val_path_img, exist_ok = True)\n",
        "    os.makedirs(val_path_label, exist_ok = True)\n",
        "\n",
        "    \n",
        "    ### copying images and labels to train folder\n",
        "    for filex in tqdm(files[:train_size]):\n",
        "      if filex == 'classes':\n",
        "          continue\n",
        "      shutil.copy2(path + filex + '.jpg',f\"{train_path_img}/\" + filex + '.jpg' )\n",
        "      shutil.copy2(path[0:43] + 'labels/'  + filex + '.txt', f\"{train_path_label}/\" + filex + '.txt')\n",
        "        \n",
        "    \n",
        "\n",
        "    print(f\"------ Training data created with 80% split {len(files[:train_size])} images -------\")\n",
        "    \n",
        "    if neg_path:\n",
        "        neg_images = list(set([name[:-4] for name in os.listdir(neg_path)])) ## removing duplicate names i.e. counting only number of images\n",
        "        for filex in tqdm(neg_images):\n",
        "            shutil.copy2(neg_path+filex+ \".jpg\", f\"{train_path_img}/\" + filex + '.jpg')\n",
        "            \n",
        "        print(f\"------ Total  {len(neg_images)} negative images added to the training data -------\")\n",
        "    \n",
        "        print(f\"------ TOTAL Training data created with {len(files[:train_size]) + len(neg_images)} images -------\")\n",
        "    \n",
        "\n",
        "\n",
        "    ### copyt images and labels to validation folder\n",
        "    for filex in tqdm(files[train_size:]):\n",
        "      if filex == 'classes':\n",
        "          continue\n",
        "      # print(\"running\")\n",
        "      shutil.copy2(path + filex + '.jpg', f\"{val_path_img}/\" + filex + '.jpg' )\n",
        "      shutil.copy2(path[0:43] + 'labels/' + filex + '.txt', f\"{val_path_label}/\" + filex + '.txt')\n",
        "\n",
        "    print(f\"------ Validation data created with a total of {len(files[train_size:])} images ----------\")\n",
        "    \n",
        "    print(\"------ TASK COMPLETED -------\")"
      ],
      "metadata": {
        "id": "qYnIE89z-GmF"
      },
      "execution_count": null,
      "outputs": []
    },
    {
      "cell_type": "code",
      "source": [
        "# split data\n",
        "# Note: it may take 20mins to run\n",
        "train_test_split('/content/drive/MyDrive/exam/unsampled data/images/')"
      ],
      "metadata": {
        "colab": {
          "base_uri": "https://localhost:8080/",
          "height": 170,
          "referenced_widgets": [
            "1908080916d8418da2acfb47e3c8ab65",
            "98fd6a2d942f42bea2d47e41563a068b",
            "3a7e7f1d6b034eb29aea53773ee36722",
            "afb28be75b1e468f98d2cfe59a89ec56",
            "fc30e1ad064c465d8f598f9067a24a77",
            "d533684418f7460589db6f9184ab9a1a",
            "671b9e76bc91472f9b114fb22c311020",
            "06e61ffc2d304f83b77c4837395f5044",
            "31f19353ad5247ba8c1c42df2b720e55",
            "b8c8a2da462944e995f6816cef87f581",
            "22577db0c1b44b118ee0af7d76c4aabe",
            "d7242cc9254240d39825cf20f0429745",
            "e9a89a69575545b1bee9461391fa14fd",
            "af62433b4f2c44cda5c1344a2649f663",
            "2797c44c7494430eaf8f88954a0c1bfe",
            "1118c649efa94d5182280fd87b36d85b",
            "8e9793efe64b42f8a7be1071b6bced15",
            "466038aba8444f2988e84a93de76fb61",
            "d719ec5574e2400cbfb1bac5b866b708",
            "137c0b2476cc40d7a130f8dffec34388",
            "d3c2281f2e5a48479cefb16bf7f08d32",
            "817829eb830f435eafa848cef33e31af"
          ]
        },
        "id": "6GxkBkGmQzsd",
        "outputId": "5268abc9-25bc-46cc-9f3e-8c05531d1c27"
      },
      "execution_count": null,
      "outputs": [
        {
          "output_type": "stream",
          "name": "stdout",
          "text": [
            "------ PROCESS STARTED -------\n",
            "--- This folder has a total number of 2452 images---\n"
          ]
        },
        {
          "output_type": "display_data",
          "data": {
            "text/plain": [
              "  0%|          | 0/1962 [00:00<?, ?it/s]"
            ],
            "application/vnd.jupyter.widget-view+json": {
              "version_major": 2,
              "version_minor": 0,
              "model_id": "1908080916d8418da2acfb47e3c8ab65"
            }
          },
          "metadata": {}
        },
        {
          "output_type": "stream",
          "name": "stdout",
          "text": [
            "------ Training data created with 80% split 1962 images -------\n"
          ]
        },
        {
          "output_type": "display_data",
          "data": {
            "text/plain": [
              "  0%|          | 0/490 [00:00<?, ?it/s]"
            ],
            "application/vnd.jupyter.widget-view+json": {
              "version_major": 2,
              "version_minor": 0,
              "model_id": "d7242cc9254240d39825cf20f0429745"
            }
          },
          "metadata": {}
        },
        {
          "output_type": "stream",
          "name": "stdout",
          "text": [
            "------ Validation data created with a total of 490 images ----------\n",
            "------ TASK COMPLETED -------\n"
          ]
        }
      ]
    },
    {
      "cell_type": "markdown",
      "source": [
        "Create yaml file for training"
      ],
      "metadata": {
        "id": "BqYKDs4DQzt0"
      }
    },
    {
      "cell_type": "code",
      "source": [
        "import yaml"
      ],
      "metadata": {
        "id": "INWeJ4kRQzvD"
      },
      "execution_count": null,
      "outputs": []
    },
    {
      "cell_type": "code",
      "source": [
        "# infomation for yaml document\n",
        "data = {\n",
        "    'train': '/content/yolo_data/images/train', # path to training images\n",
        "    'val': '/content/yolo_data/images/val', #path to validation images\n",
        "\n",
        "    'nc': 28, # number of classes \n",
        "    'names': ['bottle-blue', 'bottle-green', 'bottle-dark', 'bottle-milk', 'bottle-transp', 'bottle-multicolor', 'bottle-yogurt', 'bottle-oil', 'cans', 'juice-cardboard', 'milk-cardboard', 'detergent-color', 'detergent-transparent', 'detergent-box', 'canister', 'bottle-blue-full', 'bottle-transp-full', 'bottle-dark-full', 'bottle-green-full', 'bottle-multicolor-full', 'bottle-milk-full', 'bottle-oil-full', 'detergent-white', 'bottle-blue5l', 'bottle-blue5l-full', 'glass-transp', 'glass-dark', 'glass-green'] #class names \n",
        "}"
      ],
      "metadata": {
        "id": "rqS2-tw3cZtV"
      },
      "execution_count": null,
      "outputs": []
    },
    {
      "cell_type": "code",
      "source": [
        "# create yaml file \n",
        "with open(\"dataset.yaml\" , \"w\") as f:\n",
        "   yaml.dump(data,f,default_flow_style = False)"
      ],
      "metadata": {
        "id": "d-IhA6AAcZwJ"
      },
      "execution_count": null,
      "outputs": []
    },
    {
      "cell_type": "code",
      "source": [
        "# save yaml file to google drive\n",
        "!cp /content/dataset.yaml /content/drive/MyDrive/exam/yolov8/dataset.yaml"
      ],
      "metadata": {
        "id": "txUbsnQZcZyk"
      },
      "execution_count": null,
      "outputs": []
    },
    {
      "cell_type": "markdown",
      "source": [
        "Check environment"
      ],
      "metadata": {
        "id": "ScYmljDpcZ3b"
      }
    },
    {
      "cell_type": "code",
      "source": [
        "import ultralytics\n",
        "ultralytics.checks()"
      ],
      "metadata": {
        "colab": {
          "base_uri": "https://localhost:8080/"
        },
        "id": "ZaUOT3XhQzwX",
        "outputId": "d4104479-dded-4db9-ef43-6dfc4e77f021"
      },
      "execution_count": null,
      "outputs": [
        {
          "output_type": "stream",
          "name": "stderr",
          "text": [
            "Ultralytics YOLOv8.0.80 🚀 Python-3.9.16 torch-2.0.0+cu118 CUDA:0 (Tesla T4, 15102MiB)\n",
            "Setup complete ✅ (2 CPUs, 12.7 GB RAM, 23.6/78.2 GB disk)\n"
          ]
        }
      ]
    },
    {
      "cell_type": "markdown",
      "source": [
        "Train model"
      ],
      "metadata": {
        "id": "3vNmZWVqQzxq"
      }
    },
    {
      "cell_type": "code",
      "source": [
        "!yolo task=detect mode=train model=yolov8m.pt data=/content/drive/MyDrive/exam/yolov8/dataset.yaml epochs=200 imgsz=640 batch=16 patience=20 image_weights=True project=/content/drive/MyDrive/exam/yolov8/training_results name=garbage_detection\n",
        "\n",
        "# comment the code above and uncomment the code below to resume training if notebook is interupted\n",
        "# Note: you will need to run all the previous lines of code\n",
        "\n",
        "#!yolo task=detect mode=train resume data=/content/drive/MyDrive/exam/yolov8/dataset.yaml model=/content/drive/MyDrive/exam/yolov8/training_results/garbage_detection/weights/last.pt"
      ],
      "metadata": {
        "colab": {
          "base_uri": "https://localhost:8080/"
        },
        "id": "kFYuenTxQzy9",
        "outputId": "9bdb79ce-10f1-4aa3-ae39-3f238bb8f613"
      },
      "execution_count": null,
      "outputs": [
        {
          "output_type": "stream",
          "name": "stdout",
          "text": [
            "Downloading https://github.com/ultralytics/assets/releases/download/v0.0.0/yolov8m.pt to yolov8m.pt...\n",
            "100% 49.7M/49.7M [00:00<00:00, 62.8MB/s]\n",
            "New https://pypi.org/project/ultralytics/8.0.81 available 😃 Update with 'pip install -U ultralytics'\n",
            "Ultralytics YOLOv8.0.80 🚀 Python-3.9.16 torch-2.0.0+cu118 CUDA:0 (Tesla T4, 15102MiB)\n",
            "\u001b[34m\u001b[1myolo/engine/trainer: \u001b[0mtask=detect, mode=train, model=yolov8m.pt, data=/content/drive/MyDrive/exam/yolov8/dataset.yaml, epochs=200, patience=20, batch=16, imgsz=640, save=True, save_period=-1, cache=False, device=None, workers=8, project=/content/drive/MyDrive/exam/yolov8/training_results, name=garbage_detection, exist_ok=False, pretrained=False, optimizer=SGD, verbose=True, seed=0, deterministic=True, single_cls=False, image_weights=True, rect=False, cos_lr=False, close_mosaic=0, resume=False, amp=True, overlap_mask=True, mask_ratio=4, dropout=0.0, val=True, split=val, save_json=False, save_hybrid=False, conf=None, iou=0.7, max_det=300, half=False, dnn=False, plots=True, source=None, show=False, save_txt=False, save_conf=False, save_crop=False, show_labels=True, show_conf=True, vid_stride=1, line_thickness=3, visualize=False, augment=False, agnostic_nms=False, classes=None, retina_masks=False, boxes=True, format=torchscript, keras=False, optimize=False, int8=False, dynamic=False, simplify=False, opset=None, workspace=4, nms=False, lr0=0.01, lrf=0.01, momentum=0.937, weight_decay=0.0005, warmup_epochs=3.0, warmup_momentum=0.8, warmup_bias_lr=0.1, box=7.5, cls=0.5, dfl=1.5, pose=12.0, kobj=1.0, label_smoothing=0.0, nbs=64, hsv_h=0.015, hsv_s=0.7, hsv_v=0.4, degrees=0.0, translate=0.1, scale=0.5, shear=0.0, perspective=0.0, flipud=0.0, fliplr=0.5, mosaic=1.0, mixup=0.0, copy_paste=0.0, cfg=None, v5loader=False, tracker=botsort.yaml, save_dir=/content/drive/MyDrive/exam/yolov8/training_results/garbage_detection\n",
            "Downloading https://ultralytics.com/assets/Arial.ttf to /root/.config/Ultralytics/Arial.ttf...\n",
            "100% 755k/755k [00:00<00:00, 49.2MB/s]\n",
            "Overriding model.yaml nc=80 with nc=28\n",
            "\n",
            "                   from  n    params  module                                       arguments                     \n",
            "  0                  -1  1      1392  ultralytics.nn.modules.Conv                  [3, 48, 3, 2]                 \n",
            "  1                  -1  1     41664  ultralytics.nn.modules.Conv                  [48, 96, 3, 2]                \n",
            "  2                  -1  2    111360  ultralytics.nn.modules.C2f                   [96, 96, 2, True]             \n",
            "  3                  -1  1    166272  ultralytics.nn.modules.Conv                  [96, 192, 3, 2]               \n",
            "  4                  -1  4    813312  ultralytics.nn.modules.C2f                   [192, 192, 4, True]           \n",
            "  5                  -1  1    664320  ultralytics.nn.modules.Conv                  [192, 384, 3, 2]              \n",
            "  6                  -1  4   3248640  ultralytics.nn.modules.C2f                   [384, 384, 4, True]           \n",
            "  7                  -1  1   1991808  ultralytics.nn.modules.Conv                  [384, 576, 3, 2]              \n",
            "  8                  -1  2   3985920  ultralytics.nn.modules.C2f                   [576, 576, 2, True]           \n",
            "  9                  -1  1    831168  ultralytics.nn.modules.SPPF                  [576, 576, 5]                 \n",
            " 10                  -1  1         0  torch.nn.modules.upsampling.Upsample         [None, 2, 'nearest']          \n",
            " 11             [-1, 6]  1         0  ultralytics.nn.modules.Concat                [1]                           \n",
            " 12                  -1  2   1993728  ultralytics.nn.modules.C2f                   [960, 384, 2]                 \n",
            " 13                  -1  1         0  torch.nn.modules.upsampling.Upsample         [None, 2, 'nearest']          \n",
            " 14             [-1, 4]  1         0  ultralytics.nn.modules.Concat                [1]                           \n",
            " 15                  -1  2    517632  ultralytics.nn.modules.C2f                   [576, 192, 2]                 \n",
            " 16                  -1  1    332160  ultralytics.nn.modules.Conv                  [192, 192, 3, 2]              \n",
            " 17            [-1, 12]  1         0  ultralytics.nn.modules.Concat                [1]                           \n",
            " 18                  -1  2   1846272  ultralytics.nn.modules.C2f                   [576, 384, 2]                 \n",
            " 19                  -1  1   1327872  ultralytics.nn.modules.Conv                  [384, 384, 3, 2]              \n",
            " 20             [-1, 9]  1         0  ultralytics.nn.modules.Concat                [1]                           \n",
            " 21                  -1  2   4207104  ultralytics.nn.modules.C2f                   [960, 576, 2]                 \n",
            " 22        [15, 18, 21]  1   3791908  ultralytics.nn.modules.Detect                [28, [192, 384, 576]]         \n",
            "Model summary: 295 layers, 25872532 parameters, 25872516 gradients, 79.2 GFLOPs\n",
            "\n",
            "Transferred 469/475 items from pretrained weights\n",
            "\u001b[34m\u001b[1mTensorBoard: \u001b[0mStart with 'tensorboard --logdir /content/drive/MyDrive/exam/yolov8/training_results/garbage_detection', view at http://localhost:6006/\n",
            "\u001b[34m\u001b[1mAMP: \u001b[0mrunning Automatic Mixed Precision (AMP) checks with YOLOv8n...\n",
            "Downloading https://github.com/ultralytics/assets/releases/download/v0.0.0/yolov8n.pt to yolov8n.pt...\n",
            "100% 6.23M/6.23M [00:00<00:00, 32.0MB/s]\n",
            "\u001b[34m\u001b[1mAMP: \u001b[0mchecks passed ✅\n",
            "\u001b[34m\u001b[1moptimizer:\u001b[0m SGD(lr=0.01) with parameter groups 77 weight(decay=0.0), 84 weight(decay=0.0005), 83 bias\n",
            "\u001b[34m\u001b[1mtrain: \u001b[0mScanning /content/yolo_data/labels/train... 1962 images, 0 backgrounds, 0 corrupt: 100% 1962/1962 [00:00<00:00, 1976.01it/s]\n",
            "\u001b[34m\u001b[1mtrain: \u001b[0mNew cache created: /content/yolo_data/labels/train.cache\n",
            "\u001b[34m\u001b[1malbumentations: \u001b[0mBlur(p=0.01, blur_limit=(3, 7)), MedianBlur(p=0.01, blur_limit=(3, 7)), ToGray(p=0.01), CLAHE(p=0.01, clip_limit=(1, 4.0), tile_grid_size=(8, 8))\n",
            "\u001b[34m\u001b[1mval: \u001b[0mScanning /content/yolo_data/labels/val... 490 images, 0 backgrounds, 0 corrupt: 100% 490/490 [00:00<00:00, 2466.33it/s]\n",
            "\u001b[34m\u001b[1mval: \u001b[0mNew cache created: /content/yolo_data/labels/val.cache\n",
            "Plotting labels to /content/drive/MyDrive/exam/yolov8/training_results/garbage_detection/labels.jpg... \n",
            "Image sizes 640 train, 640 val\n",
            "Using 2 dataloader workers\n",
            "Logging results to \u001b[1m/content/drive/MyDrive/exam/yolov8/training_results/garbage_detection\u001b[0m\n",
            "Starting training for 200 epochs...\n",
            "\n",
            "      Epoch    GPU_mem   box_loss   cls_loss   dfl_loss  Instances       Size\n",
            "      1/200      7.32G      1.566      4.058      1.629         45        640: 100% 123/123 [01:30<00:00,  1.36it/s]\n",
            "                 Class     Images  Instances      Box(P          R      mAP50  mAP50-95): 100% 16/16 [00:11<00:00,  1.35it/s]\n",
            "                   all        490       1766      0.313      0.185      0.118     0.0821\n",
            "\n",
            "      Epoch    GPU_mem   box_loss   cls_loss   dfl_loss  Instances       Size\n",
            "      2/200      7.45G      1.188      2.565        1.3         52        640: 100% 123/123 [01:30<00:00,  1.36it/s]\n",
            "                 Class     Images  Instances      Box(P          R      mAP50  mAP50-95): 100% 16/16 [00:10<00:00,  1.53it/s]\n",
            "                   all        490       1766      0.346      0.345      0.244      0.171\n",
            "\n",
            "      Epoch    GPU_mem   box_loss   cls_loss   dfl_loss  Instances       Size\n",
            "      3/200      7.48G      1.137      2.242      1.269         59        640: 100% 123/123 [01:30<00:00,  1.36it/s]\n",
            "                 Class     Images  Instances      Box(P          R      mAP50  mAP50-95): 100% 16/16 [00:09<00:00,  1.68it/s]\n",
            "                   all        490       1766      0.229      0.325      0.188      0.133\n",
            "\n",
            "      Epoch    GPU_mem   box_loss   cls_loss   dfl_loss  Instances       Size\n",
            "      4/200      7.37G      1.181      2.171      1.289         46        640: 100% 123/123 [01:25<00:00,  1.44it/s]\n",
            "                 Class     Images  Instances      Box(P          R      mAP50  mAP50-95): 100% 16/16 [00:10<00:00,  1.46it/s]\n",
            "                   all        490       1766      0.334      0.373      0.272      0.187\n",
            "\n",
            "      Epoch    GPU_mem   box_loss   cls_loss   dfl_loss  Instances       Size\n",
            "      5/200       7.4G      1.171      2.064      1.296         73        640: 100% 123/123 [01:29<00:00,  1.38it/s]\n",
            "                 Class     Images  Instances      Box(P          R      mAP50  mAP50-95): 100% 16/16 [00:10<00:00,  1.49it/s]\n",
            "                   all        490       1766      0.381       0.41      0.323      0.233\n",
            "\n",
            "      Epoch    GPU_mem   box_loss   cls_loss   dfl_loss  Instances       Size\n",
            "      6/200      7.45G       1.16      1.982      1.292         81        640: 100% 123/123 [01:29<00:00,  1.37it/s]\n",
            "                 Class     Images  Instances      Box(P          R      mAP50  mAP50-95): 100% 16/16 [00:09<00:00,  1.69it/s]\n",
            "                   all        490       1766      0.446      0.355       0.35      0.258\n",
            "\n",
            "      Epoch    GPU_mem   box_loss   cls_loss   dfl_loss  Instances       Size\n",
            "      7/200      7.47G      1.133      1.915      1.266         76        640: 100% 123/123 [01:29<00:00,  1.37it/s]\n",
            "                 Class     Images  Instances      Box(P          R      mAP50  mAP50-95): 100% 16/16 [00:09<00:00,  1.73it/s]\n",
            "                   all        490       1766      0.429       0.41      0.379      0.275\n",
            "\n",
            "      Epoch    GPU_mem   box_loss   cls_loss   dfl_loss  Instances       Size\n",
            "      8/200      7.47G      1.129      1.902      1.272         26        640: 100% 123/123 [01:28<00:00,  1.40it/s]\n",
            "                 Class     Images  Instances      Box(P          R      mAP50  mAP50-95): 100% 16/16 [00:10<00:00,  1.49it/s]\n",
            "                   all        490       1766      0.431      0.439      0.386      0.284\n",
            "\n",
            "      Epoch    GPU_mem   box_loss   cls_loss   dfl_loss  Instances       Size\n",
            "      9/200      7.47G      1.088      1.826      1.236         51        640: 100% 123/123 [01:27<00:00,  1.41it/s]\n",
            "                 Class     Images  Instances      Box(P          R      mAP50  mAP50-95): 100% 16/16 [00:10<00:00,  1.53it/s]\n",
            "                   all        490       1766      0.418       0.43      0.394      0.289\n",
            "\n",
            "      Epoch    GPU_mem   box_loss   cls_loss   dfl_loss  Instances       Size\n",
            "     10/200      7.43G      1.072      1.729      1.234         33        640: 100% 123/123 [01:27<00:00,  1.41it/s]\n",
            "                 Class     Images  Instances      Box(P          R      mAP50  mAP50-95): 100% 16/16 [00:09<00:00,  1.76it/s]\n",
            "                   all        490       1766      0.437      0.412      0.396      0.292\n",
            "\n",
            "      Epoch    GPU_mem   box_loss   cls_loss   dfl_loss  Instances       Size\n",
            "     11/200      7.45G      1.056      1.705      1.218         51        640: 100% 123/123 [01:25<00:00,  1.43it/s]\n",
            "                 Class     Images  Instances      Box(P          R      mAP50  mAP50-95): 100% 16/16 [00:10<00:00,  1.51it/s]\n",
            "                   all        490       1766      0.508      0.428      0.431      0.316\n",
            "\n",
            "      Epoch    GPU_mem   box_loss   cls_loss   dfl_loss  Instances       Size\n",
            "     12/200      7.46G      1.053      1.681      1.218         23        640: 100% 123/123 [01:27<00:00,  1.40it/s]\n",
            "                 Class     Images  Instances      Box(P          R      mAP50  mAP50-95): 100% 16/16 [00:10<00:00,  1.53it/s]\n",
            "                   all        490       1766      0.482      0.444      0.437      0.323\n",
            "\n",
            "      Epoch    GPU_mem   box_loss   cls_loss   dfl_loss  Instances       Size\n",
            "     13/200      7.38G      1.032      1.632      1.201         55        640: 100% 123/123 [01:27<00:00,  1.40it/s]\n",
            "                 Class     Images  Instances      Box(P          R      mAP50  mAP50-95): 100% 16/16 [00:09<00:00,  1.72it/s]\n",
            "                   all        490       1766      0.527      0.486      0.474      0.357\n",
            "\n",
            "      Epoch    GPU_mem   box_loss   cls_loss   dfl_loss  Instances       Size\n",
            "     14/200      7.43G      1.024      1.597      1.201         39        640: 100% 123/123 [01:25<00:00,  1.43it/s]\n",
            "                 Class     Images  Instances      Box(P          R      mAP50  mAP50-95): 100% 16/16 [00:10<00:00,  1.53it/s]\n",
            "                   all        490       1766      0.502      0.473      0.483      0.364\n",
            "\n",
            "      Epoch    GPU_mem   box_loss   cls_loss   dfl_loss  Instances       Size\n",
            "     15/200      7.44G      1.017      1.555      1.197         82        640: 100% 123/123 [01:27<00:00,  1.40it/s]\n",
            "                 Class     Images  Instances      Box(P          R      mAP50  mAP50-95): 100% 16/16 [00:10<00:00,  1.55it/s]\n",
            "                   all        490       1766      0.495      0.476      0.458      0.352\n",
            "\n",
            "      Epoch    GPU_mem   box_loss   cls_loss   dfl_loss  Instances       Size\n",
            "     16/200      7.48G     0.9972      1.504      1.173         50        640: 100% 123/123 [01:26<00:00,  1.43it/s]\n",
            "                 Class     Images  Instances      Box(P          R      mAP50  mAP50-95): 100% 16/16 [00:09<00:00,  1.70it/s]\n",
            "                   all        490       1766      0.531      0.486       0.48      0.363\n",
            "\n",
            "      Epoch    GPU_mem   box_loss   cls_loss   dfl_loss  Instances       Size\n",
            "     17/200      7.42G     0.9866      1.481      1.166         53        640: 100% 123/123 [01:26<00:00,  1.42it/s]\n",
            "                 Class     Images  Instances      Box(P          R      mAP50  mAP50-95): 100% 16/16 [00:10<00:00,  1.50it/s]\n",
            "                   all        490       1766      0.511      0.477      0.485      0.361\n",
            "\n",
            "      Epoch    GPU_mem   box_loss   cls_loss   dfl_loss  Instances       Size\n",
            "     18/200      7.44G     0.9676      1.442      1.165         66        640: 100% 123/123 [01:27<00:00,  1.40it/s]\n",
            "                 Class     Images  Instances      Box(P          R      mAP50  mAP50-95): 100% 16/16 [00:09<00:00,  1.72it/s]\n",
            "                   all        490       1766      0.564      0.521      0.526      0.405\n",
            "\n",
            "      Epoch    GPU_mem   box_loss   cls_loss   dfl_loss  Instances       Size\n",
            "     19/200      7.48G     0.9674      1.425      1.155         64        640: 100% 123/123 [01:25<00:00,  1.43it/s]\n",
            "                 Class     Images  Instances      Box(P          R      mAP50  mAP50-95): 100% 16/16 [00:10<00:00,  1.49it/s]\n",
            "                   all        490       1766      0.516       0.53      0.517      0.392\n",
            "\n",
            "      Epoch    GPU_mem   box_loss   cls_loss   dfl_loss  Instances       Size\n",
            "     20/200      7.47G     0.9448      1.386      1.147         47        640: 100% 123/123 [01:29<00:00,  1.38it/s]\n",
            "                 Class     Images  Instances      Box(P          R      mAP50  mAP50-95): 100% 16/16 [00:10<00:00,  1.53it/s]\n",
            "                   all        490       1766      0.468      0.461      0.442      0.324\n",
            "\n",
            "      Epoch    GPU_mem   box_loss   cls_loss   dfl_loss  Instances       Size\n",
            "     21/200      7.33G     0.9462       1.33      1.144         63        640: 100% 123/123 [01:28<00:00,  1.39it/s]\n",
            "                 Class     Images  Instances      Box(P          R      mAP50  mAP50-95): 100% 16/16 [00:09<00:00,  1.69it/s]\n",
            "                   all        490       1766      0.618      0.473      0.535      0.409\n",
            "\n",
            "      Epoch    GPU_mem   box_loss   cls_loss   dfl_loss  Instances       Size\n",
            "     22/200      7.44G     0.9335      1.321       1.14         59        640: 100% 123/123 [01:27<00:00,  1.41it/s]\n",
            "                 Class     Images  Instances      Box(P          R      mAP50  mAP50-95): 100% 16/16 [00:10<00:00,  1.58it/s]\n",
            "                   all        490       1766      0.533      0.494      0.502      0.379\n",
            "\n",
            "      Epoch    GPU_mem   box_loss   cls_loss   dfl_loss  Instances       Size\n",
            "     23/200      7.34G     0.9311      1.289      1.134         57        640: 100% 123/123 [01:28<00:00,  1.40it/s]\n",
            "                 Class     Images  Instances      Box(P          R      mAP50  mAP50-95): 100% 16/16 [00:10<00:00,  1.52it/s]\n",
            "                   all        490       1766      0.501      0.484      0.465      0.351\n",
            "\n",
            "      Epoch    GPU_mem   box_loss   cls_loss   dfl_loss  Instances       Size\n",
            "     24/200      7.47G     0.9207      1.256      1.127         45        640: 100% 123/123 [01:27<00:00,  1.41it/s]\n",
            "                 Class     Images  Instances      Box(P          R      mAP50  mAP50-95): 100% 16/16 [00:09<00:00,  1.75it/s]\n",
            "                   all        490       1766      0.583      0.493      0.515      0.393\n",
            "\n",
            "      Epoch    GPU_mem   box_loss   cls_loss   dfl_loss  Instances       Size\n",
            "     25/200      7.36G     0.9254      1.279      1.136         59        640: 100% 123/123 [01:25<00:00,  1.44it/s]\n",
            "                 Class     Images  Instances      Box(P          R      mAP50  mAP50-95): 100% 16/16 [00:10<00:00,  1.48it/s]\n",
            "                   all        490       1766      0.583      0.488      0.533      0.407\n",
            "\n",
            "      Epoch    GPU_mem   box_loss   cls_loss   dfl_loss  Instances       Size\n",
            "     26/200      7.44G     0.8979      1.217      1.117         51        640: 100% 123/123 [01:28<00:00,  1.39it/s]\n",
            "                 Class     Images  Instances      Box(P          R      mAP50  mAP50-95): 100% 16/16 [00:10<00:00,  1.59it/s]\n",
            "                   all        490       1766      0.566      0.482      0.511      0.386\n",
            "\n",
            "      Epoch    GPU_mem   box_loss   cls_loss   dfl_loss  Instances       Size\n",
            "     27/200      7.47G     0.9136      1.237      1.122         57        640: 100% 123/123 [01:26<00:00,  1.42it/s]\n",
            "                 Class     Images  Instances      Box(P          R      mAP50  mAP50-95): 100% 16/16 [00:09<00:00,  1.68it/s]\n",
            "                   all        490       1766      0.582      0.499      0.526      0.397\n",
            "\n",
            "      Epoch    GPU_mem   box_loss   cls_loss   dfl_loss  Instances       Size\n",
            "     28/200      7.49G     0.8936      1.175      1.115         63        640: 100% 123/123 [01:27<00:00,  1.41it/s]\n",
            "                 Class     Images  Instances      Box(P          R      mAP50  mAP50-95): 100% 16/16 [00:10<00:00,  1.51it/s]\n",
            "                   all        490       1766      0.536      0.453      0.487      0.368\n",
            "\n",
            "      Epoch    GPU_mem   box_loss   cls_loss   dfl_loss  Instances       Size\n",
            "     29/200      7.45G     0.8809      1.154      1.107         57        640: 100% 123/123 [01:26<00:00,  1.42it/s]\n",
            "                 Class     Images  Instances      Box(P          R      mAP50  mAP50-95): 100% 16/16 [00:09<00:00,  1.76it/s]\n",
            "                   all        490       1766       0.53      0.511      0.521      0.396\n",
            "\n",
            "      Epoch    GPU_mem   box_loss   cls_loss   dfl_loss  Instances       Size\n",
            "     30/200      7.42G     0.8715      1.125      1.094         37        640: 100% 123/123 [01:26<00:00,  1.43it/s]\n",
            "                 Class     Images  Instances      Box(P          R      mAP50  mAP50-95): 100% 16/16 [00:10<00:00,  1.49it/s]\n",
            "                   all        490       1766      0.541      0.522      0.523      0.401\n",
            "\n",
            "      Epoch    GPU_mem   box_loss   cls_loss   dfl_loss  Instances       Size\n",
            "     31/200      7.45G      0.857      1.104      1.091         38        640: 100% 123/123 [01:28<00:00,  1.39it/s]\n",
            "                 Class     Images  Instances      Box(P          R      mAP50  mAP50-95): 100% 16/16 [00:10<00:00,  1.56it/s]\n",
            "                   all        490       1766      0.583      0.489       0.53      0.408\n",
            "\n",
            "      Epoch    GPU_mem   box_loss   cls_loss   dfl_loss  Instances       Size\n",
            "     32/200      7.44G     0.8621       1.09      1.095         48        640: 100% 123/123 [01:26<00:00,  1.42it/s]\n",
            "                 Class     Images  Instances      Box(P          R      mAP50  mAP50-95): 100% 16/16 [00:09<00:00,  1.66it/s]\n",
            "                   all        490       1766      0.512       0.56      0.536      0.411\n",
            "\n",
            "      Epoch    GPU_mem   box_loss   cls_loss   dfl_loss  Instances       Size\n",
            "     33/200      7.42G     0.8628      1.084      1.092         50        640: 100% 123/123 [01:26<00:00,  1.42it/s]\n",
            "                 Class     Images  Instances      Box(P          R      mAP50  mAP50-95): 100% 16/16 [00:10<00:00,  1.51it/s]\n",
            "                   all        490       1766      0.506      0.503      0.482      0.366\n",
            "\n",
            "      Epoch    GPU_mem   box_loss   cls_loss   dfl_loss  Instances       Size\n",
            "     34/200      7.43G     0.8544      1.044      1.083         46        640: 100% 123/123 [01:27<00:00,  1.41it/s]\n",
            "                 Class     Images  Instances      Box(P          R      mAP50  mAP50-95): 100% 16/16 [00:09<00:00,  1.72it/s]\n",
            "                   all        490       1766      0.505      0.549      0.531       0.41\n",
            "\n",
            "      Epoch    GPU_mem   box_loss   cls_loss   dfl_loss  Instances       Size\n",
            "     35/200      7.35G      0.853      1.028      1.081         65        640: 100% 123/123 [01:25<00:00,  1.45it/s]\n",
            "                 Class     Images  Instances      Box(P          R      mAP50  mAP50-95): 100% 16/16 [00:10<00:00,  1.51it/s]\n",
            "                   all        490       1766      0.582      0.467        0.5      0.381\n",
            "\n",
            "      Epoch    GPU_mem   box_loss   cls_loss   dfl_loss  Instances       Size\n",
            "     36/200      7.47G     0.8424      1.008      1.077         68        640: 100% 123/123 [01:27<00:00,  1.40it/s]\n",
            "                 Class     Images  Instances      Box(P          R      mAP50  mAP50-95): 100% 16/16 [00:09<00:00,  1.63it/s]\n",
            "                   all        490       1766      0.497      0.494      0.483      0.371\n",
            "\n",
            "      Epoch    GPU_mem   box_loss   cls_loss   dfl_loss  Instances       Size\n",
            "     37/200      7.37G     0.8207     0.9705      1.062         80        640: 100% 123/123 [01:26<00:00,  1.42it/s]\n",
            "                 Class     Images  Instances      Box(P          R      mAP50  mAP50-95): 100% 16/16 [00:09<00:00,  1.72it/s]\n",
            "                   all        490       1766      0.497        0.5      0.509      0.393\n",
            "\n",
            "      Epoch    GPU_mem   box_loss   cls_loss   dfl_loss  Instances       Size\n",
            "     38/200      7.33G     0.8209     0.9785      1.063         84        640: 100% 123/123 [01:26<00:00,  1.42it/s]\n",
            "                 Class     Images  Instances      Box(P          R      mAP50  mAP50-95): 100% 16/16 [00:10<00:00,  1.52it/s]\n",
            "                   all        490       1766      0.458      0.512      0.485      0.372\n",
            "\n",
            "      Epoch    GPU_mem   box_loss   cls_loss   dfl_loss  Instances       Size\n",
            "     39/200      7.45G     0.8151     0.9588       1.06         55        640: 100% 123/123 [01:27<00:00,  1.40it/s]\n",
            "                 Class     Images  Instances      Box(P          R      mAP50  mAP50-95): 100% 16/16 [00:09<00:00,  1.76it/s]\n",
            "                   all        490       1766      0.504      0.536      0.528      0.409\n",
            "\n",
            "      Epoch    GPU_mem   box_loss   cls_loss   dfl_loss  Instances       Size\n",
            "     40/200      7.39G     0.8234     0.9572      1.067         61        640: 100% 123/123 [01:25<00:00,  1.43it/s]\n",
            "                 Class     Images  Instances      Box(P          R      mAP50  mAP50-95): 100% 16/16 [00:10<00:00,  1.51it/s]\n",
            "                   all        490       1766      0.507      0.496      0.507       0.39\n",
            "\n",
            "      Epoch    GPU_mem   box_loss   cls_loss   dfl_loss  Instances       Size\n",
            "     41/200      7.36G     0.8104     0.9353      1.056         58        640: 100% 123/123 [01:28<00:00,  1.39it/s]\n",
            "                 Class     Images  Instances      Box(P          R      mAP50  mAP50-95): 100% 16/16 [00:09<00:00,  1.60it/s]\n",
            "                   all        490       1766      0.565      0.537      0.547      0.422\n",
            "\n",
            "      Epoch    GPU_mem   box_loss   cls_loss   dfl_loss  Instances       Size\n",
            "     42/200      7.42G     0.8045     0.9188      1.059         60        640: 100% 123/123 [01:28<00:00,  1.38it/s]\n",
            "                 Class     Images  Instances      Box(P          R      mAP50  mAP50-95): 100% 16/16 [00:09<00:00,  1.76it/s]\n",
            "                   all        490       1766       0.55      0.559      0.564      0.444\n",
            "\n",
            "      Epoch    GPU_mem   box_loss   cls_loss   dfl_loss  Instances       Size\n",
            "     43/200      7.46G     0.7981     0.8975       1.05         47        640: 100% 123/123 [01:27<00:00,  1.40it/s]\n",
            "                 Class     Images  Instances      Box(P          R      mAP50  mAP50-95): 100% 16/16 [00:10<00:00,  1.53it/s]\n",
            "                   all        490       1766      0.537      0.513      0.535       0.42\n",
            "\n",
            "      Epoch    GPU_mem   box_loss   cls_loss   dfl_loss  Instances       Size\n",
            "     44/200      7.47G      0.795     0.8848      1.049         52        640: 100% 123/123 [01:28<00:00,  1.39it/s]\n",
            "                 Class     Images  Instances      Box(P          R      mAP50  mAP50-95): 100% 16/16 [00:10<00:00,  1.52it/s]\n",
            "                   all        490       1766        0.5      0.555      0.528       0.41\n",
            "\n",
            "      Epoch    GPU_mem   box_loss   cls_loss   dfl_loss  Instances       Size\n",
            "     45/200      7.37G     0.7947     0.8911      1.045         60        640: 100% 123/123 [01:27<00:00,  1.41it/s]\n",
            "                 Class     Images  Instances      Box(P          R      mAP50  mAP50-95): 100% 16/16 [00:09<00:00,  1.77it/s]\n",
            "                   all        490       1766      0.568      0.506       0.54      0.423\n",
            "\n",
            "      Epoch    GPU_mem   box_loss   cls_loss   dfl_loss  Instances       Size\n",
            "     46/200      7.42G     0.7865     0.8516      1.043         63        640: 100% 123/123 [01:26<00:00,  1.43it/s]\n",
            "                 Class     Images  Instances      Box(P          R      mAP50  mAP50-95): 100% 16/16 [00:10<00:00,  1.48it/s]\n",
            "                   all        490       1766       0.57      0.532      0.555      0.432\n",
            "\n",
            "      Epoch    GPU_mem   box_loss   cls_loss   dfl_loss  Instances       Size\n",
            "     47/200      7.45G     0.7786     0.8372      1.041         68        640: 100% 123/123 [01:28<00:00,  1.38it/s]\n",
            "                 Class     Images  Instances      Box(P          R      mAP50  mAP50-95): 100% 16/16 [00:09<00:00,  1.62it/s]\n",
            "                   all        490       1766      0.515      0.547      0.525      0.406\n",
            "\n",
            "      Epoch    GPU_mem   box_loss   cls_loss   dfl_loss  Instances       Size\n",
            "     48/200      7.45G     0.7753     0.8507      1.037         51        640: 100% 123/123 [01:26<00:00,  1.42it/s]\n",
            "                 Class     Images  Instances      Box(P          R      mAP50  mAP50-95): 100% 16/16 [00:09<00:00,  1.71it/s]\n",
            "                   all        490       1766      0.513      0.543      0.538      0.411\n",
            "\n",
            "      Epoch    GPU_mem   box_loss   cls_loss   dfl_loss  Instances       Size\n",
            "     49/200      7.46G     0.7778     0.8549      1.049         61        640: 100% 123/123 [01:26<00:00,  1.42it/s]\n",
            "                 Class     Images  Instances      Box(P          R      mAP50  mAP50-95): 100% 16/16 [00:10<00:00,  1.52it/s]\n",
            "                   all        490       1766      0.556      0.554      0.555      0.432\n",
            "\n",
            "      Epoch    GPU_mem   box_loss   cls_loss   dfl_loss  Instances       Size\n",
            "     50/200      7.31G     0.7675     0.8331      1.034         48        640: 100% 123/123 [01:27<00:00,  1.40it/s]\n",
            "                 Class     Images  Instances      Box(P          R      mAP50  mAP50-95): 100% 16/16 [00:09<00:00,  1.76it/s]\n",
            "                   all        490       1766      0.551      0.526      0.535      0.415\n",
            "\n",
            "      Epoch    GPU_mem   box_loss   cls_loss   dfl_loss  Instances       Size\n",
            "     51/200      7.46G     0.7585      0.818      1.027         57        640: 100% 123/123 [01:25<00:00,  1.44it/s]\n",
            "                 Class     Images  Instances      Box(P          R      mAP50  mAP50-95): 100% 16/16 [00:10<00:00,  1.50it/s]\n",
            "                   all        490       1766       0.58      0.544      0.547      0.428\n",
            "\n",
            "      Epoch    GPU_mem   box_loss   cls_loss   dfl_loss  Instances       Size\n",
            "     52/200      7.48G     0.7615     0.7961      1.033         50        640: 100% 123/123 [01:28<00:00,  1.39it/s]\n",
            "                 Class     Images  Instances      Box(P          R      mAP50  mAP50-95): 100% 16/16 [00:10<00:00,  1.58it/s]\n",
            "                   all        490       1766      0.501      0.529      0.509      0.396\n",
            "\n",
            "      Epoch    GPU_mem   box_loss   cls_loss   dfl_loss  Instances       Size\n",
            "     53/200      7.37G     0.7579       0.79      1.029         46        640: 100% 123/123 [01:25<00:00,  1.43it/s]\n",
            "                 Class     Images  Instances      Box(P          R      mAP50  mAP50-95): 100% 16/16 [00:09<00:00,  1.64it/s]\n",
            "                   all        490       1766       0.54       0.55      0.544      0.422\n",
            "\n",
            "      Epoch    GPU_mem   box_loss   cls_loss   dfl_loss  Instances       Size\n",
            "     54/200      7.42G     0.7534     0.7893      1.026         74        640: 100% 123/123 [01:26<00:00,  1.42it/s]\n",
            "                 Class     Images  Instances      Box(P          R      mAP50  mAP50-95): 100% 16/16 [00:10<00:00,  1.53it/s]\n",
            "                   all        490       1766       0.54      0.521      0.528      0.409\n",
            "\n",
            "      Epoch    GPU_mem   box_loss   cls_loss   dfl_loss  Instances       Size\n",
            "     55/200      7.46G     0.7424     0.7694      1.021         41        640: 100% 123/123 [01:26<00:00,  1.42it/s]\n",
            "                 Class     Images  Instances      Box(P          R      mAP50  mAP50-95): 100% 16/16 [00:08<00:00,  1.78it/s]\n",
            "                   all        490       1766      0.543      0.562      0.549      0.429\n",
            "\n",
            "      Epoch    GPU_mem   box_loss   cls_loss   dfl_loss  Instances       Size\n",
            "     56/200      7.46G     0.7361     0.7676      1.015         46        640: 100% 123/123 [01:25<00:00,  1.43it/s]\n",
            "                 Class     Images  Instances      Box(P          R      mAP50  mAP50-95): 100% 16/16 [00:10<00:00,  1.52it/s]\n",
            "                   all        490       1766      0.531      0.502      0.505       0.39\n",
            "\n",
            "      Epoch    GPU_mem   box_loss   cls_loss   dfl_loss  Instances       Size\n",
            "     57/200      7.46G     0.7434     0.7573      1.023         61        640: 100% 123/123 [01:26<00:00,  1.42it/s]\n",
            "                 Class     Images  Instances      Box(P          R      mAP50  mAP50-95): 100% 16/16 [00:09<00:00,  1.77it/s]\n",
            "                   all        490       1766      0.523      0.544      0.542      0.414\n",
            "\n",
            "      Epoch    GPU_mem   box_loss   cls_loss   dfl_loss  Instances       Size\n",
            "     58/200      7.39G       0.73     0.7459      1.014         83        640: 100% 123/123 [01:24<00:00,  1.46it/s]\n",
            "                 Class     Images  Instances      Box(P          R      mAP50  mAP50-95): 100% 16/16 [00:10<00:00,  1.54it/s]\n",
            "                   all        490       1766      0.566      0.539      0.551      0.432\n",
            "\n",
            "      Epoch    GPU_mem   box_loss   cls_loss   dfl_loss  Instances       Size\n",
            "     59/200      7.46G     0.7327     0.7447      1.014         70        640: 100% 123/123 [01:27<00:00,  1.41it/s]\n",
            "                 Class     Images  Instances      Box(P          R      mAP50  mAP50-95): 100% 16/16 [00:09<00:00,  1.77it/s]\n",
            "                   all        490       1766       0.56      0.508      0.539      0.416\n",
            "\n",
            "      Epoch    GPU_mem   box_loss   cls_loss   dfl_loss  Instances       Size\n",
            "     60/200      7.45G     0.7263     0.7314      1.012         35        640: 100% 123/123 [01:25<00:00,  1.44it/s]\n",
            "                 Class     Images  Instances      Box(P          R      mAP50  mAP50-95): 100% 16/16 [00:10<00:00,  1.49it/s]\n",
            "                   all        490       1766       0.58      0.491      0.515      0.395\n",
            "\n",
            "      Epoch    GPU_mem   box_loss   cls_loss   dfl_loss  Instances       Size\n",
            "     61/200      7.41G     0.7168     0.7285      1.008         37        640: 100% 123/123 [01:26<00:00,  1.42it/s]\n",
            "                 Class     Images  Instances      Box(P          R      mAP50  mAP50-95): 100% 16/16 [00:09<00:00,  1.72it/s]\n",
            "                   all        490       1766      0.544      0.542      0.546      0.432\n",
            "\n",
            "      Epoch    GPU_mem   box_loss   cls_loss   dfl_loss  Instances       Size\n",
            "     62/200      7.44G     0.7183     0.7301      1.008         64        640: 100% 123/123 [01:24<00:00,  1.45it/s]\n",
            "                 Class     Images  Instances      Box(P          R      mAP50  mAP50-95): 100% 16/16 [00:15<00:00,  1.03it/s]\n",
            "                   all        490       1766       0.54       0.54      0.532      0.418\n",
            "Stopping training early as no improvement observed in last 20 epochs. Best results observed at epoch 42, best model saved as best.pt.\n",
            "To update EarlyStopping(patience=20) pass a new patience value, i.e. `patience=300` or use `patience=0` to disable EarlyStopping.\n",
            "\n",
            "62 epochs completed in 1.739 hours.\n",
            "Optimizer stripped from /content/drive/MyDrive/exam/yolov8/training_results/garbage_detection/weights/last.pt, 52.1MB\n",
            "Optimizer stripped from /content/drive/MyDrive/exam/yolov8/training_results/garbage_detection/weights/best.pt, 52.1MB\n",
            "\n",
            "Validating /content/drive/MyDrive/exam/yolov8/training_results/garbage_detection/weights/best.pt...\n",
            "Ultralytics YOLOv8.0.80 🚀 Python-3.9.16 torch-2.0.0+cu118 CUDA:0 (Tesla T4, 15102MiB)\n",
            "Model summary (fused): 218 layers, 25855972 parameters, 0 gradients, 78.8 GFLOPs\n",
            "                 Class     Images  Instances      Box(P          R      mAP50  mAP50-95): 100% 16/16 [00:15<00:00,  1.03it/s]\n",
            "                   all        490       1766      0.549      0.559      0.564      0.444\n",
            "           bottle-blue        490        130      0.443      0.539      0.486      0.376\n",
            "          bottle-green        490         83      0.597      0.651      0.715      0.546\n",
            "           bottle-dark        490        102      0.645      0.821      0.799      0.643\n",
            "           bottle-milk        490         62      0.516      0.516      0.559       0.47\n",
            "         bottle-transp        490        286       0.58      0.612      0.615      0.495\n",
            "     bottle-multicolor        490         27      0.561      0.481      0.512      0.395\n",
            "         bottle-yogurt        490         50      0.703      0.331      0.559      0.449\n",
            "            bottle-oil        490         61      0.387      0.382      0.332      0.256\n",
            "                  cans        490        126      0.541      0.587      0.563      0.408\n",
            "       juice-cardboard        490         52      0.508      0.238      0.289      0.205\n",
            "        milk-cardboard        490         92      0.544      0.283      0.348      0.281\n",
            "       detergent-color        490         53        0.5      0.509       0.51      0.405\n",
            " detergent-transparent        490         58      0.345      0.259      0.226      0.183\n",
            "         detergent-box        490         11      0.592      0.661      0.671      0.488\n",
            "              canister        490         19      0.215      0.526      0.277       0.22\n",
            "      bottle-blue-full        490         53      0.608      0.736      0.764      0.611\n",
            "    bottle-transp-full        490         99      0.615      0.727      0.677      0.561\n",
            "      bottle-dark-full        490         39      0.643      0.693      0.803      0.658\n",
            "     bottle-green-full        490         44      0.758      0.886      0.869      0.722\n",
            "bottle-multicolor-full        490         24      0.789      0.781      0.732      0.652\n",
            "      bottle-milk-full        490         18      0.508      0.778      0.647      0.522\n",
            "       bottle-oil-full        490          9      0.327      0.222      0.181      0.168\n",
            "       detergent-white        490         66      0.698      0.333      0.524      0.423\n",
            "         bottle-blue5l        490         88      0.548      0.682      0.665       0.53\n",
            "    bottle-blue5l-full        490         13      0.401      0.846      0.697      0.614\n",
            "          glass-transp        490         36      0.481      0.309      0.439      0.273\n",
            "            glass-dark        490         29      0.606       0.69      0.613       0.37\n",
            "           glass-green        490         36      0.718      0.583      0.728      0.512\n",
            "Speed: 0.9ms preprocess, 10.7ms inference, 0.0ms loss, 3.1ms postprocess per image\n",
            "Results saved to \u001b[1m/content/drive/MyDrive/exam/yolov8/training_results/garbage_detection\u001b[0m\n"
          ]
        }
      ]
    },
    {
      "cell_type": "markdown",
      "source": [
        "## Validate model \n",
        "\n",
        "Validate model on unseen data\n",
        "\n",
        "Note: the test data will be used in this case. It will be split into 10 for visual testing and the rest for validation metrics "
      ],
      "metadata": {
        "id": "MW6peXfCAoYa"
      }
    },
    {
      "cell_type": "markdown",
      "source": [
        "Define paths for validation images"
      ],
      "metadata": {
        "id": "nheZmSlGtoUh"
      }
    },
    {
      "cell_type": "code",
      "source": [
        "#create file paths for the training and validation sets\n",
        "validation_path_img = \"./yolo_val_data/images/validation/\"\n",
        "validation_path_label = \"./yolo_val_data/labels/validation/\"\n",
        "test_path_img = \"./yolo_val_data/images/test/\"\n",
        "test_path_label = \"./yolo_val_data/labels/test/\""
      ],
      "metadata": {
        "id": "s7eCCPn1ArIk"
      },
      "execution_count": null,
      "outputs": []
    },
    {
      "cell_type": "code",
      "source": [
        "# Define a function for splitting data into validation and test\n",
        "def train_test_split(path,neg_path=None, split = 0.04):\n",
        "    print(\"------ PROCESS STARTED -------\")\n",
        "\n",
        "\n",
        "    files = list(set([name[:-4] for name in os.listdir(path)])) ## removing duplicate names i.e. counting only number of images\n",
        "    \n",
        "\n",
        "    print (f\"--- This folder has a total number of {len(files)} images---\")\n",
        "    random.seed(42)\n",
        "    random.shuffle(files)\n",
        "\n",
        "    # split the data \n",
        "    test_size = int(len(files) * split)\n",
        "    train_size = len(files) - test_size\n",
        "\n",
        "    ## creating required directories for the images and their labels\n",
        "\n",
        "    os.makedirs(validation_path_img, exist_ok = True)\n",
        "    os.makedirs(validation_path_label, exist_ok = True)\n",
        "    os.makedirs(test_path_img, exist_ok = True)\n",
        "    os.makedirs(test_path_label, exist_ok = True)\n",
        "\n",
        "    \n",
        "    ### copying images and labels to train folder\n",
        "    for filex in tqdm(files[:train_size]):\n",
        "      if filex == 'classes':\n",
        "          continue\n",
        "      shutil.copy2(path + filex + '.jpg',f\"{validation_path_img}/\" + filex + '.jpg' )\n",
        "      shutil.copy2(path[0:48] + 'labels/'  + filex + '.txt', f\"{validation_path_label}/\" + filex + '.txt')\n",
        "        \n",
        "    \n",
        "\n",
        "    print(f\"------ Validation data created with 2% split {len(files[:train_size])} images -------\")\n",
        "    \n",
        "    if neg_path:\n",
        "        neg_images = list(set([name[:-4] for name in os.listdir(neg_path)])) ## removing duplicate names i.e. counting only number of images\n",
        "        for filex in tqdm(neg_images):\n",
        "            shutil.copy2(neg_path+filex+ \".jpg\", f\"{validation_path_img}/\" + filex + '.jpg')\n",
        "            \n",
        "        print(f\"------ Total  {len(neg_images)} negative images added to the training data -------\")\n",
        "    \n",
        "        print(f\"------ TOTAL Validation data created with {len(files[:train_size]) + len(neg_images)} images -------\")\n",
        "    \n",
        "\n",
        "\n",
        "    ### copy images and labels to validation folder\n",
        "    for filex in tqdm(files[train_size:]):\n",
        "      if filex == 'classes':\n",
        "          continue\n",
        "      # print(\"running\")\n",
        "      shutil.copy2(path + filex + '.jpg', f\"{test_path_img}/\" + filex + '.jpg' )\n",
        "      shutil.copy2(path[0:48] + 'labels/' + filex + '.txt', f\"{test_path_label}/\" + filex + '.txt')\n",
        "\n",
        "    print(f\"------ Testing data created with a total of {len(files[train_size:])} images ----------\")\n",
        "    \n",
        "    print(\"------ TASK COMPLETED -------\")"
      ],
      "metadata": {
        "id": "NISBCuT3JVh9"
      },
      "execution_count": null,
      "outputs": []
    },
    {
      "cell_type": "code",
      "source": [
        "# split data\n",
        "train_test_split('/content/drive/MyDrive/exam/unsampled data/test/images/')"
      ],
      "metadata": {
        "colab": {
          "base_uri": "https://localhost:8080/",
          "height": 170,
          "referenced_widgets": [
            "241c17f8324c4b8d967b1ba2e885776f",
            "6967a839416844e7b2fcb4a42f211fec",
            "96f156d3aa0a4a34a5ddb6f694cc770c",
            "fc1d7ac2634848b9994c6d6e1d7d9b66",
            "8d57571210cf4f74b2311f98a211bd78",
            "da31c8dc9f3f4a66a4f1007452deb1ef",
            "a355f22714d34877902dd883d530f958",
            "61524b267e9045749faf16d6236584dd",
            "53488f18a1884465921bfc68b07cff5c",
            "2273e33f7c8e461298a270afa3dd40dd",
            "80dadbf805ed471d98d00b90378bd69d",
            "0d360bf423524bbbb7caccbd936ce85f",
            "2adeccc4603c4f90a9b50b4cc12e54e8",
            "ed47e892c651401c9040bf6051c48f43",
            "59ab5d9526204904aa1c3a62f8e16879",
            "c9330d4fbcf249149654a52e7aaf34cb",
            "6f8f41304b344076b208a0e093fa1d86",
            "9b16df7610354215baa34f07e5b5f0ab",
            "2b6bac6b5d7141008dd56634e06c89f1",
            "8148c9c6c2534390993d6d72d6d03640",
            "ce0a7b771ecd4ee89751da9ab269db34",
            "f6a47a097fdb4da0b3f76ba8aa560707"
          ]
        },
        "id": "tjmo5bsqKr2E",
        "outputId": "2be0faad-5cc6-4290-c47f-80deee17f210"
      },
      "execution_count": null,
      "outputs": [
        {
          "output_type": "stream",
          "name": "stdout",
          "text": [
            "------ PROCESS STARTED -------\n",
            "--- This folder has a total number of 522 images---\n"
          ]
        },
        {
          "output_type": "display_data",
          "data": {
            "text/plain": [
              "  0%|          | 0/502 [00:00<?, ?it/s]"
            ],
            "application/vnd.jupyter.widget-view+json": {
              "version_major": 2,
              "version_minor": 0,
              "model_id": "241c17f8324c4b8d967b1ba2e885776f"
            }
          },
          "metadata": {}
        },
        {
          "output_type": "stream",
          "name": "stdout",
          "text": [
            "------ Validation data created with 2% split 502 images -------\n"
          ]
        },
        {
          "output_type": "display_data",
          "data": {
            "text/plain": [
              "  0%|          | 0/20 [00:00<?, ?it/s]"
            ],
            "application/vnd.jupyter.widget-view+json": {
              "version_major": 2,
              "version_minor": 0,
              "model_id": "0d360bf423524bbbb7caccbd936ce85f"
            }
          },
          "metadata": {}
        },
        {
          "output_type": "stream",
          "name": "stdout",
          "text": [
            "------ Testing data created with a total of 20 images ----------\n",
            "------ TASK COMPLETED -------\n"
          ]
        }
      ]
    },
    {
      "cell_type": "markdown",
      "source": [
        "Create yaml file for validation \n"
      ],
      "metadata": {
        "id": "biPGxtKFZfO9"
      }
    },
    {
      "cell_type": "code",
      "source": [
        "import yaml"
      ],
      "metadata": {
        "id": "AcCGA0CRaVB2"
      },
      "execution_count": null,
      "outputs": []
    },
    {
      "cell_type": "code",
      "source": [
        "# infomation for yaml document\n",
        "data_validation = {\n",
        "    'train': '/content/yolo_data/images/train', # path to training images\n",
        "    'val': '/content/yolo_val_data/images/validation', #path to validation images\n",
        "\n",
        "    'nc': 28, # number of classes \n",
        "    'names': ['bottle-blue', 'bottle-green', 'bottle-dark', 'bottle-milk', 'bottle-transp', 'bottle-multicolor', 'bottle-yogurt', 'bottle-oil', 'cans', 'juice-cardboard', 'milk-cardboard', 'detergent-color', 'detergent-transparent', 'detergent-box', 'canister', 'bottle-blue-full', 'bottle-transp-full', 'bottle-dark-full', 'bottle-green-full', 'bottle-multicolor-full', 'bottle-milk-full', 'bottle-oil-full', 'detergent-white', 'bottle-blue5l', 'bottle-blue5l-full', 'glass-transp', 'glass-dark', 'glass-green'] #class names \n",
        "}"
      ],
      "metadata": {
        "id": "-cRdvbtyZisQ"
      },
      "execution_count": null,
      "outputs": []
    },
    {
      "cell_type": "code",
      "source": [
        "# create yaml file \n",
        "with open(\"dataset_validation.yaml\" , \"w\") as f:\n",
        "   yaml.dump(data_validation,f,default_flow_style = False)"
      ],
      "metadata": {
        "id": "uQAWoIoWK7S8"
      },
      "execution_count": null,
      "outputs": []
    },
    {
      "cell_type": "code",
      "source": [
        "# save yaml file to google drive\n",
        "!cp /content/dataset_validation.yaml /content/drive/MyDrive/exam/yolov8/dataset_validation.yaml"
      ],
      "metadata": {
        "id": "lNtbZTByZ8Ds"
      },
      "execution_count": null,
      "outputs": []
    },
    {
      "cell_type": "markdown",
      "source": [
        "Validate trained model\n",
        "\n",
        "Graphs and metrics will be produced "
      ],
      "metadata": {
        "id": "c58A6_YGuNT0"
      }
    },
    {
      "cell_type": "code",
      "source": [
        "!yolo task=detect mode=val model=/content/drive/MyDrive/exam/yolov8/training_results/garbage_detection/weights/best.pt data=/content/drive/MyDrive/exam/yolov8/dataset_validation.yaml"
      ],
      "metadata": {
        "colab": {
          "base_uri": "https://localhost:8080/"
        },
        "id": "MRNpcOOnXRkd",
        "outputId": "e7e31359-517b-400b-a90d-7af8528a7595"
      },
      "execution_count": null,
      "outputs": [
        {
          "output_type": "stream",
          "name": "stdout",
          "text": [
            "Ultralytics YOLOv8.0.80 🚀 Python-3.9.16 torch-2.0.0+cu118 CUDA:0 (Tesla T4, 15102MiB)\n",
            "Model summary (fused): 218 layers, 25855972 parameters, 0 gradients, 78.8 GFLOPs\n",
            "\u001b[34m\u001b[1mval: \u001b[0mScanning /content/yolo_val_data/labels/validation... 502 images, 0 backgrounds, 0 corrupt: 100% 502/502 [00:00<00:00, 2254.36it/s]\n",
            "\u001b[34m\u001b[1mval: \u001b[0mNew cache created: /content/yolo_val_data/labels/validation.cache\n",
            "                 Class     Images  Instances      Box(P          R      mAP50  mAP50-95): 100% 32/32 [00:20<00:00,  1.54it/s]\n",
            "                   all        502       1484      0.565      0.466      0.518      0.408\n",
            "           bottle-blue        502         99      0.465      0.545      0.527      0.406\n",
            "          bottle-green        502         69      0.635      0.696       0.69      0.527\n",
            "           bottle-dark        502         91      0.632      0.703      0.769      0.616\n",
            "           bottle-milk        502         55      0.411      0.418      0.421      0.327\n",
            "         bottle-transp        502        221      0.512      0.421      0.455      0.332\n",
            "     bottle-multicolor        502         27      0.281      0.185      0.245      0.202\n",
            "         bottle-yogurt        502         39      0.576      0.128      0.351      0.256\n",
            "            bottle-oil        502         46      0.303      0.239      0.216      0.174\n",
            "                  cans        502         92      0.404      0.402      0.396      0.275\n",
            "       juice-cardboard        502         66      0.476      0.106      0.204      0.146\n",
            "        milk-cardboard        502         91      0.701      0.297      0.385       0.29\n",
            "       detergent-color        502         43       0.44      0.326      0.321      0.259\n",
            " detergent-transparent        502         41      0.292      0.195      0.182      0.126\n",
            "         detergent-box        502         17          1      0.519      0.694      0.546\n",
            "              canister        502         27      0.399      0.407      0.395      0.322\n",
            "      bottle-blue-full        502         40      0.537      0.639      0.622      0.513\n",
            "    bottle-transp-full        502         90      0.734      0.675      0.698      0.552\n",
            "      bottle-dark-full        502         30      0.747      0.787      0.788       0.67\n",
            "     bottle-green-full        502         34      0.698      0.824      0.834      0.711\n",
            "bottle-multicolor-full        502         20      0.704        0.6      0.677       0.58\n",
            "      bottle-milk-full        502         20       0.64        0.8      0.761      0.674\n",
            "       bottle-oil-full        502          8      0.295      0.125      0.263      0.223\n",
            "       detergent-white        502         41      0.398      0.195      0.222       0.17\n",
            "         bottle-blue5l        502         70      0.529      0.714      0.691      0.538\n",
            "    bottle-blue5l-full        502         22      0.717      0.727      0.832      0.746\n",
            "          glass-transp        502         35      0.715      0.257      0.483      0.317\n",
            "            glass-dark        502         25      0.777       0.52      0.664      0.428\n",
            "           glass-green        502         25      0.788      0.594      0.722      0.513\n",
            "Speed: 0.7ms preprocess, 21.1ms inference, 0.0ms loss, 3.2ms postprocess per image\n",
            "Results saved to \u001b[1mruns/detect/val\u001b[0m\n"
          ]
        }
      ]
    },
    {
      "cell_type": "code",
      "source": [
        "# save validation results to a folder in your Drive with the name validation\n",
        "!cp -r /content/runs/detect/val /content/drive/MyDrive/exam/yolov8/validation"
      ],
      "metadata": {
        "id": "UJzPvdIELt3W"
      },
      "execution_count": null,
      "outputs": []
    },
    {
      "cell_type": "markdown",
      "source": [
        "## Testing\n",
        "\n",
        "Test using the 10 test images"
      ],
      "metadata": {
        "id": "vNONMPNjQz0R"
      }
    },
    {
      "cell_type": "code",
      "source": [
        "# test using the best weights from the training_results folder\n",
        "!yolo task=detect mode=predict model=/content/drive/MyDrive/exam/yolov8/training_results/garbage_detection/weights/best.pt conf=0.30 source=/content/yolo_val_data/images/test save=True"
      ],
      "metadata": {
        "colab": {
          "base_uri": "https://localhost:8080/"
        },
        "id": "UbAgScfLxhaJ",
        "outputId": "e79c3b57-741b-4c02-c9e9-6a4e85c55053"
      },
      "execution_count": null,
      "outputs": [
        {
          "output_type": "stream",
          "name": "stdout",
          "text": [
            "Ultralytics YOLOv8.0.80 🚀 Python-3.9.16 torch-2.0.0+cu118 CUDA:0 (Tesla T4, 15102MiB)\n",
            "Model summary (fused): 218 layers, 25855972 parameters, 0 gradients, 78.8 GFLOPs\n",
            "\n",
            "image 1/20 /content/yolo_val_data/images/test/Monitoring_photo_2_test_25-Mar_11-23-20.jpg: 640x640 (no detections), 37.7ms\n",
            "image 2/20 /content/yolo_val_data/images/test/Monitoring_photo_2_test_25-Mar_11-43-12.jpg: 640x640 1 bottle-yogurt, 1 cans, 34.1ms\n",
            "image 3/20 /content/yolo_val_data/images/test/Monitoring_photo_2_test_25-Mar_12-52-13.jpg: 640x640 (no detections), 34.1ms\n",
            "image 4/20 /content/yolo_val_data/images/test/Monitoring_photo_test_25-Mar_11-14-50.jpg: 640x640 1 bottle-transp, 34.0ms\n",
            "image 5/20 /content/yolo_val_data/images/test/Monitoring_photo_test_25-Mar_11-18-00.jpg: 640x640 (no detections), 34.0ms\n",
            "image 6/20 /content/yolo_val_data/images/test/Monitoring_photo_test_25-Mar_11-19-20.jpg: 640x640 1 bottle-transp, 34.0ms\n",
            "image 7/20 /content/yolo_val_data/images/test/Monitoring_photo_test_25-Mar_11-25-10.jpg: 640x640 1 bottle-transp-full, 22.8ms\n",
            "image 8/20 /content/yolo_val_data/images/test/Monitoring_photo_test_25-Mar_11-39-16.jpg: 640x640 1 bottle-transp, 22.7ms\n",
            "image 9/20 /content/yolo_val_data/images/test/Monitoring_photo_test_25-Mar_11-42-22.jpg: 640x640 1 milk-cardboard, 1 canister, 22.4ms\n",
            "image 10/20 /content/yolo_val_data/images/test/Monitoring_photo_test_25-Mar_11-42-51.jpg: 640x640 2 bottle-blues, 1 bottle-green, 22.4ms\n",
            "image 11/20 /content/yolo_val_data/images/test/Monitoring_photo_test_25-Mar_12-06-32.jpg: 640x640 1 bottle-dark, 1 bottle-transp, 22.4ms\n",
            "image 12/20 /content/yolo_val_data/images/test/Monitoring_photo_test_25-Mar_12-29-11.jpg: 640x640 1 bottle-multicolor, 17.9ms\n",
            "image 13/20 /content/yolo_val_data/images/test/POSAD_1_11-Sep_11-45-52.jpg: 640x640 1 detergent-color, 1 bottle-transp-full, 1 bottle-dark-full, 17.7ms\n",
            "image 14/20 /content/yolo_val_data/images/test/POSAD_1_11-Sep_16-15-21.jpg: 640x640 1 bottle-green, 1 bottle-dark, 1 bottle-transp, 1 canister, 18.1ms\n",
            "image 15/20 /content/yolo_val_data/images/test/POSAD_1_11-Sep_17-00-04.jpg: 640x640 1 bottle-green, 2 bottle-transp-fulls, 1 bottle-milk-full, 1 bottle-blue5l, 17.6ms\n",
            "image 16/20 /content/yolo_val_data/images/test/POSAD_1_11-Sep_17-17-18.jpg: 640x640 1 bottle-green, 1 bottle-dark, 1 detergent-transparent, 2 bottle-blue-fulls, 1 detergent-white, 1 bottle-blue5l-full, 17.9ms\n",
            "image 17/20 /content/yolo_val_data/images/test/POSAD_1_12-Sep_14-29-41.jpg: 640x640 1 bottle-dark, 4 bottle-transps, 1 bottle-yogurt, 1 bottle-dark-full, 5 bottle-blue5ls, 2 bottle-blue5l-fulls, 17.3ms\n",
            "image 18/20 /content/yolo_val_data/images/test/POSAD_1_12-Sep_21-13-43.jpg: 640x640 1 bottle-blue, 2 bottle-greens, 1 canister, 1 bottle-multicolor-full, 17.1ms\n",
            "image 19/20 /content/yolo_val_data/images/test/prepared_data_all_MGS-27-Oct_16-16-38.jpg: 640x640 1 bottle-blue, 1 bottle-green, 2 canss, 2 bottle-blue-fulls, 1 bottle-green-full, 17.3ms\n",
            "image 20/20 /content/yolo_val_data/images/test/prepared_data_all_MGS-27-Oct_23-58-29.jpg: 640x640 1 milk-cardboard, 1 bottle-dark-full, 1 glass-transp, 17.2ms\n",
            "Speed: 0.5ms preprocess, 23.9ms inference, 5.8ms postprocess per image at shape (1, 3, 640, 640)\n",
            "Results saved to \u001b[1mruns/detect/predict\u001b[0m\n"
          ]
        }
      ]
    },
    {
      "cell_type": "code",
      "source": [
        "# save prediction results to output folder in google drive\n",
        "!cp -r /content/runs/detect/predict /content/drive/MyDrive/exam/yolov8/predictions"
      ],
      "metadata": {
        "id": "wAMAtjwFxhcf"
      },
      "execution_count": null,
      "outputs": []
    }
  ]
}